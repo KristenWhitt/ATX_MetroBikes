{
 "cells": [
  {
   "cell_type": "markdown",
   "id": "a70fef4c",
   "metadata": {},
   "source": [
    "## 1. Import libraries"
   ]
  },
  {
   "cell_type": "code",
   "execution_count": 1,
   "id": "926b195a",
   "metadata": {},
   "outputs": [],
   "source": [
    "import pandas as pd\n",
    "import numpy as np\n",
    "import os"
   ]
  },
  {
   "cell_type": "code",
   "execution_count": 2,
   "id": "26fddf16",
   "metadata": {},
   "outputs": [],
   "source": [
    "#create file path\n",
    "path = r'C:\\Users\\krist\\ATX Metro Bike'"
   ]
  },
  {
   "cell_type": "code",
   "execution_count": 3,
   "id": "c14b9b0a",
   "metadata": {},
   "outputs": [
    {
     "data": {
      "text/html": [
       "<div>\n",
       "<style scoped>\n",
       "    .dataframe tbody tr th:only-of-type {\n",
       "        vertical-align: middle;\n",
       "    }\n",
       "\n",
       "    .dataframe tbody tr th {\n",
       "        vertical-align: top;\n",
       "    }\n",
       "\n",
       "    .dataframe thead th {\n",
       "        text-align: right;\n",
       "    }\n",
       "</style>\n",
       "<table border=\"1\" class=\"dataframe\">\n",
       "  <thead>\n",
       "    <tr style=\"text-align: right;\">\n",
       "      <th></th>\n",
       "      <th>Trip ID</th>\n",
       "      <th>Membership Type</th>\n",
       "      <th>Bicycle ID</th>\n",
       "      <th>Bike Type</th>\n",
       "      <th>Checkout Datetime</th>\n",
       "      <th>Checkout Date</th>\n",
       "      <th>Checkout Time</th>\n",
       "      <th>Checkout Kiosk ID</th>\n",
       "      <th>Checkout Kiosk Name</th>\n",
       "      <th>Return Kiosk ID</th>\n",
       "      <th>...</th>\n",
       "      <th>Checkout Name Current</th>\n",
       "      <th>Checkout Kiosk ID current</th>\n",
       "      <th>Checkout Kiosk Status</th>\n",
       "      <th>Checkout Kiosk Geographic Location</th>\n",
       "      <th>Checkout Kiosk Dock Count</th>\n",
       "      <th>Return Name Current</th>\n",
       "      <th>Return Kiosk ID current</th>\n",
       "      <th>Return Kiosk Status</th>\n",
       "      <th>Return Kiosk Geographic Location</th>\n",
       "      <th>Return Kiosk Dock Count</th>\n",
       "    </tr>\n",
       "  </thead>\n",
       "  <tbody>\n",
       "    <tr>\n",
       "      <th>0</th>\n",
       "      <td>16459203</td>\n",
       "      <td>Local365</td>\n",
       "      <td>37</td>\n",
       "      <td>classic</td>\n",
       "      <td>2017-12-01 09:51:41</td>\n",
       "      <td>2017-12-01</td>\n",
       "      <td>2023-09-14 09:51:41</td>\n",
       "      <td>2496.0</td>\n",
       "      <td>8th &amp; Congress</td>\n",
       "      <td>2495</td>\n",
       "      <td>...</td>\n",
       "      <td>8th &amp; Congress</td>\n",
       "      <td>2496.0</td>\n",
       "      <td>active</td>\n",
       "      <td>(30.2698, -97.74186)</td>\n",
       "      <td>14.0</td>\n",
       "      <td>4th &amp; Congress</td>\n",
       "      <td>2495.0</td>\n",
       "      <td>active</td>\n",
       "      <td>(30.26634, -97.74378)</td>\n",
       "      <td>15.0</td>\n",
       "    </tr>\n",
       "    <tr>\n",
       "      <th>1</th>\n",
       "      <td>4106422</td>\n",
       "      <td>Local365</td>\n",
       "      <td>971</td>\n",
       "      <td>classic</td>\n",
       "      <td>2015-03-13 16:20:24</td>\n",
       "      <td>2015-03-13</td>\n",
       "      <td>2023-09-14 16:20:24</td>\n",
       "      <td>2495.0</td>\n",
       "      <td>4th/Congress</td>\n",
       "      <td>2495</td>\n",
       "      <td>...</td>\n",
       "      <td>4th &amp; Congress</td>\n",
       "      <td>2495.0</td>\n",
       "      <td>active</td>\n",
       "      <td>(30.26634, -97.74378)</td>\n",
       "      <td>15.0</td>\n",
       "      <td>4th &amp; Congress</td>\n",
       "      <td>2495.0</td>\n",
       "      <td>active</td>\n",
       "      <td>(30.26634, -97.74378)</td>\n",
       "      <td>15.0</td>\n",
       "    </tr>\n",
       "    <tr>\n",
       "      <th>2</th>\n",
       "      <td>3454605</td>\n",
       "      <td>Local365</td>\n",
       "      <td>29</td>\n",
       "      <td>classic</td>\n",
       "      <td>2014-10-14 08:33:54</td>\n",
       "      <td>2014-10-14</td>\n",
       "      <td>2023-09-14 08:33:54</td>\n",
       "      <td>2712.0</td>\n",
       "      <td>Toomey Rd @ South Lamar</td>\n",
       "      <td>2575</td>\n",
       "      <td>...</td>\n",
       "      <td>Toomey Rd @ South Lamar</td>\n",
       "      <td>2712.0</td>\n",
       "      <td>closed</td>\n",
       "      <td>(30.26304, -97.75824)</td>\n",
       "      <td>0.0</td>\n",
       "      <td>Riverside @ S. Lamar</td>\n",
       "      <td>2575.0</td>\n",
       "      <td>active</td>\n",
       "      <td>(30.26446, -97.75665)</td>\n",
       "      <td>15.0</td>\n",
       "    </tr>\n",
       "    <tr>\n",
       "      <th>3</th>\n",
       "      <td>3454592</td>\n",
       "      <td>Local365</td>\n",
       "      <td>646</td>\n",
       "      <td>classic</td>\n",
       "      <td>2014-10-14 08:32:03</td>\n",
       "      <td>2014-10-14</td>\n",
       "      <td>2023-09-14 08:32:03</td>\n",
       "      <td>2552.0</td>\n",
       "      <td>3rd/West</td>\n",
       "      <td>2496</td>\n",
       "      <td>...</td>\n",
       "      <td>3rd &amp; West</td>\n",
       "      <td>2552.0</td>\n",
       "      <td>active</td>\n",
       "      <td>(30.2678, -97.75189)</td>\n",
       "      <td>13.0</td>\n",
       "      <td>8th &amp; Congress</td>\n",
       "      <td>2496.0</td>\n",
       "      <td>active</td>\n",
       "      <td>(30.2698, -97.74186)</td>\n",
       "      <td>14.0</td>\n",
       "    </tr>\n",
       "    <tr>\n",
       "      <th>4</th>\n",
       "      <td>4106421</td>\n",
       "      <td>24 Hour Walk Up Pass</td>\n",
       "      <td>124</td>\n",
       "      <td>classic</td>\n",
       "      <td>2015-03-13 16:20:15</td>\n",
       "      <td>2015-03-13</td>\n",
       "      <td>2023-09-14 16:20:15</td>\n",
       "      <td>2498.0</td>\n",
       "      <td>Dean Keeton/Speedway</td>\n",
       "      <td>2549</td>\n",
       "      <td>...</td>\n",
       "      <td>Dean Keeton &amp; Speedway</td>\n",
       "      <td>3794.0</td>\n",
       "      <td>active</td>\n",
       "      <td>(30.28953, -97.73695)</td>\n",
       "      <td>19.0</td>\n",
       "      <td>Long Center @ South 1st &amp; Riverside</td>\n",
       "      <td>2549.0</td>\n",
       "      <td>active</td>\n",
       "      <td>(30.25941, -97.74971)</td>\n",
       "      <td>13.0</td>\n",
       "    </tr>\n",
       "  </tbody>\n",
       "</table>\n",
       "<p>5 rows × 24 columns</p>\n",
       "</div>"
      ],
      "text/plain": [
       "    Trip ID       Membership Type Bicycle ID Bike Type   Checkout Datetime  \\\n",
       "0  16459203              Local365         37   classic 2017-12-01 09:51:41   \n",
       "1   4106422              Local365        971   classic 2015-03-13 16:20:24   \n",
       "2   3454605              Local365         29   classic 2014-10-14 08:33:54   \n",
       "3   3454592              Local365        646   classic 2014-10-14 08:32:03   \n",
       "4   4106421  24 Hour Walk Up Pass        124   classic 2015-03-13 16:20:15   \n",
       "\n",
       "  Checkout Date       Checkout Time  Checkout Kiosk ID  \\\n",
       "0    2017-12-01 2023-09-14 09:51:41             2496.0   \n",
       "1    2015-03-13 2023-09-14 16:20:24             2495.0   \n",
       "2    2014-10-14 2023-09-14 08:33:54             2712.0   \n",
       "3    2014-10-14 2023-09-14 08:32:03             2552.0   \n",
       "4    2015-03-13 2023-09-14 16:20:15             2498.0   \n",
       "\n",
       "       Checkout Kiosk Name Return Kiosk ID  ...    Checkout Name Current  \\\n",
       "0           8th & Congress            2495  ...           8th & Congress   \n",
       "1             4th/Congress            2495  ...           4th & Congress   \n",
       "2  Toomey Rd @ South Lamar            2575  ...  Toomey Rd @ South Lamar   \n",
       "3                 3rd/West            2496  ...               3rd & West   \n",
       "4     Dean Keeton/Speedway            2549  ...   Dean Keeton & Speedway   \n",
       "\n",
       "   Checkout Kiosk ID current  Checkout Kiosk Status  \\\n",
       "0                     2496.0                 active   \n",
       "1                     2495.0                 active   \n",
       "2                     2712.0                 closed   \n",
       "3                     2552.0                 active   \n",
       "4                     3794.0                 active   \n",
       "\n",
       "   Checkout Kiosk Geographic Location Checkout Kiosk Dock Count  \\\n",
       "0                (30.2698, -97.74186)                      14.0   \n",
       "1               (30.26634, -97.74378)                      15.0   \n",
       "2               (30.26304, -97.75824)                       0.0   \n",
       "3                (30.2678, -97.75189)                      13.0   \n",
       "4               (30.28953, -97.73695)                      19.0   \n",
       "\n",
       "                   Return Name Current Return Kiosk ID current  \\\n",
       "0                       4th & Congress                  2495.0   \n",
       "1                       4th & Congress                  2495.0   \n",
       "2                 Riverside @ S. Lamar                  2575.0   \n",
       "3                       8th & Congress                  2496.0   \n",
       "4  Long Center @ South 1st & Riverside                  2549.0   \n",
       "\n",
       "  Return Kiosk Status  Return Kiosk Geographic Location  \\\n",
       "0              active             (30.26634, -97.74378)   \n",
       "1              active             (30.26634, -97.74378)   \n",
       "2              active             (30.26446, -97.75665)   \n",
       "3              active              (30.2698, -97.74186)   \n",
       "4              active             (30.25941, -97.74971)   \n",
       "\n",
       "  Return Kiosk Dock Count  \n",
       "0                    15.0  \n",
       "1                    15.0  \n",
       "2                    15.0  \n",
       "3                    14.0  \n",
       "4                    13.0  \n",
       "\n",
       "[5 rows x 24 columns]"
      ]
     },
     "execution_count": 3,
     "metadata": {},
     "output_type": "execute_result"
    }
   ],
   "source": [
    "#import merged dataset and check import\n",
    "metrobikes = pd.read_pickle(os.path.join(path,\n",
    "                                      '02.Data', \n",
    "                                      'PreparedData', \n",
    "                                      'metrobikes_locations_merged.pkl'))\n",
    "metrobikes.head()"
   ]
  },
  {
   "cell_type": "code",
   "execution_count": 4,
   "id": "d556cf02",
   "metadata": {},
   "outputs": [
    {
     "data": {
      "text/plain": [
       "(1976948, 24)"
      ]
     },
     "execution_count": 4,
     "metadata": {},
     "output_type": "execute_result"
    }
   ],
   "source": [
    "#check shape\n",
    "metrobikes.shape"
   ]
  },
  {
   "cell_type": "markdown",
   "id": "1aaf1b94",
   "metadata": {},
   "source": [
    "## 2. Check new dataset missing values"
   ]
  },
  {
   "cell_type": "code",
   "execution_count": 5,
   "id": "e741ffed",
   "metadata": {},
   "outputs": [
    {
     "data": {
      "text/plain": [
       "Trip ID                                   0\n",
       "Membership Type                        5217\n",
       "Bicycle ID                                0\n",
       "Bike Type                                 0\n",
       "Checkout Datetime                         0\n",
       "Checkout Date                             0\n",
       "Checkout Time                             0\n",
       "Checkout Kiosk ID                      4440\n",
       "Checkout Kiosk Name                       0\n",
       "Return Kiosk ID                       31487\n",
       "Return Kiosk Name                         0\n",
       "Trip Time mins                            0\n",
       "Month                                     0\n",
       "Year                                      0\n",
       "Checkout Name Current                 70481\n",
       "Checkout Kiosk ID current             70481\n",
       "Checkout Kiosk Status                 70482\n",
       "Checkout Kiosk Geographic Location    70482\n",
       "Checkout Kiosk Dock Count             70482\n",
       "Return Name Current                   70945\n",
       "Return Kiosk ID current               70945\n",
       "Return Kiosk Status                   70951\n",
       "Return Kiosk Geographic Location      70951\n",
       "Return Kiosk Dock Count               70951\n",
       "dtype: int64"
      ]
     },
     "execution_count": 5,
     "metadata": {},
     "output_type": "execute_result"
    }
   ],
   "source": [
    "metrobikes.isnull().sum()"
   ]
  },
  {
   "cell_type": "markdown",
   "id": "57c64c56",
   "metadata": {},
   "source": [
    "### change 5217 missing membership types to unknown"
   ]
  },
  {
   "cell_type": "code",
   "execution_count": 6,
   "id": "f64cd74f",
   "metadata": {},
   "outputs": [],
   "source": [
    "# mark missing membership types as unknown\n",
    "metrobikes['Membership Type'].fillna('Unkown', inplace=True)"
   ]
  },
  {
   "cell_type": "code",
   "execution_count": 7,
   "id": "7772b599",
   "metadata": {
    "scrolled": true
   },
   "outputs": [
    {
     "data": {
      "text/plain": [
       "Trip ID                                   0\n",
       "Membership Type                           0\n",
       "Bicycle ID                                0\n",
       "Bike Type                                 0\n",
       "Checkout Datetime                         0\n",
       "Checkout Date                             0\n",
       "Checkout Time                             0\n",
       "Checkout Kiosk ID                      4440\n",
       "Checkout Kiosk Name                       0\n",
       "Return Kiosk ID                       31487\n",
       "Return Kiosk Name                         0\n",
       "Trip Time mins                            0\n",
       "Month                                     0\n",
       "Year                                      0\n",
       "Checkout Name Current                 70481\n",
       "Checkout Kiosk ID current             70481\n",
       "Checkout Kiosk Status                 70482\n",
       "Checkout Kiosk Geographic Location    70482\n",
       "Checkout Kiosk Dock Count             70482\n",
       "Return Name Current                   70945\n",
       "Return Kiosk ID current               70945\n",
       "Return Kiosk Status                   70951\n",
       "Return Kiosk Geographic Location      70951\n",
       "Return Kiosk Dock Count               70951\n",
       "dtype: int64"
      ]
     },
     "execution_count": 7,
     "metadata": {},
     "output_type": "execute_result"
    }
   ],
   "source": [
    "#check missing is successful\n",
    "metrobikes.isnull().sum()"
   ]
  },
  {
   "cell_type": "markdown",
   "id": "ea179003",
   "metadata": {},
   "source": [
    "### 3.5% of rows have missings"
   ]
  },
  {
   "cell_type": "code",
   "execution_count": 8,
   "id": "95650b9b",
   "metadata": {},
   "outputs": [
    {
     "data": {
      "text/plain": [
       "Local365                                     358303\n",
       "U.T. Student Membership                      286396\n",
       "24 Hour Walk Up Pass                         270095\n",
       "Student Membership                           269829\n",
       "Walk Up                                      257955\n",
       "                                              ...  \n",
       "Membership: pay once, one-year commitment         2\n",
       "Annual Pass (30 minute)                           2\n",
       "Heartland Pass (Monthly Pay)                      1\n",
       "RESTRICTED                                        1\n",
       "24-Hour Membership                                1\n",
       "Name: Membership Type, Length: 61, dtype: int64"
      ]
     },
     "execution_count": 8,
     "metadata": {},
     "output_type": "execute_result"
    }
   ],
   "source": [
    "#check categories of membership type for successful handling of missings\n",
    "metrobikes['Membership Type'].value_counts()"
   ]
  },
  {
   "cell_type": "markdown",
   "id": "6a1f0839",
   "metadata": {},
   "source": [
    "## 3. Investigate missing values in checkout and return kiosks"
   ]
  },
  {
   "cell_type": "code",
   "execution_count": 9,
   "id": "0461dac3",
   "metadata": {
    "scrolled": true
   },
   "outputs": [
    {
     "data": {
      "text/html": [
       "<div>\n",
       "<style scoped>\n",
       "    .dataframe tbody tr th:only-of-type {\n",
       "        vertical-align: middle;\n",
       "    }\n",
       "\n",
       "    .dataframe tbody tr th {\n",
       "        vertical-align: top;\n",
       "    }\n",
       "\n",
       "    .dataframe thead th {\n",
       "        text-align: right;\n",
       "    }\n",
       "</style>\n",
       "<table border=\"1\" class=\"dataframe\">\n",
       "  <thead>\n",
       "    <tr style=\"text-align: right;\">\n",
       "      <th></th>\n",
       "      <th>Checkout Kiosk Name</th>\n",
       "      <th>Checkout Name Current</th>\n",
       "    </tr>\n",
       "  </thead>\n",
       "  <tbody>\n",
       "    <tr>\n",
       "      <th>20</th>\n",
       "      <td>Guadalupe &amp; 6th</td>\n",
       "      <td>NaN</td>\n",
       "    </tr>\n",
       "    <tr>\n",
       "      <th>105</th>\n",
       "      <td>Rainey/Davis</td>\n",
       "      <td>NaN</td>\n",
       "    </tr>\n",
       "    <tr>\n",
       "      <th>106</th>\n",
       "      <td>Rainey/Davis</td>\n",
       "      <td>NaN</td>\n",
       "    </tr>\n",
       "    <tr>\n",
       "      <th>107</th>\n",
       "      <td>Rainey/Davis</td>\n",
       "      <td>NaN</td>\n",
       "    </tr>\n",
       "    <tr>\n",
       "      <th>110</th>\n",
       "      <td>Rainey/Davis</td>\n",
       "      <td>NaN</td>\n",
       "    </tr>\n",
       "  </tbody>\n",
       "</table>\n",
       "</div>"
      ],
      "text/plain": [
       "    Checkout Kiosk Name Checkout Name Current\n",
       "20      Guadalupe & 6th                   NaN\n",
       "105        Rainey/Davis                   NaN\n",
       "106        Rainey/Davis                   NaN\n",
       "107        Rainey/Davis                   NaN\n",
       "110        Rainey/Davis                   NaN"
      ]
     },
     "execution_count": 9,
     "metadata": {},
     "output_type": "execute_result"
    }
   ],
   "source": [
    "#create missing subset\n",
    "chckt_name_current = metrobikes[metrobikes['Checkout Name Current'].isnull() == True]\n",
    "chckt_name_current[['Checkout Kiosk Name', 'Checkout Name Current']].head()"
   ]
  },
  {
   "cell_type": "code",
   "execution_count": 10,
   "id": "92abe0c0",
   "metadata": {},
   "outputs": [
    {
     "data": {
      "text/plain": [
       "Davis at Rainey Street                         20861\n",
       "Convention Center / 4th St. @ MetroRail        17239\n",
       "Rainey/Davis                                   15644\n",
       "23rd/Pearl                                      9721\n",
       "Republic Square @ Federal Courthouse Plaza      4017\n",
       "One Texas Center                                 949\n",
       "Guadalupe & 6th                                  948\n",
       "Dean Keeton/Park Place                           917\n",
       "4th/Neches @ MetroRail Downtown                   37\n",
       "MapJam at Pan Am Park                             32\n",
       "Springfest 2022                                   32\n",
       "MapJam at French Legation                         26\n",
       "MapJam at Hops & Grain Brewery                    17\n",
       "MapJam at Scoot Inn                               11\n",
       "Mobile Station @ Boardwalk Opening Ceremony        9\n",
       "Re-branding                                        5\n",
       "Customer Service                                   4\n",
       "Marketing Event                                    4\n",
       "Mobile Station @ Unplugged                         4\n",
       "Eeyore's 2018                                      2\n",
       "Mobile Station                                     1\n",
       "Eeyore's 2017                                      1\n",
       "Name: Checkout Kiosk Name, dtype: int64"
      ]
     },
     "execution_count": 10,
     "metadata": {},
     "output_type": "execute_result"
    }
   ],
   "source": [
    "#check frequencies of return kiosk names in return missing subset\n",
    "chckt_name_current['Checkout Kiosk Name'].value_counts()"
   ]
  },
  {
   "cell_type": "markdown",
   "id": "715fa692",
   "metadata": {},
   "source": [
    "### checkout kiosk names are at locations that no longer exist, result from a jam, or special events"
   ]
  },
  {
   "cell_type": "code",
   "execution_count": 11,
   "id": "b9133032",
   "metadata": {},
   "outputs": [
    {
     "data": {
      "text/html": [
       "<div>\n",
       "<style scoped>\n",
       "    .dataframe tbody tr th:only-of-type {\n",
       "        vertical-align: middle;\n",
       "    }\n",
       "\n",
       "    .dataframe tbody tr th {\n",
       "        vertical-align: top;\n",
       "    }\n",
       "\n",
       "    .dataframe thead th {\n",
       "        text-align: right;\n",
       "    }\n",
       "</style>\n",
       "<table border=\"1\" class=\"dataframe\">\n",
       "  <thead>\n",
       "    <tr style=\"text-align: right;\">\n",
       "      <th></th>\n",
       "      <th>Return Kiosk Name</th>\n",
       "      <th>Return Name Current</th>\n",
       "    </tr>\n",
       "  </thead>\n",
       "  <tbody>\n",
       "    <tr>\n",
       "      <th>31</th>\n",
       "      <td>Davis at Rainey Street</td>\n",
       "      <td>NaN</td>\n",
       "    </tr>\n",
       "    <tr>\n",
       "      <th>72</th>\n",
       "      <td>Rainey/Davis</td>\n",
       "      <td>NaN</td>\n",
       "    </tr>\n",
       "    <tr>\n",
       "      <th>85</th>\n",
       "      <td>Rainey/Davis</td>\n",
       "      <td>NaN</td>\n",
       "    </tr>\n",
       "    <tr>\n",
       "      <th>202</th>\n",
       "      <td>Rainey/Davis</td>\n",
       "      <td>NaN</td>\n",
       "    </tr>\n",
       "    <tr>\n",
       "      <th>205</th>\n",
       "      <td>Rainey/Davis</td>\n",
       "      <td>NaN</td>\n",
       "    </tr>\n",
       "  </tbody>\n",
       "</table>\n",
       "</div>"
      ],
      "text/plain": [
       "          Return Kiosk Name Return Name Current\n",
       "31   Davis at Rainey Street                 NaN\n",
       "72             Rainey/Davis                 NaN\n",
       "85             Rainey/Davis                 NaN\n",
       "202            Rainey/Davis                 NaN\n",
       "205            Rainey/Davis                 NaN"
      ]
     },
     "execution_count": 11,
     "metadata": {},
     "output_type": "execute_result"
    }
   ],
   "source": [
    "#create missing subset and check original return names and to see if they are in current location list\n",
    "retrn_name_current = metrobikes[metrobikes['Return Name Current'].isnull() == True]\n",
    "retrn_name_current[['Return Kiosk Name', 'Return Name Current']].head()"
   ]
  },
  {
   "cell_type": "code",
   "execution_count": 12,
   "id": "0e74732d",
   "metadata": {},
   "outputs": [
    {
     "data": {
      "text/plain": [
       "Davis at Rainey Street                         20942\n",
       "Convention Center / 4th St. @ MetroRail        18115\n",
       "Rainey/Davis                                   15561\n",
       "23rd/Pearl                                      9239\n",
       "Republic Square @ Federal Courthouse Plaza      3752\n",
       "Dean Keeton/Park Place                          1053\n",
       "Guadalupe & 6th                                  958\n",
       "One Texas Center                                 829\n",
       "Customer Service                                 141\n",
       "ACL 2019 Drop Off                                119\n",
       "4th/Neches @ MetroRail Downtown                   44\n",
       "MapJam at Pan Am Park                             39\n",
       "MapJam at French Legation                         28\n",
       "Springfest 2022                                   25\n",
       "MapJam at Hops & Grain Brewery                    24\n",
       "MapJam at Scoot Inn                               19\n",
       "Fantasy Zilker                                    14\n",
       "Mobile Station @ Unplugged                        13\n",
       "Marketing Event                                   11\n",
       "Mobile Station                                     8\n",
       "Mobile Station @ Boardwalk Opening Ceremony        4\n",
       "Eeyore's 2017                                      4\n",
       "Earth Day ATX 2017                                 2\n",
       "Re-branding                                        1\n",
       "Name: Return Kiosk Name, dtype: int64"
      ]
     },
     "execution_count": 12,
     "metadata": {},
     "output_type": "execute_result"
    }
   ],
   "source": [
    "#check frequencies of return kiosk names in return missing subset\n",
    "retrn_name_current['Return Kiosk Name'].value_counts()"
   ]
  },
  {
   "cell_type": "markdown",
   "id": "f230c262",
   "metadata": {},
   "source": [
    "### return kiosk names are at locations that no longer exist, result from a jam, or special events"
   ]
  },
  {
   "cell_type": "markdown",
   "id": "ec2e0b76",
   "metadata": {},
   "source": [
    "## 4. Remove rows with missing values in Return Name Current because location data not available and/or locations no longer exist"
   ]
  },
  {
   "cell_type": "code",
   "execution_count": 13,
   "id": "1cb7d302",
   "metadata": {},
   "outputs": [],
   "source": [
    "#remove rows where return name current is NaN\n",
    "metrobikes_clean = metrobikes.drop(metrobikes[metrobikes['Return Name Current'].isnull() == True].index)"
   ]
  },
  {
   "cell_type": "code",
   "execution_count": 14,
   "id": "e2c1d23c",
   "metadata": {},
   "outputs": [
    {
     "data": {
      "text/plain": [
       "Trip ID                                   0\n",
       "Membership Type                           0\n",
       "Bicycle ID                                0\n",
       "Bike Type                                 0\n",
       "Checkout Datetime                         0\n",
       "Checkout Date                             0\n",
       "Checkout Time                             0\n",
       "Checkout Kiosk ID                      4367\n",
       "Checkout Kiosk Name                       0\n",
       "Return Kiosk ID                       30204\n",
       "Return Kiosk Name                         0\n",
       "Trip Time mins                            0\n",
       "Month                                     0\n",
       "Year                                      0\n",
       "Checkout Name Current                 61702\n",
       "Checkout Kiosk ID current             61702\n",
       "Checkout Kiosk Status                 61703\n",
       "Checkout Kiosk Geographic Location    61703\n",
       "Checkout Kiosk Dock Count             61703\n",
       "Return Name Current                       0\n",
       "Return Kiosk ID current                   0\n",
       "Return Kiosk Status                       6\n",
       "Return Kiosk Geographic Location          6\n",
       "Return Kiosk Dock Count                   6\n",
       "dtype: int64"
      ]
     },
     "execution_count": 14,
     "metadata": {},
     "output_type": "execute_result"
    }
   ],
   "source": [
    "#check new missings count\n",
    "metrobikes_clean.isnull().sum()"
   ]
  },
  {
   "cell_type": "code",
   "execution_count": 15,
   "id": "c71c49d1",
   "metadata": {},
   "outputs": [],
   "source": [
    "#remove rows where checkout name current is NaN\n",
    "metrobikes_clean2 = metrobikes_clean.drop(metrobikes_clean[metrobikes_clean['Checkout Name Current'].isnull() == True].index)"
   ]
  },
  {
   "cell_type": "code",
   "execution_count": 16,
   "id": "72886ecb",
   "metadata": {},
   "outputs": [
    {
     "data": {
      "text/plain": [
       "Trip ID                                   0\n",
       "Membership Type                           0\n",
       "Bicycle ID                                0\n",
       "Bike Type                                 0\n",
       "Checkout Datetime                         0\n",
       "Checkout Date                             0\n",
       "Checkout Time                             0\n",
       "Checkout Kiosk ID                      4261\n",
       "Checkout Kiosk Name                       0\n",
       "Return Kiosk ID                       29210\n",
       "Return Kiosk Name                         0\n",
       "Trip Time mins                            0\n",
       "Month                                     0\n",
       "Year                                      0\n",
       "Checkout Name Current                     0\n",
       "Checkout Kiosk ID current                 0\n",
       "Checkout Kiosk Status                     1\n",
       "Checkout Kiosk Geographic Location        1\n",
       "Checkout Kiosk Dock Count                 1\n",
       "Return Name Current                       0\n",
       "Return Kiosk ID current                   0\n",
       "Return Kiosk Status                       6\n",
       "Return Kiosk Geographic Location          6\n",
       "Return Kiosk Dock Count                   6\n",
       "dtype: int64"
      ]
     },
     "execution_count": 16,
     "metadata": {},
     "output_type": "execute_result"
    }
   ],
   "source": [
    "#check new missings count\n",
    "metrobikes_clean2.isnull().sum()"
   ]
  },
  {
   "cell_type": "markdown",
   "id": "ca20d5b7",
   "metadata": {},
   "source": [
    "## 5. Drop redundant columns and columns with old information: checkout kiosk name, checkout kiosk ID, return kiosk ID, return kiosk name"
   ]
  },
  {
   "cell_type": "code",
   "execution_count": 17,
   "id": "c429662a",
   "metadata": {},
   "outputs": [],
   "source": [
    "#create list of columns to be dropped\n",
    "drop_cols = ['Checkout Kiosk ID', 'Checkout Kiosk Name', 'Return Kiosk ID', 'Return Kiosk Name']"
   ]
  },
  {
   "cell_type": "code",
   "execution_count": 18,
   "id": "fbae7d8e",
   "metadata": {},
   "outputs": [
    {
     "name": "stdout",
     "output_type": "stream",
     "text": [
      "<class 'pandas.core.frame.DataFrame'>\n",
      "Int64Index: 1844301 entries, 0 to 1976947\n",
      "Data columns (total 20 columns):\n",
      " #   Column                              Dtype         \n",
      "---  ------                              -----         \n",
      " 0   Trip ID                             int64         \n",
      " 1   Membership Type                     object        \n",
      " 2   Bicycle ID                          object        \n",
      " 3   Bike Type                           category      \n",
      " 4   Checkout Datetime                   datetime64[ns]\n",
      " 5   Checkout Date                       datetime64[ns]\n",
      " 6   Checkout Time                       datetime64[ns]\n",
      " 7   Trip Time mins                      int64         \n",
      " 8   Month                               int64         \n",
      " 9   Year                                int64         \n",
      " 10  Checkout Name Current               object        \n",
      " 11  Checkout Kiosk ID current           float64       \n",
      " 12  Checkout Kiosk Status               object        \n",
      " 13  Checkout Kiosk Geographic Location  object        \n",
      " 14  Checkout Kiosk Dock Count           float64       \n",
      " 15  Return Name Current                 object        \n",
      " 16  Return Kiosk ID current             float64       \n",
      " 17  Return Kiosk Status                 object        \n",
      " 18  Return Kiosk Geographic Location    object        \n",
      " 19  Return Kiosk Dock Count             float64       \n",
      "dtypes: category(1), datetime64[ns](3), float64(4), int64(4), object(8)\n",
      "memory usage: 283.2+ MB\n"
     ]
    }
   ],
   "source": [
    "#drop redundant columns and check output\n",
    "metrobikes_clean2_dropcols = metrobikes_clean2.drop(columns = drop_cols)\n",
    "metrobikes_clean2_dropcols.info()"
   ]
  },
  {
   "cell_type": "markdown",
   "id": "6904d286",
   "metadata": {},
   "source": [
    "### re-check missing values"
   ]
  },
  {
   "cell_type": "code",
   "execution_count": 19,
   "id": "1ab5ed35",
   "metadata": {
    "scrolled": true
   },
   "outputs": [
    {
     "data": {
      "text/plain": [
       "Trip ID                               0\n",
       "Membership Type                       0\n",
       "Bicycle ID                            0\n",
       "Bike Type                             0\n",
       "Checkout Datetime                     0\n",
       "Checkout Date                         0\n",
       "Checkout Time                         0\n",
       "Trip Time mins                        0\n",
       "Month                                 0\n",
       "Year                                  0\n",
       "Checkout Name Current                 0\n",
       "Checkout Kiosk ID current             0\n",
       "Checkout Kiosk Status                 1\n",
       "Checkout Kiosk Geographic Location    1\n",
       "Checkout Kiosk Dock Count             1\n",
       "Return Name Current                   0\n",
       "Return Kiosk ID current               0\n",
       "Return Kiosk Status                   6\n",
       "Return Kiosk Geographic Location      6\n",
       "Return Kiosk Dock Count               6\n",
       "dtype: int64"
      ]
     },
     "execution_count": 19,
     "metadata": {},
     "output_type": "execute_result"
    }
   ],
   "source": [
    "metrobikes_clean2_dropcols.isnull().sum()"
   ]
  },
  {
   "cell_type": "markdown",
   "id": "5412c84f",
   "metadata": {},
   "source": [
    "### missings remain in checkout kiosk status and return kiosk status"
   ]
  },
  {
   "cell_type": "markdown",
   "id": "df3d23fc",
   "metadata": {},
   "source": [
    "### Investigate remaining missings"
   ]
  },
  {
   "cell_type": "code",
   "execution_count": 20,
   "id": "c1929ac4",
   "metadata": {
    "scrolled": true
   },
   "outputs": [
    {
     "data": {
      "text/plain": [
       "(1844301, 20)"
      ]
     },
     "execution_count": 20,
     "metadata": {},
     "output_type": "execute_result"
    }
   ],
   "source": [
    "#current shape is \n",
    "metrobikes_clean2_dropcols.shape"
   ]
  },
  {
   "cell_type": "markdown",
   "id": "1e43a562",
   "metadata": {},
   "source": [
    "### current shape is 6.7% smaller d/t kiosks that were part of jams, special events, mobile kiosks, no longer part of current kiosk list"
   ]
  },
  {
   "cell_type": "code",
   "execution_count": 21,
   "id": "2e63ebb3",
   "metadata": {
    "scrolled": false
   },
   "outputs": [
    {
     "data": {
      "text/html": [
       "<div>\n",
       "<style scoped>\n",
       "    .dataframe tbody tr th:only-of-type {\n",
       "        vertical-align: middle;\n",
       "    }\n",
       "\n",
       "    .dataframe tbody tr th {\n",
       "        vertical-align: top;\n",
       "    }\n",
       "\n",
       "    .dataframe thead th {\n",
       "        text-align: right;\n",
       "    }\n",
       "</style>\n",
       "<table border=\"1\" class=\"dataframe\">\n",
       "  <thead>\n",
       "    <tr style=\"text-align: right;\">\n",
       "      <th></th>\n",
       "      <th>Trip ID</th>\n",
       "      <th>Membership Type</th>\n",
       "      <th>Bicycle ID</th>\n",
       "      <th>Bike Type</th>\n",
       "      <th>Checkout Datetime</th>\n",
       "      <th>Checkout Date</th>\n",
       "      <th>Checkout Time</th>\n",
       "      <th>Trip Time mins</th>\n",
       "      <th>Month</th>\n",
       "      <th>Year</th>\n",
       "      <th>Checkout Name Current</th>\n",
       "      <th>Checkout Kiosk ID current</th>\n",
       "      <th>Checkout Kiosk Status</th>\n",
       "      <th>Checkout Kiosk Geographic Location</th>\n",
       "      <th>Checkout Kiosk Dock Count</th>\n",
       "      <th>Return Name Current</th>\n",
       "      <th>Return Kiosk ID current</th>\n",
       "      <th>Return Kiosk Status</th>\n",
       "      <th>Return Kiosk Geographic Location</th>\n",
       "      <th>Return Kiosk Dock Count</th>\n",
       "    </tr>\n",
       "  </thead>\n",
       "  <tbody>\n",
       "    <tr>\n",
       "      <th>3204</th>\n",
       "      <td>4050430</td>\n",
       "      <td>24 Hour Walk Up Pass</td>\n",
       "      <td>223</td>\n",
       "      <td>classic</td>\n",
       "      <td>2015-03-07 09:27:43</td>\n",
       "      <td>2015-03-07</td>\n",
       "      <td>2023-09-14 09:27:43</td>\n",
       "      <td>250</td>\n",
       "      <td>3</td>\n",
       "      <td>2015</td>\n",
       "      <td>West &amp; 6th St.</td>\n",
       "      <td>2537.0</td>\n",
       "      <td>active</td>\n",
       "      <td>(30.27041, -97.75046)</td>\n",
       "      <td>13.0</td>\n",
       "      <td>Stolen</td>\n",
       "      <td>1111111.0</td>\n",
       "      <td>NaN</td>\n",
       "      <td>NaN</td>\n",
       "      <td>NaN</td>\n",
       "    </tr>\n",
       "    <tr>\n",
       "      <th>272131</th>\n",
       "      <td>7031034</td>\n",
       "      <td>Local365</td>\n",
       "      <td>277</td>\n",
       "      <td>classic</td>\n",
       "      <td>2015-10-02 22:49:06</td>\n",
       "      <td>2015-10-02</td>\n",
       "      <td>2023-09-14 22:49:06</td>\n",
       "      <td>8</td>\n",
       "      <td>10</td>\n",
       "      <td>2015</td>\n",
       "      <td>2nd &amp; Congress</td>\n",
       "      <td>2494.0</td>\n",
       "      <td>active</td>\n",
       "      <td>(30.26408, -97.74355)</td>\n",
       "      <td>15.0</td>\n",
       "      <td>Stolen</td>\n",
       "      <td>1111111.0</td>\n",
       "      <td>NaN</td>\n",
       "      <td>NaN</td>\n",
       "      <td>NaN</td>\n",
       "    </tr>\n",
       "    <tr>\n",
       "      <th>328619</th>\n",
       "      <td>5141650</td>\n",
       "      <td>Founding Member</td>\n",
       "      <td>104</td>\n",
       "      <td>classic</td>\n",
       "      <td>2015-06-03 20:27:13</td>\n",
       "      <td>2015-06-03</td>\n",
       "      <td>2023-09-14 20:27:13</td>\n",
       "      <td>29</td>\n",
       "      <td>6</td>\n",
       "      <td>2015</td>\n",
       "      <td>Barton Springs @ Kinney Ave</td>\n",
       "      <td>2711.0</td>\n",
       "      <td>active</td>\n",
       "      <td>(30.262, -97.76118)</td>\n",
       "      <td>16.0</td>\n",
       "      <td>Stolen</td>\n",
       "      <td>1111111.0</td>\n",
       "      <td>NaN</td>\n",
       "      <td>NaN</td>\n",
       "      <td>NaN</td>\n",
       "    </tr>\n",
       "    <tr>\n",
       "      <th>331922</th>\n",
       "      <td>5048254</td>\n",
       "      <td>Local31</td>\n",
       "      <td>113</td>\n",
       "      <td>classic</td>\n",
       "      <td>2015-05-28 12:23:37</td>\n",
       "      <td>2015-05-28</td>\n",
       "      <td>2023-09-14 12:23:37</td>\n",
       "      <td>29</td>\n",
       "      <td>5</td>\n",
       "      <td>2015</td>\n",
       "      <td>8th &amp; Congress</td>\n",
       "      <td>2496.0</td>\n",
       "      <td>active</td>\n",
       "      <td>(30.2698, -97.74186)</td>\n",
       "      <td>14.0</td>\n",
       "      <td>Stolen</td>\n",
       "      <td>1111111.0</td>\n",
       "      <td>NaN</td>\n",
       "      <td>NaN</td>\n",
       "      <td>NaN</td>\n",
       "    </tr>\n",
       "    <tr>\n",
       "      <th>383237</th>\n",
       "      <td>4110494</td>\n",
       "      <td>24 Hour Walk Up Pass</td>\n",
       "      <td>890</td>\n",
       "      <td>classic</td>\n",
       "      <td>2015-03-14 02:12:17</td>\n",
       "      <td>2015-03-14</td>\n",
       "      <td>2023-09-14 02:12:17</td>\n",
       "      <td>29</td>\n",
       "      <td>3</td>\n",
       "      <td>2015</td>\n",
       "      <td>Trinity &amp; 6th Street</td>\n",
       "      <td>2565.0</td>\n",
       "      <td>active</td>\n",
       "      <td>(30.26735, -97.73933)</td>\n",
       "      <td>11.0</td>\n",
       "      <td>Stolen</td>\n",
       "      <td>1111111.0</td>\n",
       "      <td>NaN</td>\n",
       "      <td>NaN</td>\n",
       "      <td>NaN</td>\n",
       "    </tr>\n",
       "    <tr>\n",
       "      <th>384118</th>\n",
       "      <td>3986877</td>\n",
       "      <td>Explorer</td>\n",
       "      <td>661</td>\n",
       "      <td>classic</td>\n",
       "      <td>2015-02-21 15:54:56</td>\n",
       "      <td>2015-02-21</td>\n",
       "      <td>2023-09-14 15:54:56</td>\n",
       "      <td>262</td>\n",
       "      <td>2</td>\n",
       "      <td>2015</td>\n",
       "      <td>Plaza Saltillo</td>\n",
       "      <td>2542.0</td>\n",
       "      <td>active</td>\n",
       "      <td>(30.26217, -97.72743)</td>\n",
       "      <td>12.0</td>\n",
       "      <td>Stolen</td>\n",
       "      <td>1111111.0</td>\n",
       "      <td>NaN</td>\n",
       "      <td>NaN</td>\n",
       "      <td>NaN</td>\n",
       "    </tr>\n",
       "  </tbody>\n",
       "</table>\n",
       "</div>"
      ],
      "text/plain": [
       "        Trip ID       Membership Type Bicycle ID Bike Type  \\\n",
       "3204    4050430  24 Hour Walk Up Pass        223   classic   \n",
       "272131  7031034              Local365        277   classic   \n",
       "328619  5141650       Founding Member        104   classic   \n",
       "331922  5048254               Local31        113   classic   \n",
       "383237  4110494  24 Hour Walk Up Pass        890   classic   \n",
       "384118  3986877              Explorer        661   classic   \n",
       "\n",
       "         Checkout Datetime Checkout Date       Checkout Time  Trip Time mins  \\\n",
       "3204   2015-03-07 09:27:43    2015-03-07 2023-09-14 09:27:43             250   \n",
       "272131 2015-10-02 22:49:06    2015-10-02 2023-09-14 22:49:06               8   \n",
       "328619 2015-06-03 20:27:13    2015-06-03 2023-09-14 20:27:13              29   \n",
       "331922 2015-05-28 12:23:37    2015-05-28 2023-09-14 12:23:37              29   \n",
       "383237 2015-03-14 02:12:17    2015-03-14 2023-09-14 02:12:17              29   \n",
       "384118 2015-02-21 15:54:56    2015-02-21 2023-09-14 15:54:56             262   \n",
       "\n",
       "        Month  Year        Checkout Name Current  Checkout Kiosk ID current  \\\n",
       "3204        3  2015               West & 6th St.                     2537.0   \n",
       "272131     10  2015               2nd & Congress                     2494.0   \n",
       "328619      6  2015  Barton Springs @ Kinney Ave                     2711.0   \n",
       "331922      5  2015               8th & Congress                     2496.0   \n",
       "383237      3  2015         Trinity & 6th Street                     2565.0   \n",
       "384118      2  2015               Plaza Saltillo                     2542.0   \n",
       "\n",
       "       Checkout Kiosk Status Checkout Kiosk Geographic Location  \\\n",
       "3204                  active              (30.27041, -97.75046)   \n",
       "272131                active              (30.26408, -97.74355)   \n",
       "328619                active                (30.262, -97.76118)   \n",
       "331922                active               (30.2698, -97.74186)   \n",
       "383237                active              (30.26735, -97.73933)   \n",
       "384118                active              (30.26217, -97.72743)   \n",
       "\n",
       "        Checkout Kiosk Dock Count Return Name Current  \\\n",
       "3204                         13.0              Stolen   \n",
       "272131                       15.0              Stolen   \n",
       "328619                       16.0              Stolen   \n",
       "331922                       14.0              Stolen   \n",
       "383237                       11.0              Stolen   \n",
       "384118                       12.0              Stolen   \n",
       "\n",
       "        Return Kiosk ID current Return Kiosk Status  \\\n",
       "3204                  1111111.0                 NaN   \n",
       "272131                1111111.0                 NaN   \n",
       "328619                1111111.0                 NaN   \n",
       "331922                1111111.0                 NaN   \n",
       "383237                1111111.0                 NaN   \n",
       "384118                1111111.0                 NaN   \n",
       "\n",
       "       Return Kiosk Geographic Location  Return Kiosk Dock Count  \n",
       "3204                                NaN                      NaN  \n",
       "272131                              NaN                      NaN  \n",
       "328619                              NaN                      NaN  \n",
       "331922                              NaN                      NaN  \n",
       "383237                              NaN                      NaN  \n",
       "384118                              NaN                      NaN  "
      ]
     },
     "execution_count": 21,
     "metadata": {},
     "output_type": "execute_result"
    }
   ],
   "source": [
    "#create subset where return kiosk status is missing\n",
    "rtrn_missings = metrobikes_clean2_dropcols[metrobikes_clean2_dropcols['Return Kiosk Status'].isnull() == True]\n",
    "rtrn_missings"
   ]
  },
  {
   "cell_type": "markdown",
   "id": "103f9924",
   "metadata": {},
   "source": [
    "### All rows where return kiosk status is missing are d/t stolen bikes. They are also missing geographic location and dock count"
   ]
  },
  {
   "cell_type": "code",
   "execution_count": 22,
   "id": "b3a5cdd0",
   "metadata": {},
   "outputs": [
    {
     "data": {
      "text/html": [
       "<div>\n",
       "<style scoped>\n",
       "    .dataframe tbody tr th:only-of-type {\n",
       "        vertical-align: middle;\n",
       "    }\n",
       "\n",
       "    .dataframe tbody tr th {\n",
       "        vertical-align: top;\n",
       "    }\n",
       "\n",
       "    .dataframe thead th {\n",
       "        text-align: right;\n",
       "    }\n",
       "</style>\n",
       "<table border=\"1\" class=\"dataframe\">\n",
       "  <thead>\n",
       "    <tr style=\"text-align: right;\">\n",
       "      <th></th>\n",
       "      <th>Trip ID</th>\n",
       "      <th>Membership Type</th>\n",
       "      <th>Bicycle ID</th>\n",
       "      <th>Bike Type</th>\n",
       "      <th>Checkout Datetime</th>\n",
       "      <th>Checkout Date</th>\n",
       "      <th>Checkout Time</th>\n",
       "      <th>Trip Time mins</th>\n",
       "      <th>Month</th>\n",
       "      <th>Year</th>\n",
       "      <th>Checkout Name Current</th>\n",
       "      <th>Checkout Kiosk ID current</th>\n",
       "      <th>Checkout Kiosk Status</th>\n",
       "      <th>Checkout Kiosk Geographic Location</th>\n",
       "      <th>Checkout Kiosk Dock Count</th>\n",
       "      <th>Return Name Current</th>\n",
       "      <th>Return Kiosk ID current</th>\n",
       "      <th>Return Kiosk Status</th>\n",
       "      <th>Return Kiosk Geographic Location</th>\n",
       "      <th>Return Kiosk Dock Count</th>\n",
       "    </tr>\n",
       "  </thead>\n",
       "  <tbody>\n",
       "    <tr>\n",
       "      <th>441442</th>\n",
       "      <td>14088519</td>\n",
       "      <td>Local365</td>\n",
       "      <td>610</td>\n",
       "      <td>classic</td>\n",
       "      <td>2017-03-18 09:31:39</td>\n",
       "      <td>2017-03-18</td>\n",
       "      <td>2023-09-14 09:31:39</td>\n",
       "      <td>105</td>\n",
       "      <td>3</td>\n",
       "      <td>2017</td>\n",
       "      <td>Stolen</td>\n",
       "      <td>1111111.0</td>\n",
       "      <td>NaN</td>\n",
       "      <td>NaN</td>\n",
       "      <td>NaN</td>\n",
       "      <td>Trinity &amp; 6th Street</td>\n",
       "      <td>2565.0</td>\n",
       "      <td>active</td>\n",
       "      <td>(30.26735, -97.73933)</td>\n",
       "      <td>11.0</td>\n",
       "    </tr>\n",
       "  </tbody>\n",
       "</table>\n",
       "</div>"
      ],
      "text/plain": [
       "         Trip ID Membership Type Bicycle ID Bike Type   Checkout Datetime  \\\n",
       "441442  14088519        Local365        610   classic 2017-03-18 09:31:39   \n",
       "\n",
       "       Checkout Date       Checkout Time  Trip Time mins  Month  Year  \\\n",
       "441442    2017-03-18 2023-09-14 09:31:39             105      3  2017   \n",
       "\n",
       "       Checkout Name Current  Checkout Kiosk ID current Checkout Kiosk Status  \\\n",
       "441442                Stolen                  1111111.0                   NaN   \n",
       "\n",
       "       Checkout Kiosk Geographic Location  Checkout Kiosk Dock Count  \\\n",
       "441442                                NaN                        NaN   \n",
       "\n",
       "         Return Name Current  Return Kiosk ID current Return Kiosk Status  \\\n",
       "441442  Trinity & 6th Street                   2565.0              active   \n",
       "\n",
       "       Return Kiosk Geographic Location  Return Kiosk Dock Count  \n",
       "441442            (30.26735, -97.73933)                     11.0  "
      ]
     },
     "execution_count": 22,
     "metadata": {},
     "output_type": "execute_result"
    }
   ],
   "source": [
    "#create subset where checkout kiosk status is missing\n",
    "chkt_missings = metrobikes_clean2_dropcols[metrobikes_clean2_dropcols['Checkout Kiosk Status'].isnull() == True]\n",
    "chkt_missings"
   ]
  },
  {
   "cell_type": "markdown",
   "id": "cd3a270b",
   "metadata": {},
   "source": [
    "### All remaining missings are from bikes that were stolen. Remaining missings are only 7 rows. Will change kiosk statuses to 'stolen', kiosk dock counts to '0' and kiosk geographic locations to '(20.10001, -10.10001)'"
   ]
  },
  {
   "cell_type": "markdown",
   "id": "ca68c489",
   "metadata": {},
   "source": [
    "## 6. Make changes to handle remaining missings (noted above)"
   ]
  },
  {
   "cell_type": "code",
   "execution_count": 23,
   "id": "5e3f484d",
   "metadata": {},
   "outputs": [],
   "source": [
    "# mark missing return kiosk statuses as stolen\n",
    "metrobikes_clean2_dropcols['Return Kiosk Status'].fillna('Stolen', inplace=True)"
   ]
  },
  {
   "cell_type": "code",
   "execution_count": 24,
   "id": "d014c029",
   "metadata": {},
   "outputs": [],
   "source": [
    "# mark missing checkout kiosk statuses as stolen\n",
    "metrobikes_clean2_dropcols['Checkout Kiosk Status'].fillna('Stolen', inplace=True)"
   ]
  },
  {
   "cell_type": "code",
   "execution_count": 25,
   "id": "104a5526",
   "metadata": {},
   "outputs": [],
   "source": [
    "# mark missing return kiosk dock count as 0\n",
    "metrobikes_clean2_dropcols['Return Kiosk Dock Count'].fillna(0, inplace=True)"
   ]
  },
  {
   "cell_type": "code",
   "execution_count": 26,
   "id": "68a30836",
   "metadata": {},
   "outputs": [],
   "source": [
    "# mark missing checkout kiosk dock count as 0\n",
    "metrobikes_clean2_dropcols['Checkout Kiosk Dock Count'].fillna(0, inplace=True)"
   ]
  },
  {
   "cell_type": "code",
   "execution_count": 27,
   "id": "cb6fdb2e",
   "metadata": {},
   "outputs": [],
   "source": [
    "# mark missing Return Kiosk Geographic Location as '(20.10001, -10.10001)'\n",
    "metrobikes_clean2_dropcols['Return Kiosk Geographic Location'].fillna('(20.10001, -10.10001)', inplace=True)"
   ]
  },
  {
   "cell_type": "code",
   "execution_count": 28,
   "id": "966c4f81",
   "metadata": {},
   "outputs": [],
   "source": [
    "# mark missing Checkout Kiosk Geographic Location as '(20.10001, -10.10001)'\n",
    "metrobikes_clean2_dropcols['Checkout Kiosk Geographic Location'].fillna('(20.10001, -10.10001)', inplace=True)"
   ]
  },
  {
   "cell_type": "markdown",
   "id": "0deb2ecb",
   "metadata": {},
   "source": [
    "## 7. Check missing value count"
   ]
  },
  {
   "cell_type": "code",
   "execution_count": 29,
   "id": "74fceb37",
   "metadata": {
    "scrolled": true
   },
   "outputs": [
    {
     "data": {
      "text/plain": [
       "Trip ID                               0\n",
       "Membership Type                       0\n",
       "Bicycle ID                            0\n",
       "Bike Type                             0\n",
       "Checkout Datetime                     0\n",
       "Checkout Date                         0\n",
       "Checkout Time                         0\n",
       "Trip Time mins                        0\n",
       "Month                                 0\n",
       "Year                                  0\n",
       "Checkout Name Current                 0\n",
       "Checkout Kiosk ID current             0\n",
       "Checkout Kiosk Status                 0\n",
       "Checkout Kiosk Geographic Location    0\n",
       "Checkout Kiosk Dock Count             0\n",
       "Return Name Current                   0\n",
       "Return Kiosk ID current               0\n",
       "Return Kiosk Status                   0\n",
       "Return Kiosk Geographic Location      0\n",
       "Return Kiosk Dock Count               0\n",
       "dtype: int64"
      ]
     },
     "execution_count": 29,
     "metadata": {},
     "output_type": "execute_result"
    }
   ],
   "source": [
    "metrobikes_clean2_dropcols.isnull().sum()"
   ]
  },
  {
   "cell_type": "markdown",
   "id": "92afdd58",
   "metadata": {},
   "source": [
    "## 8. Check new shape"
   ]
  },
  {
   "cell_type": "code",
   "execution_count": 30,
   "id": "0f45d729",
   "metadata": {},
   "outputs": [
    {
     "data": {
      "text/plain": [
       "(1844301, 20)"
      ]
     },
     "execution_count": 30,
     "metadata": {},
     "output_type": "execute_result"
    }
   ],
   "source": [
    "#shape before export\n",
    "metrobikes_clean2_dropcols.shape"
   ]
  },
  {
   "cell_type": "markdown",
   "id": "3bbdaa69",
   "metadata": {},
   "source": [
    "## 9. Export dataset"
   ]
  },
  {
   "cell_type": "code",
   "execution_count": 32,
   "id": "4c72faab",
   "metadata": {},
   "outputs": [],
   "source": [
    "#export to pkl\n",
    "metrobikes_clean2_dropcols.to_pickle(os.path.join(path, \n",
    "                                             '02.Data', \n",
    "                                             'PreparedData', \n",
    "                                            'metrobikes_missings.pkl'))"
   ]
  }
 ],
 "metadata": {
  "kernelspec": {
   "display_name": "Python 3 (ipykernel)",
   "language": "python",
   "name": "python3"
  },
  "language_info": {
   "codemirror_mode": {
    "name": "ipython",
    "version": 3
   },
   "file_extension": ".py",
   "mimetype": "text/x-python",
   "name": "python",
   "nbconvert_exporter": "python",
   "pygments_lexer": "ipython3",
   "version": "3.11.3"
  }
 },
 "nbformat": 4,
 "nbformat_minor": 5
}
