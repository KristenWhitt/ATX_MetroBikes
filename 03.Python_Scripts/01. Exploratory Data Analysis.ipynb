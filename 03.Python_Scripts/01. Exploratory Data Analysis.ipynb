{
 "cells": [
  {
   "cell_type": "markdown",
   "id": "b0d7342f",
   "metadata": {},
   "source": [
    "## 1. Import libraries"
   ]
  },
  {
   "cell_type": "code",
   "execution_count": 1,
   "id": "197579de",
   "metadata": {},
   "outputs": [],
   "source": [
    "import pandas as pd\n",
    "import numpy as np\n",
    "import os"
   ]
  },
  {
   "cell_type": "markdown",
   "id": "d4c6f572",
   "metadata": {},
   "source": [
    "## 2. Import dataset"
   ]
  },
  {
   "cell_type": "code",
   "execution_count": 2,
   "id": "9dcba96b",
   "metadata": {},
   "outputs": [],
   "source": [
    "#create file path\n",
    "path = r'C:\\Users\\krist\\ATX Metro Bike'"
   ]
  },
  {
   "cell_type": "code",
   "execution_count": 4,
   "id": "8341d5d9",
   "metadata": {},
   "outputs": [],
   "source": [
    "#import dataset\n",
    "#recieved warning that 9out of 14 columns have mixed data types, set low_memory=False \n",
    "metrobikes = pd.read_csv(os.path.join(path, '02.Data', 'OriginalData', 'Austin_MetroBike_Trips.csv'),\n",
    "                        low_memory=False)"
   ]
  },
  {
   "cell_type": "code",
   "execution_count": 5,
   "id": "8496e969",
   "metadata": {},
   "outputs": [
    {
     "data": {
      "text/plain": [
       "(1991726, 14)"
      ]
     },
     "execution_count": 5,
     "metadata": {},
     "output_type": "execute_result"
    }
   ],
   "source": [
    "#check df shape\n",
    "metrobikes.shape"
   ]
  },
  {
   "cell_type": "code",
   "execution_count": 26,
   "id": "82755bbc",
   "metadata": {},
   "outputs": [
    {
     "data": {
      "text/html": [
       "<div>\n",
       "<style scoped>\n",
       "    .dataframe tbody tr th:only-of-type {\n",
       "        vertical-align: middle;\n",
       "    }\n",
       "\n",
       "    .dataframe tbody tr th {\n",
       "        vertical-align: top;\n",
       "    }\n",
       "\n",
       "    .dataframe thead th {\n",
       "        text-align: right;\n",
       "    }\n",
       "</style>\n",
       "<table border=\"1\" class=\"dataframe\">\n",
       "  <thead>\n",
       "    <tr style=\"text-align: right;\">\n",
       "      <th></th>\n",
       "      <th>Trip ID</th>\n",
       "      <th>Membership Type</th>\n",
       "      <th>Bicycle ID</th>\n",
       "      <th>Bike Type</th>\n",
       "      <th>Checkout Datetime</th>\n",
       "      <th>Checkout Date</th>\n",
       "      <th>Checkout Time</th>\n",
       "      <th>Checkout Kiosk ID</th>\n",
       "      <th>Checkout Kiosk</th>\n",
       "      <th>Return Kiosk ID</th>\n",
       "      <th>Return Kiosk</th>\n",
       "      <th>Trip Duration Minutes</th>\n",
       "      <th>Month</th>\n",
       "      <th>Year</th>\n",
       "    </tr>\n",
       "  </thead>\n",
       "  <tbody>\n",
       "    <tr>\n",
       "      <th>0</th>\n",
       "      <td>16459203</td>\n",
       "      <td>Local365</td>\n",
       "      <td>37</td>\n",
       "      <td>classic</td>\n",
       "      <td>12/01/2017 09:51:41 AM</td>\n",
       "      <td>12/01/2017</td>\n",
       "      <td>9:51:41</td>\n",
       "      <td>2496.0</td>\n",
       "      <td>8th &amp; Congress</td>\n",
       "      <td>2495</td>\n",
       "      <td>4th &amp; Congress</td>\n",
       "      <td>3</td>\n",
       "      <td>12</td>\n",
       "      <td>2017</td>\n",
       "    </tr>\n",
       "    <tr>\n",
       "      <th>1</th>\n",
       "      <td>4106422</td>\n",
       "      <td>Local365</td>\n",
       "      <td>971</td>\n",
       "      <td>classic</td>\n",
       "      <td>03/13/2015 04:20:24 PM</td>\n",
       "      <td>03/13/2015</td>\n",
       "      <td>16:20:24</td>\n",
       "      <td>2495.0</td>\n",
       "      <td>4th/Congress</td>\n",
       "      <td>2495</td>\n",
       "      <td>4th/Congress</td>\n",
       "      <td>14</td>\n",
       "      <td>3</td>\n",
       "      <td>2015</td>\n",
       "    </tr>\n",
       "    <tr>\n",
       "      <th>2</th>\n",
       "      <td>3454605</td>\n",
       "      <td>Local365</td>\n",
       "      <td>29</td>\n",
       "      <td>classic</td>\n",
       "      <td>10/14/2014 08:33:54 AM</td>\n",
       "      <td>10/14/2014</td>\n",
       "      <td>8:33:54</td>\n",
       "      <td>2712.0</td>\n",
       "      <td>Toomey Rd @ South Lamar</td>\n",
       "      <td>2575</td>\n",
       "      <td>Riverside/South Lamar</td>\n",
       "      <td>22</td>\n",
       "      <td>10</td>\n",
       "      <td>2014</td>\n",
       "    </tr>\n",
       "    <tr>\n",
       "      <th>3</th>\n",
       "      <td>3454592</td>\n",
       "      <td>Local365</td>\n",
       "      <td>646</td>\n",
       "      <td>classic</td>\n",
       "      <td>10/14/2014 08:32:03 AM</td>\n",
       "      <td>10/14/2014</td>\n",
       "      <td>8:32:03</td>\n",
       "      <td>2552.0</td>\n",
       "      <td>3rd/West</td>\n",
       "      <td>2496</td>\n",
       "      <td>8th/Congress</td>\n",
       "      <td>29</td>\n",
       "      <td>10</td>\n",
       "      <td>2014</td>\n",
       "    </tr>\n",
       "    <tr>\n",
       "      <th>4</th>\n",
       "      <td>4106421</td>\n",
       "      <td>24 Hour Walk Up Pass</td>\n",
       "      <td>124</td>\n",
       "      <td>classic</td>\n",
       "      <td>03/13/2015 04:20:15 PM</td>\n",
       "      <td>03/13/2015</td>\n",
       "      <td>16:20:15</td>\n",
       "      <td>2498.0</td>\n",
       "      <td>Dean Keeton/Speedway</td>\n",
       "      <td>2549</td>\n",
       "      <td>South 1st/Riverside @ Long Center</td>\n",
       "      <td>10</td>\n",
       "      <td>3</td>\n",
       "      <td>2015</td>\n",
       "    </tr>\n",
       "    <tr>\n",
       "      <th>5</th>\n",
       "      <td>15806492</td>\n",
       "      <td>Local30</td>\n",
       "      <td>970</td>\n",
       "      <td>classic</td>\n",
       "      <td>08/30/2017 03:14:30 PM</td>\n",
       "      <td>08/30/2017</td>\n",
       "      <td>15:14:30</td>\n",
       "      <td>2542.0</td>\n",
       "      <td>Plaza Saltillo</td>\n",
       "      <td>2495</td>\n",
       "      <td>4th &amp; Congress</td>\n",
       "      <td>8</td>\n",
       "      <td>8</td>\n",
       "      <td>2017</td>\n",
       "    </tr>\n",
       "    <tr>\n",
       "      <th>6</th>\n",
       "      <td>16472401</td>\n",
       "      <td>Weekender</td>\n",
       "      <td>969</td>\n",
       "      <td>classic</td>\n",
       "      <td>12/03/2017 01:52:35 PM</td>\n",
       "      <td>12/03/2017</td>\n",
       "      <td>13:52:35</td>\n",
       "      <td>3687.0</td>\n",
       "      <td>Boardwalk West</td>\n",
       "      <td>3687</td>\n",
       "      <td>Boardwalk West</td>\n",
       "      <td>18</td>\n",
       "      <td>12</td>\n",
       "      <td>2017</td>\n",
       "    </tr>\n",
       "    <tr>\n",
       "      <th>7</th>\n",
       "      <td>16473021</td>\n",
       "      <td>Walk Up</td>\n",
       "      <td>362</td>\n",
       "      <td>classic</td>\n",
       "      <td>12/03/2017 03:01:36 PM</td>\n",
       "      <td>12/03/2017</td>\n",
       "      <td>15:01:36</td>\n",
       "      <td>2540.0</td>\n",
       "      <td>17th &amp; Guadalupe</td>\n",
       "      <td>2574</td>\n",
       "      <td>Zilker Park</td>\n",
       "      <td>28</td>\n",
       "      <td>12</td>\n",
       "      <td>2017</td>\n",
       "    </tr>\n",
       "    <tr>\n",
       "      <th>8</th>\n",
       "      <td>16478272</td>\n",
       "      <td>Local365</td>\n",
       "      <td>299</td>\n",
       "      <td>classic</td>\n",
       "      <td>12/04/2017 05:24:12 PM</td>\n",
       "      <td>12/04/2017</td>\n",
       "      <td>17:24:12</td>\n",
       "      <td>3621.0</td>\n",
       "      <td>Nueces &amp; 3rd</td>\n",
       "      <td>2552</td>\n",
       "      <td>3rd &amp; West</td>\n",
       "      <td>7</td>\n",
       "      <td>12</td>\n",
       "      <td>2017</td>\n",
       "    </tr>\n",
       "    <tr>\n",
       "      <th>9</th>\n",
       "      <td>16491625</td>\n",
       "      <td>Walk Up</td>\n",
       "      <td>166</td>\n",
       "      <td>classic</td>\n",
       "      <td>12/09/2017 10:48:17 AM</td>\n",
       "      <td>12/09/2017</td>\n",
       "      <td>10:48:17</td>\n",
       "      <td>2572.0</td>\n",
       "      <td>Barton Springs Pool</td>\n",
       "      <td>2572</td>\n",
       "      <td>Barton Springs Pool</td>\n",
       "      <td>10</td>\n",
       "      <td>12</td>\n",
       "      <td>2017</td>\n",
       "    </tr>\n",
       "  </tbody>\n",
       "</table>\n",
       "</div>"
      ],
      "text/plain": [
       "    Trip ID       Membership Type Bicycle ID Bike Type  \\\n",
       "0  16459203              Local365         37   classic   \n",
       "1   4106422              Local365        971   classic   \n",
       "2   3454605              Local365         29   classic   \n",
       "3   3454592              Local365        646   classic   \n",
       "4   4106421  24 Hour Walk Up Pass        124   classic   \n",
       "5  15806492               Local30        970   classic   \n",
       "6  16472401             Weekender        969   classic   \n",
       "7  16473021               Walk Up        362   classic   \n",
       "8  16478272              Local365        299   classic   \n",
       "9  16491625               Walk Up        166   classic   \n",
       "\n",
       "        Checkout Datetime Checkout Date Checkout Time  Checkout Kiosk ID  \\\n",
       "0  12/01/2017 09:51:41 AM    12/01/2017       9:51:41             2496.0   \n",
       "1  03/13/2015 04:20:24 PM    03/13/2015      16:20:24             2495.0   \n",
       "2  10/14/2014 08:33:54 AM    10/14/2014       8:33:54             2712.0   \n",
       "3  10/14/2014 08:32:03 AM    10/14/2014       8:32:03             2552.0   \n",
       "4  03/13/2015 04:20:15 PM    03/13/2015      16:20:15             2498.0   \n",
       "5  08/30/2017 03:14:30 PM    08/30/2017      15:14:30             2542.0   \n",
       "6  12/03/2017 01:52:35 PM    12/03/2017      13:52:35             3687.0   \n",
       "7  12/03/2017 03:01:36 PM    12/03/2017      15:01:36             2540.0   \n",
       "8  12/04/2017 05:24:12 PM    12/04/2017      17:24:12             3621.0   \n",
       "9  12/09/2017 10:48:17 AM    12/09/2017      10:48:17             2572.0   \n",
       "\n",
       "            Checkout Kiosk Return Kiosk ID                       Return Kiosk  \\\n",
       "0           8th & Congress            2495                     4th & Congress   \n",
       "1             4th/Congress            2495                       4th/Congress   \n",
       "2  Toomey Rd @ South Lamar            2575              Riverside/South Lamar   \n",
       "3                 3rd/West            2496                       8th/Congress   \n",
       "4     Dean Keeton/Speedway            2549  South 1st/Riverside @ Long Center   \n",
       "5           Plaza Saltillo            2495                     4th & Congress   \n",
       "6           Boardwalk West            3687                     Boardwalk West   \n",
       "7         17th & Guadalupe            2574                        Zilker Park   \n",
       "8             Nueces & 3rd            2552                         3rd & West   \n",
       "9      Barton Springs Pool            2572                Barton Springs Pool   \n",
       "\n",
       "   Trip Duration Minutes  Month  Year  \n",
       "0                      3     12  2017  \n",
       "1                     14      3  2015  \n",
       "2                     22     10  2014  \n",
       "3                     29     10  2014  \n",
       "4                     10      3  2015  \n",
       "5                      8      8  2017  \n",
       "6                     18     12  2017  \n",
       "7                     28     12  2017  \n",
       "8                      7     12  2017  \n",
       "9                     10     12  2017  "
      ]
     },
     "execution_count": 26,
     "metadata": {},
     "output_type": "execute_result"
    }
   ],
   "source": [
    "metrobikes.head(10)"
   ]
  },
  {
   "cell_type": "markdown",
   "id": "9a65c545",
   "metadata": {},
   "source": [
    "### dataframe has 1,991,762 rows, 14 columns"
   ]
  },
  {
   "cell_type": "markdown",
   "id": "780485fd",
   "metadata": {},
   "source": [
    "## 3. Check datatypes"
   ]
  },
  {
   "cell_type": "code",
   "execution_count": 6,
   "id": "becb550c",
   "metadata": {
    "scrolled": false
   },
   "outputs": [
    {
     "data": {
      "text/plain": [
       "Trip ID                    int64\n",
       "Membership Type           object\n",
       "Bicycle ID                object\n",
       "Bike Type                 object\n",
       "Checkout Datetime         object\n",
       "Checkout Date             object\n",
       "Checkout Time             object\n",
       "Checkout Kiosk ID        float64\n",
       "Checkout Kiosk            object\n",
       "Return Kiosk ID           object\n",
       "Return Kiosk              object\n",
       "Trip Duration Minutes      int64\n",
       "Month                      int64\n",
       "Year                       int64\n",
       "dtype: object"
      ]
     },
     "execution_count": 6,
     "metadata": {},
     "output_type": "execute_result"
    }
   ],
   "source": [
    "#check data types\n",
    "metrobikes.dtypes"
   ]
  },
  {
   "cell_type": "markdown",
   "id": "00399f42",
   "metadata": {},
   "source": [
    "### Suspect columsn where dtype = object is a mixed datatype column"
   ]
  },
  {
   "cell_type": "markdown",
   "id": "2f7f1e51",
   "metadata": {},
   "source": [
    "## 4. Check for mixed datatypes"
   ]
  },
  {
   "cell_type": "code",
   "execution_count": 31,
   "id": "9291924a",
   "metadata": {},
   "outputs": [
    {
     "name": "stdout",
     "output_type": "stream",
     "text": [
      "Membership Type\n",
      "Return Kiosk ID\n"
     ]
    }
   ],
   "source": [
    "#check that variables assigned as objects are mixed datatypes\n",
    "for col in metrobikes.columns.tolist():\n",
    "  weird = (metrobikes[[col]].applymap(type) != metrobikes[[col]].iloc[0].apply(type)).any(axis = 1)\n",
    "  if len (metrobikes[weird]) > 0:\n",
    "    print (col)\n"
   ]
  },
  {
   "cell_type": "markdown",
   "id": "17ceb178",
   "metadata": {},
   "source": [
    "### membership type and return kiosk ID are mixed data type columns"
   ]
  },
  {
   "cell_type": "markdown",
   "id": "7894d230",
   "metadata": {},
   "source": [
    "## 5. Check descriptive Statistics "
   ]
  },
  {
   "cell_type": "code",
   "execution_count": 17,
   "id": "4be5a753",
   "metadata": {},
   "outputs": [
    {
     "data": {
      "text/html": [
       "<div>\n",
       "<style scoped>\n",
       "    .dataframe tbody tr th:only-of-type {\n",
       "        vertical-align: middle;\n",
       "    }\n",
       "\n",
       "    .dataframe tbody tr th {\n",
       "        vertical-align: top;\n",
       "    }\n",
       "\n",
       "    .dataframe thead th {\n",
       "        text-align: right;\n",
       "    }\n",
       "</style>\n",
       "<table border=\"1\" class=\"dataframe\">\n",
       "  <thead>\n",
       "    <tr style=\"text-align: right;\">\n",
       "      <th></th>\n",
       "      <th>Trip ID</th>\n",
       "      <th>Checkout Kiosk ID</th>\n",
       "      <th>Trip Duration Minutes</th>\n",
       "      <th>Month</th>\n",
       "      <th>Year</th>\n",
       "    </tr>\n",
       "  </thead>\n",
       "  <tbody>\n",
       "    <tr>\n",
       "      <th>count</th>\n",
       "      <td>1.991726e+06</td>\n",
       "      <td>1.987279e+06</td>\n",
       "      <td>1.991726e+06</td>\n",
       "      <td>1.991726e+06</td>\n",
       "      <td>1.991726e+06</td>\n",
       "    </tr>\n",
       "    <tr>\n",
       "      <th>mean</th>\n",
       "      <td>1.808550e+07</td>\n",
       "      <td>3.167224e+03</td>\n",
       "      <td>2.996496e+01</td>\n",
       "      <td>6.281600e+00</td>\n",
       "      <td>2.018634e+03</td>\n",
       "    </tr>\n",
       "    <tr>\n",
       "      <th>std</th>\n",
       "      <td>8.214574e+06</td>\n",
       "      <td>9.209812e+02</td>\n",
       "      <td>1.270687e+02</td>\n",
       "      <td>3.230310e+00</td>\n",
       "      <td>2.784478e+00</td>\n",
       "    </tr>\n",
       "    <tr>\n",
       "      <th>min</th>\n",
       "      <td>1.954839e+06</td>\n",
       "      <td>1.001000e+03</td>\n",
       "      <td>2.000000e+00</td>\n",
       "      <td>1.000000e+00</td>\n",
       "      <td>2.013000e+03</td>\n",
       "    </tr>\n",
       "    <tr>\n",
       "      <th>25%</th>\n",
       "      <td>1.259246e+07</td>\n",
       "      <td>2.547000e+03</td>\n",
       "      <td>6.000000e+00</td>\n",
       "      <td>3.000000e+00</td>\n",
       "      <td>2.016000e+03</td>\n",
       "    </tr>\n",
       "    <tr>\n",
       "      <th>50%</th>\n",
       "      <td>1.845126e+07</td>\n",
       "      <td>2.575000e+03</td>\n",
       "      <td>1.200000e+01</td>\n",
       "      <td>6.000000e+00</td>\n",
       "      <td>2.018000e+03</td>\n",
       "    </tr>\n",
       "    <tr>\n",
       "      <th>75%</th>\n",
       "      <td>2.562556e+07</td>\n",
       "      <td>3.795000e+03</td>\n",
       "      <td>2.800000e+01</td>\n",
       "      <td>9.000000e+00</td>\n",
       "      <td>2.021000e+03</td>\n",
       "    </tr>\n",
       "    <tr>\n",
       "      <th>max</th>\n",
       "      <td>3.040914e+07</td>\n",
       "      <td>7.341000e+03</td>\n",
       "      <td>3.423800e+04</td>\n",
       "      <td>1.200000e+01</td>\n",
       "      <td>2.023000e+03</td>\n",
       "    </tr>\n",
       "  </tbody>\n",
       "</table>\n",
       "</div>"
      ],
      "text/plain": [
       "            Trip ID  Checkout Kiosk ID  Trip Duration Minutes         Month  \\\n",
       "count  1.991726e+06       1.987279e+06           1.991726e+06  1.991726e+06   \n",
       "mean   1.808550e+07       3.167224e+03           2.996496e+01  6.281600e+00   \n",
       "std    8.214574e+06       9.209812e+02           1.270687e+02  3.230310e+00   \n",
       "min    1.954839e+06       1.001000e+03           2.000000e+00  1.000000e+00   \n",
       "25%    1.259246e+07       2.547000e+03           6.000000e+00  3.000000e+00   \n",
       "50%    1.845126e+07       2.575000e+03           1.200000e+01  6.000000e+00   \n",
       "75%    2.562556e+07       3.795000e+03           2.800000e+01  9.000000e+00   \n",
       "max    3.040914e+07       7.341000e+03           3.423800e+04  1.200000e+01   \n",
       "\n",
       "               Year  \n",
       "count  1.991726e+06  \n",
       "mean   2.018634e+03  \n",
       "std    2.784478e+00  \n",
       "min    2.013000e+03  \n",
       "25%    2.016000e+03  \n",
       "50%    2.018000e+03  \n",
       "75%    2.021000e+03  \n",
       "max    2.023000e+03  "
      ]
     },
     "execution_count": 17,
     "metadata": {},
     "output_type": "execute_result"
    }
   ],
   "source": [
    "#check descriptive statistics for numerical columns\n",
    "metrobikes.describe()"
   ]
  },
  {
   "cell_type": "markdown",
   "id": "c0ec78ff",
   "metadata": {},
   "source": [
    "### min trip duration makes sense but max is 34,238 minutes (23 days and 18 hours). Suspect outliers in trip duration.\n",
    "### max and min month and year make sense"
   ]
  },
  {
   "cell_type": "markdown",
   "id": "d2289ccb",
   "metadata": {},
   "source": [
    "## 6. Investigate Trip Duration Minutes values for outliers"
   ]
  },
  {
   "cell_type": "code",
   "execution_count": 56,
   "id": "02a615da",
   "metadata": {},
   "outputs": [
    {
     "data": {
      "text/plain": [
       "411.17099165417903"
      ]
     },
     "execution_count": 56,
     "metadata": {},
     "output_type": "execute_result"
    }
   ],
   "source": [
    "#calculate value trip duration needs to be greater than to count as outlier\n",
    "outlier_high_threshold = (metrobikes['Trip Duration Minutes'].std() * 3) + metrobikes['Trip Duration Minutes'].mean()\n",
    "outlier_high_threshold"
   ]
  },
  {
   "cell_type": "code",
   "execution_count": 51,
   "id": "d55b77b9",
   "metadata": {},
   "outputs": [
    {
     "data": {
      "text/plain": [
       "<Axes: >"
      ]
     },
     "execution_count": 51,
     "metadata": {},
     "output_type": "execute_result"
    },
    {
     "data": {
      "image/png": "[encoded data removed]",
      "text/plain": [
       "<Figure size 640x480 with 1 Axes>"
      ]
     },
     "metadata": {},
     "output_type": "display_data"
    }
   ],
   "source": [
    "#check boxplot to visualize spread\n",
    "metrobikes.boxplot(column = 'Trip Duration Minutes')"
   ]
  },
  {
   "cell_type": "code",
   "execution_count": 58,
   "id": "0ebb95dc",
   "metadata": {},
   "outputs": [
    {
     "data": {
      "text/plain": [
       "(14778, 14)"
      ]
     },
     "execution_count": 58,
     "metadata": {},
     "output_type": "execute_result"
    }
   ],
   "source": [
    "#create outlier subgroup to check number of outliers\n",
    "duration_outliers = metrobikes[metrobikes['Trip Duration Minutes'] > 411]\n",
    "duration_outliers.shape"
   ]
  },
  {
   "cell_type": "markdown",
   "id": "d9faa410",
   "metadata": {},
   "source": [
    "### 14,778 outliers in trip duration minutes accounts for 0.7% of dataset"
   ]
  },
  {
   "cell_type": "markdown",
   "id": "d8a8935b",
   "metadata": {},
   "source": [
    "## 7. Investigate variables with dtype = object"
   ]
  },
  {
   "cell_type": "code",
   "execution_count": 19,
   "id": "972175b6",
   "metadata": {},
   "outputs": [
    {
     "data": {
      "text/plain": [
       "Local365                                              359923\n",
       "U.T. Student Membership                               289041\n",
       "24 Hour Walk Up Pass                                  271899\n",
       "Student Membership                                    271794\n",
       "Walk Up                                               260044\n",
       "Local31                                               126746\n",
       "Explorer                                               91207\n",
       "Pay-as-you-ride                                        60382\n",
       "Local30                                                55777\n",
       "3-Day Weekender                                        49637\n",
       "Weekender                                              40500\n",
       "Single Trip (Pay-as-you-ride)                          34260\n",
       "Local365+Guest Pass                                    13992\n",
       "Single Trip                                            11709\n",
       "Founding Member                                         6130\n",
       "3-Day Explorer                                          6016\n",
       "7-Day                                                   5684\n",
       "Single Trip                                             5122\n",
       "Local365 ($80 plus tax)                                 3886\n",
       "Semester Membership                                     3231\n",
       "Single Trip Ride                                        3081\n",
       "Local365- 1/2 off Anniversary Special                   2907\n",
       "HT Ram Membership                                       2686\n",
       "Annual                                                  2208\n",
       "Annual Membership                                       1307\n",
       "Local30 ($11 plus tax)                                   820\n",
       "$1 Pay by Trip Winter Special                            764\n",
       "Local365 Youth (age 13-17 riders)                        676\n",
       "Annual                                                   639\n",
       "Try Before You Buy Special                               595\n",
       "Weekender ($15 plus tax)                                 550\n",
       "$1 Pay by Trip Fall Special                              466\n",
       "Local365+Guest Pass- 1/2 off Anniversary Special         466\n",
       "Annual Member                                            413\n",
       "ACL Weekend Pass Special                                 319\n",
       "Republic Rider (Annual)                                  293\n",
       "Annual Pass                                              236\n",
       "ACL 2019 Pass                                            207\n",
       "Explorer ($8 plus tax)                                   182\n",
       "Annual Plus                                              172\n",
       "RideScout Single Tide                                    109\n",
       "Aluminum Access                                           96\n",
       "Local365 Youth with helmet (age 13-17 riders)             91\n",
       "Madtown Monthly                                           63\n",
       "FunFunFun Fest 3 Day Pass                                 27\n",
       "Annual Pass (Original)                                    27\n",
       "Annual Plus Membership                                    26\n",
       "Republic Rider                                            16\n",
       "Membership: pay once  one-year commitment                 13\n",
       "Denver B-cycle Founder                                    12\n",
       "Heartland Pass (Annual Pay)                               12\n",
       "UT Student Membership                                      9\n",
       "Annual Membership                                          7\n",
       "RideScout Single Ride                                      4\n",
       "Local365 Youth (age 13-17 riders)- 1/2 off Special         3\n",
       "Annual Pass (30 minute)                                    2\n",
       "Membership: pay once, one-year commitment                  2\n",
       "RESTRICTED                                                 1\n",
       "24-Hour Membership                                         1\n",
       "Heartland Pass (Monthly Pay)                               1\n",
       "Name: Membership Type, dtype: int64"
      ]
     },
     "execution_count": 19,
     "metadata": {},
     "output_type": "execute_result"
    }
   ],
   "source": [
    "#check frequencies of membership type\n",
    "metrobikes['Membership Type'].value_counts()"
   ]
  },
  {
   "cell_type": "markdown",
   "id": "c5bbb0f3",
   "metadata": {},
   "source": [
    "### large number of membership types. may benefit from column derivation for category consolidation"
   ]
  },
  {
   "cell_type": "code",
   "execution_count": 20,
   "id": "dd022da1",
   "metadata": {},
   "outputs": [
    {
     "data": {
      "text/plain": [
       "559          3816\n",
       "951          3575\n",
       "593          3575\n",
       "107          3563\n",
       "371          3543\n",
       "             ... \n",
       "Block 70        2\n",
       "Block 12        2\n",
       "Block04         2\n",
       "Block05         1\n",
       "Block 25        1\n",
       "Name: Bicycle ID, Length: 1019, dtype: int64"
      ]
     },
     "execution_count": 20,
     "metadata": {},
     "output_type": "execute_result"
    }
   ],
   "source": [
    "#check frequencies of bicycle id\n",
    "metrobikes['Bicycle ID'].value_counts()"
   ]
  },
  {
   "cell_type": "code",
   "execution_count": 21,
   "id": "3cc475c4",
   "metadata": {},
   "outputs": [
    {
     "data": {
      "text/plain": [
       "1019"
      ]
     },
     "execution_count": 21,
     "metadata": {},
     "output_type": "execute_result"
    }
   ],
   "source": [
    "metrobikes['Bicycle ID'].nunique()"
   ]
  },
  {
   "cell_type": "markdown",
   "id": "26f01de9",
   "metadata": {},
   "source": [
    "### 1019 different bicycle ID, some are numbers some have strings"
   ]
  },
  {
   "cell_type": "code",
   "execution_count": 23,
   "id": "1f354658",
   "metadata": {},
   "outputs": [
    {
     "data": {
      "text/plain": [
       "classic     1331702\n",
       "electric     660024\n",
       "Name: Bike Type, dtype: int64"
      ]
     },
     "execution_count": 23,
     "metadata": {},
     "output_type": "execute_result"
    }
   ],
   "source": [
    "#check frequencies of bike type\n",
    "metrobikes['Bike Type'].value_counts()"
   ]
  },
  {
   "cell_type": "markdown",
   "id": "cb7c62b6",
   "metadata": {},
   "source": [
    "### bikes categorized as classic (66.9%) or electric (33%)"
   ]
  },
  {
   "cell_type": "code",
   "execution_count": 28,
   "id": "f9187325",
   "metadata": {},
   "outputs": [
    {
     "data": {
      "text/plain": [
       "21st/Speedway @ PCL      73263\n",
       "21st & Speedway @PCL     71145\n",
       "Dean Keeton/Speedway     48270\n",
       "Zilker Park              47031\n",
       "Riverside/South Lamar    32512\n",
       "                         ...  \n",
       "Eeyore's 2018                2\n",
       "Mobile Station               1\n",
       "Stolen                       1\n",
       "cesar Chavez/Congress        1\n",
       "Eeyore's 2017                1\n",
       "Name: Checkout Kiosk, Length: 200, dtype: int64"
      ]
     },
     "execution_count": 28,
     "metadata": {},
     "output_type": "execute_result"
    }
   ],
   "source": [
    "#check frequencies of checkout chekcout kiosk\n",
    "metrobikes['Checkout Kiosk'].value_counts()"
   ]
  },
  {
   "cell_type": "markdown",
   "id": "f59b5a47",
   "metadata": {},
   "source": [
    "### 200 different checkout kiosk locations with duplicates"
   ]
  },
  {
   "cell_type": "code",
   "execution_count": 29,
   "id": "c1ce4ebe",
   "metadata": {},
   "outputs": [
    {
     "data": {
      "text/plain": [
       "21st/Speedway @ PCL                            74515\n",
       "21st & Speedway @PCL                           73312\n",
       "Dean Keeton/Speedway                           52402\n",
       "Zilker Park                                    51082\n",
       "21st/Guadalupe                                 32232\n",
       "                                               ...  \n",
       "Mobile Station                                     8\n",
       "Mobile Station @ Boardwalk Opening Ceremony        4\n",
       "Eeyore's 2017                                      4\n",
       "Earth Day ATX 2017                                 2\n",
       "Re-branding                                        1\n",
       "Name: Return Kiosk, Length: 201, dtype: int64"
      ]
     },
     "execution_count": 29,
     "metadata": {},
     "output_type": "execute_result"
    }
   ],
   "source": [
    "#check frequencies of return kiosk\n",
    "metrobikes['Return Kiosk'].value_counts()"
   ]
  },
  {
   "cell_type": "markdown",
   "id": "260ce3e3",
   "metadata": {},
   "source": [
    "### 201 different return kiosk names with duplicates"
   ]
  },
  {
   "cell_type": "code",
   "execution_count": 60,
   "id": "49218656",
   "metadata": {
    "scrolled": true
   },
   "outputs": [
    {
     "data": {
      "text/plain": [
       "3798     144033\n",
       "2498      68181\n",
       "2575      57658\n",
       "2707      53967\n",
       "2499      52047\n",
       "          ...  \n",
       "2500        418\n",
       "3456        369\n",
       "1008        257\n",
       "Event       119\n",
       "1001         15\n",
       "Name: Return Kiosk ID, Length: 106, dtype: int64"
      ]
     },
     "execution_count": 60,
     "metadata": {},
     "output_type": "execute_result"
    }
   ],
   "source": [
    "#check frequencies of return kiosk ID\n",
    "metrobikes['Return Kiosk ID'].value_counts()"
   ]
  },
  {
   "cell_type": "markdown",
   "id": "1a4d5ab6",
   "metadata": {},
   "source": [
    "### mix of numbers and characters, only non-numeric label is Event and only has 119 rows, will remove"
   ]
  },
  {
   "cell_type": "markdown",
   "id": "8fb0a080",
   "metadata": {},
   "source": [
    "## 8. Check for missing values"
   ]
  },
  {
   "cell_type": "code",
   "execution_count": 30,
   "id": "a92497ab",
   "metadata": {},
   "outputs": [
    {
     "data": {
      "text/plain": [
       "Trip ID                      0\n",
       "Membership Type           5237\n",
       "Bicycle ID                   0\n",
       "Bike Type                    0\n",
       "Checkout Datetime            0\n",
       "Checkout Date                0\n",
       "Checkout Time                0\n",
       "Checkout Kiosk ID         4447\n",
       "Checkout Kiosk               0\n",
       "Return Kiosk ID          31788\n",
       "Return Kiosk                 0\n",
       "Trip Duration Minutes        0\n",
       "Month                        0\n",
       "Year                         0\n",
       "dtype: int64"
      ]
     },
     "execution_count": 30,
     "metadata": {},
     "output_type": "execute_result"
    }
   ],
   "source": [
    "metrobikes.isnull().sum()"
   ]
  },
  {
   "cell_type": "markdown",
   "id": "10f8f03f",
   "metadata": {},
   "source": [
    "### 5,237 missing in Membership Type, 4,447 missing in Checkout Kiosk ID, 31,788 missing in Return Kiosk ID\n",
    "### 0.2% missing in Membership Type, 0.2% missing in Checkout Kiosk ID, 1.6% missing in Return Kiosk ID\n",
    "### 2% total missing from dataset"
   ]
  },
  {
   "cell_type": "markdown",
   "id": "e3b17960",
   "metadata": {},
   "source": [
    "## 9. Investigate missing values for patterns"
   ]
  },
  {
   "cell_type": "markdown",
   "id": "8aabd0fe",
   "metadata": {},
   "source": [
    "### Checkout Kiosk ID Missing Values"
   ]
  },
  {
   "cell_type": "code",
   "execution_count": 34,
   "id": "cfda768a",
   "metadata": {
    "scrolled": true
   },
   "outputs": [
    {
     "data": {
      "text/html": [
       "<div>\n",
       "<style scoped>\n",
       "    .dataframe tbody tr th:only-of-type {\n",
       "        vertical-align: middle;\n",
       "    }\n",
       "\n",
       "    .dataframe tbody tr th {\n",
       "        vertical-align: top;\n",
       "    }\n",
       "\n",
       "    .dataframe thead th {\n",
       "        text-align: right;\n",
       "    }\n",
       "</style>\n",
       "<table border=\"1\" class=\"dataframe\">\n",
       "  <thead>\n",
       "    <tr style=\"text-align: right;\">\n",
       "      <th></th>\n",
       "      <th>Trip ID</th>\n",
       "      <th>Membership Type</th>\n",
       "      <th>Bicycle ID</th>\n",
       "      <th>Bike Type</th>\n",
       "      <th>Checkout Datetime</th>\n",
       "      <th>Checkout Date</th>\n",
       "      <th>Checkout Time</th>\n",
       "      <th>Checkout Kiosk ID</th>\n",
       "      <th>Checkout Kiosk</th>\n",
       "      <th>Return Kiosk ID</th>\n",
       "      <th>Return Kiosk</th>\n",
       "      <th>Trip Duration Minutes</th>\n",
       "      <th>Month</th>\n",
       "      <th>Year</th>\n",
       "    </tr>\n",
       "  </thead>\n",
       "  <tbody>\n",
       "    <tr>\n",
       "      <th>1459</th>\n",
       "      <td>4091089</td>\n",
       "      <td>Founding Member</td>\n",
       "      <td>712</td>\n",
       "      <td>classic</td>\n",
       "      <td>03/12/2015 11:45:16 AM</td>\n",
       "      <td>03/12/2015</td>\n",
       "      <td>11:45:16</td>\n",
       "      <td>NaN</td>\n",
       "      <td>Repair Shop</td>\n",
       "      <td>2548</td>\n",
       "      <td>Guadalupe/West Mall @ University Co-op</td>\n",
       "      <td>14</td>\n",
       "      <td>3</td>\n",
       "      <td>2015</td>\n",
       "    </tr>\n",
       "    <tr>\n",
       "      <th>1466</th>\n",
       "      <td>4091011</td>\n",
       "      <td>Local365</td>\n",
       "      <td>483</td>\n",
       "      <td>classic</td>\n",
       "      <td>03/12/2015 11:36:47 AM</td>\n",
       "      <td>03/12/2015</td>\n",
       "      <td>11:36:47</td>\n",
       "      <td>NaN</td>\n",
       "      <td>Ready for deployment</td>\n",
       "      <td>2497</td>\n",
       "      <td>11th/Congress @ The Texas Capitol</td>\n",
       "      <td>2</td>\n",
       "      <td>3</td>\n",
       "      <td>2015</td>\n",
       "    </tr>\n",
       "    <tr>\n",
       "      <th>2169</th>\n",
       "      <td>4073137</td>\n",
       "      <td>Local365</td>\n",
       "      <td>503</td>\n",
       "      <td>classic</td>\n",
       "      <td>03/10/2015 03:11:03 PM</td>\n",
       "      <td>03/10/2015</td>\n",
       "      <td>15:11:03</td>\n",
       "      <td>NaN</td>\n",
       "      <td>Ready for deployment</td>\n",
       "      <td>2568</td>\n",
       "      <td>East 11th/Victory Grill</td>\n",
       "      <td>8</td>\n",
       "      <td>3</td>\n",
       "      <td>2015</td>\n",
       "    </tr>\n",
       "    <tr>\n",
       "      <th>3289</th>\n",
       "      <td>4048996</td>\n",
       "      <td>Local365</td>\n",
       "      <td>214</td>\n",
       "      <td>classic</td>\n",
       "      <td>03/06/2015 06:06:15 PM</td>\n",
       "      <td>03/06/2015</td>\n",
       "      <td>18:06:15</td>\n",
       "      <td>NaN</td>\n",
       "      <td>Ready for deployment</td>\n",
       "      <td>2569</td>\n",
       "      <td>East 11th/San Marcos</td>\n",
       "      <td>8</td>\n",
       "      <td>3</td>\n",
       "      <td>2015</td>\n",
       "    </tr>\n",
       "    <tr>\n",
       "      <th>3607</th>\n",
       "      <td>4040490</td>\n",
       "      <td>Local365</td>\n",
       "      <td>571</td>\n",
       "      <td>classic</td>\n",
       "      <td>03/05/2015 04:55:42 PM</td>\n",
       "      <td>03/05/2015</td>\n",
       "      <td>16:55:42</td>\n",
       "      <td>NaN</td>\n",
       "      <td>Ready for deployment</td>\n",
       "      <td>2569</td>\n",
       "      <td>East 11th/San Marcos</td>\n",
       "      <td>8</td>\n",
       "      <td>3</td>\n",
       "      <td>2015</td>\n",
       "    </tr>\n",
       "  </tbody>\n",
       "</table>\n",
       "</div>"
      ],
      "text/plain": [
       "      Trip ID  Membership Type Bicycle ID Bike Type       Checkout Datetime  \\\n",
       "1459  4091089  Founding Member        712   classic  03/12/2015 11:45:16 AM   \n",
       "1466  4091011         Local365        483   classic  03/12/2015 11:36:47 AM   \n",
       "2169  4073137         Local365        503   classic  03/10/2015 03:11:03 PM   \n",
       "3289  4048996         Local365        214   classic  03/06/2015 06:06:15 PM   \n",
       "3607  4040490         Local365        571   classic  03/05/2015 04:55:42 PM   \n",
       "\n",
       "     Checkout Date Checkout Time  Checkout Kiosk ID        Checkout Kiosk  \\\n",
       "1459    03/12/2015      11:45:16                NaN           Repair Shop   \n",
       "1466    03/12/2015      11:36:47                NaN  Ready for deployment   \n",
       "2169    03/10/2015      15:11:03                NaN  Ready for deployment   \n",
       "3289    03/06/2015      18:06:15                NaN  Ready for deployment   \n",
       "3607    03/05/2015      16:55:42                NaN  Ready for deployment   \n",
       "\n",
       "     Return Kiosk ID                            Return Kiosk  \\\n",
       "1459            2548  Guadalupe/West Mall @ University Co-op   \n",
       "1466            2497       11th/Congress @ The Texas Capitol   \n",
       "2169            2568                 East 11th/Victory Grill   \n",
       "3289            2569                    East 11th/San Marcos   \n",
       "3607            2569                    East 11th/San Marcos   \n",
       "\n",
       "      Trip Duration Minutes  Month  Year  \n",
       "1459                     14      3  2015  \n",
       "1466                      2      3  2015  \n",
       "2169                      8      3  2015  \n",
       "3289                      8      3  2015  \n",
       "3607                      8      3  2015  "
      ]
     },
     "execution_count": 34,
     "metadata": {},
     "output_type": "execute_result"
    }
   ],
   "source": [
    "#create subset to look for patterns in checkout kiosk ID\n",
    "checkout_ID_missing = metrobikes[metrobikes['Checkout Kiosk ID'].isnull() == True]\n",
    "checkout_ID_missing.head()"
   ]
  },
  {
   "cell_type": "code",
   "execution_count": 33,
   "id": "79c8592d",
   "metadata": {},
   "outputs": [
    {
     "data": {
      "text/plain": [
       "Dean Keeton & Speedway                                3670\n",
       "Ready for deployment                                   279\n",
       "Bullock Museum @ Congress & MLK                        167\n",
       "State Capitol @ 14th & Colorado                        106\n",
       "Springfest 2022                                         32\n",
       "MapJam at Pan Am Park                                   32\n",
       "MapJam at French Legation                               26\n",
       "MapJam at Hops & Grain Brewery                          17\n",
       "Repair Shop                                             15\n",
       "Main Office                                             14\n",
       "MapJam at Scoot Inn                                     11\n",
       "Mobile Station @ Boardwalk Opening Ceremony              9\n",
       "Re-branding                                              5\n",
       "Rainey St @ Cummings                                     5\n",
       "Marketing Event                                          4\n",
       "4th & Congress                                           4\n",
       "2nd & Congress                                           4\n",
       "Customer Service                                         4\n",
       "Mobile Station @ Unplugged                               4\n",
       "West & 6th St.                                           3\n",
       "East 4th & Chicon                                        2\n",
       "Medina & East 6th                                        2\n",
       "Eeyore's 2018                                            2\n",
       "San Jacinto & 8th Street                                 2\n",
       "Nueces & 3rd                                             2\n",
       "Convention Center / 3rd & Trinity                        2\n",
       "Zilker Park                                              2\n",
       "Congress & Cesar Chavez                                  2\n",
       "Riverside @ S. Lamar                                     2\n",
       "East 11th St. at Victory Grill                           2\n",
       "Palmer Auditorium                                        2\n",
       "21st & Speedway @PCL                                     1\n",
       "Mobile Station                                           1\n",
       "Henderson & 9th                                          1\n",
       "17th & Guadalupe                                         1\n",
       "Brazos & 6th                                             1\n",
       "3rd & West                                               1\n",
       "State Capitol Visitors Garage @ San Jacinto & 12th       1\n",
       "Trinity & 6th Street                                     1\n",
       "Pfluger Bridge @ W 2nd Street                            1\n",
       "City Hall / Lavaca & 2nd                                 1\n",
       "Davis at Rainey Street                                   1\n",
       "East 6th at Robert Martinez                              1\n",
       "MoPac Pedestrian Bridge @ Veterans Drive                 1\n",
       "Eeyore's 2017                                            1\n",
       "Name: Checkout Kiosk, dtype: int64"
      ]
     },
     "execution_count": 33,
     "metadata": {},
     "output_type": "execute_result"
    }
   ],
   "source": [
    "checkout_ID_missing['Checkout Kiosk'].value_counts()"
   ]
  },
  {
   "cell_type": "markdown",
   "id": "1eae9f98",
   "metadata": {},
   "source": [
    "### 394 are d/t jams or repair and are good candidates for removal, many are simply uncategorized but should have kiosk IDs"
   ]
  },
  {
   "cell_type": "markdown",
   "id": "a4765bda",
   "metadata": {},
   "source": [
    "### Return Kiosk ID Missing Values"
   ]
  },
  {
   "cell_type": "code",
   "execution_count": 42,
   "id": "5235d845",
   "metadata": {
    "scrolled": true
   },
   "outputs": [
    {
     "data": {
      "text/html": [
       "<div>\n",
       "<style scoped>\n",
       "    .dataframe tbody tr th:only-of-type {\n",
       "        vertical-align: middle;\n",
       "    }\n",
       "\n",
       "    .dataframe tbody tr th {\n",
       "        vertical-align: top;\n",
       "    }\n",
       "\n",
       "    .dataframe thead th {\n",
       "        text-align: right;\n",
       "    }\n",
       "</style>\n",
       "<table border=\"1\" class=\"dataframe\">\n",
       "  <thead>\n",
       "    <tr style=\"text-align: right;\">\n",
       "      <th></th>\n",
       "      <th>Trip ID</th>\n",
       "      <th>Membership Type</th>\n",
       "      <th>Bicycle ID</th>\n",
       "      <th>Bike Type</th>\n",
       "      <th>Checkout Datetime</th>\n",
       "      <th>Checkout Date</th>\n",
       "      <th>Checkout Time</th>\n",
       "      <th>Checkout Kiosk ID</th>\n",
       "      <th>Checkout Kiosk</th>\n",
       "      <th>Return Kiosk ID</th>\n",
       "      <th>Return Kiosk</th>\n",
       "      <th>Trip Duration Minutes</th>\n",
       "      <th>Month</th>\n",
       "      <th>Year</th>\n",
       "    </tr>\n",
       "  </thead>\n",
       "  <tbody>\n",
       "    <tr>\n",
       "      <th>364</th>\n",
       "      <td>4103736</td>\n",
       "      <td>24 Hour Walk Up Pass</td>\n",
       "      <td>561</td>\n",
       "      <td>classic</td>\n",
       "      <td>03/13/2015 01:38:09 PM</td>\n",
       "      <td>03/13/2015</td>\n",
       "      <td>13:38:09</td>\n",
       "      <td>2494.0</td>\n",
       "      <td>2nd/Congress</td>\n",
       "      <td>NaN</td>\n",
       "      <td>Customer Service</td>\n",
       "      <td>39</td>\n",
       "      <td>3</td>\n",
       "      <td>2015</td>\n",
       "    </tr>\n",
       "    <tr>\n",
       "      <th>1163</th>\n",
       "      <td>4095624</td>\n",
       "      <td>24 Hour Walk Up Pass</td>\n",
       "      <td>869</td>\n",
       "      <td>classic</td>\n",
       "      <td>03/12/2015 04:50:07 PM</td>\n",
       "      <td>03/12/2015</td>\n",
       "      <td>16:50:07</td>\n",
       "      <td>2539.0</td>\n",
       "      <td>3rd/Trinity @ The Convention Center</td>\n",
       "      <td>NaN</td>\n",
       "      <td>Customer Service</td>\n",
       "      <td>29</td>\n",
       "      <td>3</td>\n",
       "      <td>2015</td>\n",
       "    </tr>\n",
       "    <tr>\n",
       "      <th>1368</th>\n",
       "      <td>4092408</td>\n",
       "      <td>Founding Member</td>\n",
       "      <td>207</td>\n",
       "      <td>classic</td>\n",
       "      <td>03/12/2015 01:39:33 PM</td>\n",
       "      <td>03/12/2015</td>\n",
       "      <td>13:39:33</td>\n",
       "      <td>2497.0</td>\n",
       "      <td>11th/Congress @ The Texas Capitol</td>\n",
       "      <td>NaN</td>\n",
       "      <td>Ready for deployment</td>\n",
       "      <td>2</td>\n",
       "      <td>3</td>\n",
       "      <td>2015</td>\n",
       "    </tr>\n",
       "    <tr>\n",
       "      <th>1489</th>\n",
       "      <td>4090600</td>\n",
       "      <td>Local365</td>\n",
       "      <td>483</td>\n",
       "      <td>classic</td>\n",
       "      <td>03/12/2015 11:00:34 AM</td>\n",
       "      <td>03/12/2015</td>\n",
       "      <td>11:00:34</td>\n",
       "      <td>2539.0</td>\n",
       "      <td>3rd/Trinity @ The Convention Center</td>\n",
       "      <td>NaN</td>\n",
       "      <td>Ready for deployment</td>\n",
       "      <td>26</td>\n",
       "      <td>3</td>\n",
       "      <td>2015</td>\n",
       "    </tr>\n",
       "    <tr>\n",
       "      <th>2245</th>\n",
       "      <td>4071954</td>\n",
       "      <td>Local365</td>\n",
       "      <td>248</td>\n",
       "      <td>classic</td>\n",
       "      <td>03/10/2015 12:54:39 PM</td>\n",
       "      <td>03/10/2015</td>\n",
       "      <td>12:54:39</td>\n",
       "      <td>2568.0</td>\n",
       "      <td>East 11th/Victory Grill</td>\n",
       "      <td>NaN</td>\n",
       "      <td>Ready for deployment</td>\n",
       "      <td>8</td>\n",
       "      <td>3</td>\n",
       "      <td>2015</td>\n",
       "    </tr>\n",
       "  </tbody>\n",
       "</table>\n",
       "</div>"
      ],
      "text/plain": [
       "      Trip ID       Membership Type Bicycle ID Bike Type  \\\n",
       "364   4103736  24 Hour Walk Up Pass        561   classic   \n",
       "1163  4095624  24 Hour Walk Up Pass        869   classic   \n",
       "1368  4092408       Founding Member        207   classic   \n",
       "1489  4090600              Local365        483   classic   \n",
       "2245  4071954              Local365        248   classic   \n",
       "\n",
       "           Checkout Datetime Checkout Date Checkout Time  Checkout Kiosk ID  \\\n",
       "364   03/13/2015 01:38:09 PM    03/13/2015      13:38:09             2494.0   \n",
       "1163  03/12/2015 04:50:07 PM    03/12/2015      16:50:07             2539.0   \n",
       "1368  03/12/2015 01:39:33 PM    03/12/2015      13:39:33             2497.0   \n",
       "1489  03/12/2015 11:00:34 AM    03/12/2015      11:00:34             2539.0   \n",
       "2245  03/10/2015 12:54:39 PM    03/10/2015      12:54:39             2568.0   \n",
       "\n",
       "                           Checkout Kiosk Return Kiosk ID  \\\n",
       "364                          2nd/Congress             NaN   \n",
       "1163  3rd/Trinity @ The Convention Center             NaN   \n",
       "1368    11th/Congress @ The Texas Capitol             NaN   \n",
       "1489  3rd/Trinity @ The Convention Center             NaN   \n",
       "2245              East 11th/Victory Grill             NaN   \n",
       "\n",
       "              Return Kiosk  Trip Duration Minutes  Month  Year  \n",
       "364       Customer Service                     39      3  2015  \n",
       "1163      Customer Service                     29      3  2015  \n",
       "1368  Ready for deployment                      2      3  2015  \n",
       "1489  Ready for deployment                     26      3  2015  \n",
       "2245  Ready for deployment                      8      3  2015  "
      ]
     },
     "execution_count": 42,
     "metadata": {},
     "output_type": "execute_result"
    }
   ],
   "source": [
    "#create subset to look for patterns in return kiosk ID\n",
    "return_ID_missing = metrobikes[metrobikes['Return Kiosk ID'].isnull() == True]\n",
    "return_ID_missing.head()"
   ]
  },
  {
   "cell_type": "code",
   "execution_count": 59,
   "id": "7b9df20b",
   "metadata": {
    "scrolled": true
   },
   "outputs": [
    {
     "data": {
      "text/plain": [
       "Dean Keeton & Speedway      4056\n",
       "21st/Speedway @ PCL         3702\n",
       "Dean Keeton/Speedway        2495\n",
       "26th/Nueces                 1581\n",
       "Dean Keeton/Whitis          1234\n",
       "                            ... \n",
       "City Hall / Lavaca & 2nd       1\n",
       "17th & Guadalupe               1\n",
       "21st & Speedway @PCL           1\n",
       "Re-branding                    1\n",
       "Davis at Rainey Street         1\n",
       "Name: Return Kiosk, Length: 126, dtype: int64"
      ]
     },
     "execution_count": 59,
     "metadata": {},
     "output_type": "execute_result"
    }
   ],
   "source": [
    "#check return kiosk names to investigate if information to fill missing values is available\n",
    "return_ID_missing['Return Kiosk'].value_counts()"
   ]
  },
  {
   "cell_type": "markdown",
   "id": "19501ebe",
   "metadata": {},
   "source": [
    "### Most missing values have a kiosk name but haven't been assigned kiosk number"
   ]
  },
  {
   "cell_type": "markdown",
   "id": "22953d2f",
   "metadata": {},
   "source": [
    "### Membership type missing values"
   ]
  },
  {
   "cell_type": "code",
   "execution_count": 43,
   "id": "38c8c660",
   "metadata": {},
   "outputs": [
    {
     "data": {
      "text/html": [
       "<div>\n",
       "<style scoped>\n",
       "    .dataframe tbody tr th:only-of-type {\n",
       "        vertical-align: middle;\n",
       "    }\n",
       "\n",
       "    .dataframe tbody tr th {\n",
       "        vertical-align: top;\n",
       "    }\n",
       "\n",
       "    .dataframe thead th {\n",
       "        text-align: right;\n",
       "    }\n",
       "</style>\n",
       "<table border=\"1\" class=\"dataframe\">\n",
       "  <thead>\n",
       "    <tr style=\"text-align: right;\">\n",
       "      <th></th>\n",
       "      <th>Trip ID</th>\n",
       "      <th>Membership Type</th>\n",
       "      <th>Bicycle ID</th>\n",
       "      <th>Bike Type</th>\n",
       "      <th>Checkout Datetime</th>\n",
       "      <th>Checkout Date</th>\n",
       "      <th>Checkout Time</th>\n",
       "      <th>Checkout Kiosk ID</th>\n",
       "      <th>Checkout Kiosk</th>\n",
       "      <th>Return Kiosk ID</th>\n",
       "      <th>Return Kiosk</th>\n",
       "      <th>Trip Duration Minutes</th>\n",
       "      <th>Month</th>\n",
       "      <th>Year</th>\n",
       "    </tr>\n",
       "  </thead>\n",
       "  <tbody>\n",
       "    <tr>\n",
       "      <th>206494</th>\n",
       "      <td>14560892</td>\n",
       "      <td>NaN</td>\n",
       "      <td>190</td>\n",
       "      <td>classic</td>\n",
       "      <td>04/24/2017 09:50:12 AM</td>\n",
       "      <td>04/24/2017</td>\n",
       "      <td>9:50:12</td>\n",
       "      <td>3619.0</td>\n",
       "      <td>6th &amp; Congress</td>\n",
       "      <td>3294</td>\n",
       "      <td>Guadalupe &amp; 6th</td>\n",
       "      <td>4</td>\n",
       "      <td>4</td>\n",
       "      <td>2017</td>\n",
       "    </tr>\n",
       "    <tr>\n",
       "      <th>206495</th>\n",
       "      <td>14560158</td>\n",
       "      <td>NaN</td>\n",
       "      <td>181</td>\n",
       "      <td>classic</td>\n",
       "      <td>04/24/2017 08:46:35 AM</td>\n",
       "      <td>04/24/2017</td>\n",
       "      <td>8:46:35</td>\n",
       "      <td>2501.0</td>\n",
       "      <td>5th &amp; Bowie</td>\n",
       "      <td>3292</td>\n",
       "      <td>East 4th &amp; Chicon</td>\n",
       "      <td>22</td>\n",
       "      <td>4</td>\n",
       "      <td>2017</td>\n",
       "    </tr>\n",
       "    <tr>\n",
       "      <th>206506</th>\n",
       "      <td>14479978</td>\n",
       "      <td>NaN</td>\n",
       "      <td>326</td>\n",
       "      <td>classic</td>\n",
       "      <td>04/17/2017 02:49:23 PM</td>\n",
       "      <td>04/17/2017</td>\n",
       "      <td>14:49:23</td>\n",
       "      <td>2496.0</td>\n",
       "      <td>8th &amp; Congress</td>\n",
       "      <td>2570</td>\n",
       "      <td>South Congress &amp; Academy</td>\n",
       "      <td>22</td>\n",
       "      <td>4</td>\n",
       "      <td>2017</td>\n",
       "    </tr>\n",
       "    <tr>\n",
       "      <th>206512</th>\n",
       "      <td>17336091</td>\n",
       "      <td>NaN</td>\n",
       "      <td>1486</td>\n",
       "      <td>classic</td>\n",
       "      <td>05/10/2018 09:47:51 AM</td>\n",
       "      <td>05/10/2018</td>\n",
       "      <td>9:47:51</td>\n",
       "      <td>2499.0</td>\n",
       "      <td>City Hall / Lavaca &amp; 2nd</td>\n",
       "      <td>2562</td>\n",
       "      <td>San Jacinto &amp; 8th Street</td>\n",
       "      <td>9</td>\n",
       "      <td>5</td>\n",
       "      <td>2018</td>\n",
       "    </tr>\n",
       "    <tr>\n",
       "      <th>206520</th>\n",
       "      <td>14315367</td>\n",
       "      <td>NaN</td>\n",
       "      <td>749</td>\n",
       "      <td>classic</td>\n",
       "      <td>04/05/2017 08:06:26 AM</td>\n",
       "      <td>04/05/2017</td>\n",
       "      <td>8:06:26</td>\n",
       "      <td>2494.0</td>\n",
       "      <td>2nd &amp; Congress</td>\n",
       "      <td>2540</td>\n",
       "      <td>17th &amp; Guadalupe</td>\n",
       "      <td>84</td>\n",
       "      <td>4</td>\n",
       "      <td>2017</td>\n",
       "    </tr>\n",
       "  </tbody>\n",
       "</table>\n",
       "</div>"
      ],
      "text/plain": [
       "         Trip ID Membership Type Bicycle ID Bike Type       Checkout Datetime  \\\n",
       "206494  14560892             NaN        190   classic  04/24/2017 09:50:12 AM   \n",
       "206495  14560158             NaN        181   classic  04/24/2017 08:46:35 AM   \n",
       "206506  14479978             NaN        326   classic  04/17/2017 02:49:23 PM   \n",
       "206512  17336091             NaN       1486   classic  05/10/2018 09:47:51 AM   \n",
       "206520  14315367             NaN        749   classic  04/05/2017 08:06:26 AM   \n",
       "\n",
       "       Checkout Date Checkout Time  Checkout Kiosk ID  \\\n",
       "206494    04/24/2017       9:50:12             3619.0   \n",
       "206495    04/24/2017       8:46:35             2501.0   \n",
       "206506    04/17/2017      14:49:23             2496.0   \n",
       "206512    05/10/2018       9:47:51             2499.0   \n",
       "206520    04/05/2017       8:06:26             2494.0   \n",
       "\n",
       "                  Checkout Kiosk Return Kiosk ID              Return Kiosk  \\\n",
       "206494            6th & Congress            3294           Guadalupe & 6th   \n",
       "206495               5th & Bowie            3292         East 4th & Chicon   \n",
       "206506            8th & Congress            2570  South Congress & Academy   \n",
       "206512  City Hall / Lavaca & 2nd            2562  San Jacinto & 8th Street   \n",
       "206520            2nd & Congress            2540          17th & Guadalupe   \n",
       "\n",
       "        Trip Duration Minutes  Month  Year  \n",
       "206494                      4      4  2017  \n",
       "206495                     22      4  2017  \n",
       "206506                     22      4  2017  \n",
       "206512                      9      5  2018  \n",
       "206520                     84      4  2017  "
      ]
     },
     "execution_count": 43,
     "metadata": {},
     "output_type": "execute_result"
    }
   ],
   "source": [
    "#create subset to look for patterns in Membership Type\n",
    "mem_type_missing = metrobikes[metrobikes['Membership Type'].isnull() == True]\n",
    "mem_type_missing.head()"
   ]
  },
  {
   "cell_type": "code",
   "execution_count": 44,
   "id": "74722ab1",
   "metadata": {},
   "outputs": [
    {
     "data": {
      "text/plain": [
       "2018    3406\n",
       "2017    1728\n",
       "2020      49\n",
       "2019      36\n",
       "2021      13\n",
       "2022       5\n",
       "Name: Year, dtype: int64"
      ]
     },
     "execution_count": 44,
     "metadata": {},
     "output_type": "execute_result"
    }
   ],
   "source": [
    "#check interaction between membership type and year\n",
    "mem_type_missing['Year'].value_counts()"
   ]
  },
  {
   "cell_type": "markdown",
   "id": "d76961f6",
   "metadata": {},
   "source": [
    "### most rows that have missing memberships are from 2018 and 2017"
   ]
  },
  {
   "cell_type": "markdown",
   "id": "23795830",
   "metadata": {},
   "source": [
    "## 10. Check for duplicates"
   ]
  },
  {
   "cell_type": "code",
   "execution_count": 49,
   "id": "9a6c8ef1",
   "metadata": {},
   "outputs": [
    {
     "data": {
      "text/html": [
       "<div>\n",
       "<style scoped>\n",
       "    .dataframe tbody tr th:only-of-type {\n",
       "        vertical-align: middle;\n",
       "    }\n",
       "\n",
       "    .dataframe tbody tr th {\n",
       "        vertical-align: top;\n",
       "    }\n",
       "\n",
       "    .dataframe thead th {\n",
       "        text-align: right;\n",
       "    }\n",
       "</style>\n",
       "<table border=\"1\" class=\"dataframe\">\n",
       "  <thead>\n",
       "    <tr style=\"text-align: right;\">\n",
       "      <th></th>\n",
       "      <th>Trip ID</th>\n",
       "      <th>Membership Type</th>\n",
       "      <th>Bicycle ID</th>\n",
       "      <th>Bike Type</th>\n",
       "      <th>Checkout Datetime</th>\n",
       "      <th>Checkout Date</th>\n",
       "      <th>Checkout Time</th>\n",
       "      <th>Checkout Kiosk ID</th>\n",
       "      <th>Checkout Kiosk</th>\n",
       "      <th>Return Kiosk ID</th>\n",
       "      <th>Return Kiosk</th>\n",
       "      <th>Trip Duration Minutes</th>\n",
       "      <th>Month</th>\n",
       "      <th>Year</th>\n",
       "    </tr>\n",
       "  </thead>\n",
       "  <tbody>\n",
       "  </tbody>\n",
       "</table>\n",
       "</div>"
      ],
      "text/plain": [
       "Empty DataFrame\n",
       "Columns: [Trip ID, Membership Type, Bicycle ID, Bike Type, Checkout Datetime, Checkout Date, Checkout Time, Checkout Kiosk ID, Checkout Kiosk, Return Kiosk ID, Return Kiosk, Trip Duration Minutes, Month, Year]\n",
       "Index: []"
      ]
     },
     "execution_count": 49,
     "metadata": {},
     "output_type": "execute_result"
    }
   ],
   "source": [
    "#create duplicates dataframe\n",
    "df_dupes = metrobikes[metrobikes.duplicated()]\n",
    "df_dupes"
   ]
  },
  {
   "cell_type": "markdown",
   "id": "deb171e4",
   "metadata": {},
   "source": [
    "### No duplicates"
   ]
  }
 ],
 "metadata": {
  "kernelspec": {
   "display_name": "Python 3 (ipykernel)",
   "language": "python",
   "name": "python3"
  },
  "language_info": {
   "codemirror_mode": {
    "name": "ipython",
    "version": 3
   },
   "file_extension": ".py",
   "mimetype": "text/x-python",
   "name": "python",
   "nbconvert_exporter": "python",
   "pygments_lexer": "ipython3",
   "version": "3.11.3"
  }
 },
 "nbformat": 4,
 "nbformat_minor": 5
}
