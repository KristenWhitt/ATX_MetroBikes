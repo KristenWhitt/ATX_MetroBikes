{
 "cells": [
  {
   "cell_type": "markdown",
   "id": "62f494b7",
   "metadata": {},
   "source": [
    "## 1. Import libraries and dataset"
   ]
  },
  {
   "cell_type": "code",
   "execution_count": 1,
   "id": "f477ed2d",
   "metadata": {},
   "outputs": [],
   "source": [
    "import pandas as pd\n",
    "import numpy as np\n",
    "import os"
   ]
  },
  {
   "cell_type": "code",
   "execution_count": 2,
   "id": "7a216755",
   "metadata": {},
   "outputs": [],
   "source": [
    "#create file path\n",
    "path = r'C:\\Users\\krist\\ATX Metro Bike'"
   ]
  },
  {
   "cell_type": "code",
   "execution_count": 3,
   "id": "ad85f9e6",
   "metadata": {},
   "outputs": [
    {
     "data": {
      "text/html": [
       "<div>\n",
       "<style scoped>\n",
       "    .dataframe tbody tr th:only-of-type {\n",
       "        vertical-align: middle;\n",
       "    }\n",
       "\n",
       "    .dataframe tbody tr th {\n",
       "        vertical-align: top;\n",
       "    }\n",
       "\n",
       "    .dataframe thead th {\n",
       "        text-align: right;\n",
       "    }\n",
       "</style>\n",
       "<table border=\"1\" class=\"dataframe\">\n",
       "  <thead>\n",
       "    <tr style=\"text-align: right;\">\n",
       "      <th></th>\n",
       "      <th>Trip ID</th>\n",
       "      <th>Membership Type</th>\n",
       "      <th>Bicycle ID</th>\n",
       "      <th>Bike Type</th>\n",
       "      <th>Checkout Datetime</th>\n",
       "      <th>Checkout Date</th>\n",
       "      <th>Checkout Time</th>\n",
       "      <th>Trip Time mins</th>\n",
       "      <th>Month</th>\n",
       "      <th>Year</th>\n",
       "      <th>Checkout Name Current</th>\n",
       "      <th>Checkout Kiosk ID current</th>\n",
       "      <th>Checkout Kiosk Status</th>\n",
       "      <th>Checkout Kiosk Geographic Location</th>\n",
       "      <th>Checkout Kiosk Dock Count</th>\n",
       "      <th>Return Name Current</th>\n",
       "      <th>Return Kiosk ID current</th>\n",
       "      <th>Return Kiosk Status</th>\n",
       "      <th>Return Kiosk Geographic Location</th>\n",
       "      <th>Return Kiosk Dock Count</th>\n",
       "    </tr>\n",
       "  </thead>\n",
       "  <tbody>\n",
       "    <tr>\n",
       "      <th>0</th>\n",
       "      <td>16459203</td>\n",
       "      <td>Local365</td>\n",
       "      <td>37</td>\n",
       "      <td>classic</td>\n",
       "      <td>2017-12-01 09:51:41</td>\n",
       "      <td>2017-12-01</td>\n",
       "      <td>09:51:41</td>\n",
       "      <td>3</td>\n",
       "      <td>12</td>\n",
       "      <td>2017</td>\n",
       "      <td>8th &amp; Congress</td>\n",
       "      <td>2496.0</td>\n",
       "      <td>active</td>\n",
       "      <td>(30.2698, -97.74186)</td>\n",
       "      <td>14.0</td>\n",
       "      <td>4th &amp; Congress</td>\n",
       "      <td>2495.0</td>\n",
       "      <td>active</td>\n",
       "      <td>(30.26634, -97.74378)</td>\n",
       "      <td>15.0</td>\n",
       "    </tr>\n",
       "    <tr>\n",
       "      <th>1</th>\n",
       "      <td>4106422</td>\n",
       "      <td>Local365</td>\n",
       "      <td>971</td>\n",
       "      <td>classic</td>\n",
       "      <td>2015-03-13 16:20:24</td>\n",
       "      <td>2015-03-13</td>\n",
       "      <td>16:20:24</td>\n",
       "      <td>14</td>\n",
       "      <td>3</td>\n",
       "      <td>2015</td>\n",
       "      <td>4th &amp; Congress</td>\n",
       "      <td>2495.0</td>\n",
       "      <td>active</td>\n",
       "      <td>(30.26634, -97.74378)</td>\n",
       "      <td>15.0</td>\n",
       "      <td>4th &amp; Congress</td>\n",
       "      <td>2495.0</td>\n",
       "      <td>active</td>\n",
       "      <td>(30.26634, -97.74378)</td>\n",
       "      <td>15.0</td>\n",
       "    </tr>\n",
       "    <tr>\n",
       "      <th>2</th>\n",
       "      <td>3454605</td>\n",
       "      <td>Local365</td>\n",
       "      <td>29</td>\n",
       "      <td>classic</td>\n",
       "      <td>2014-10-14 08:33:54</td>\n",
       "      <td>2014-10-14</td>\n",
       "      <td>08:33:54</td>\n",
       "      <td>22</td>\n",
       "      <td>10</td>\n",
       "      <td>2014</td>\n",
       "      <td>Toomey Rd @ South Lamar</td>\n",
       "      <td>2712.0</td>\n",
       "      <td>closed</td>\n",
       "      <td>(30.26304, -97.75824)</td>\n",
       "      <td>0.0</td>\n",
       "      <td>Riverside @ S. Lamar</td>\n",
       "      <td>2575.0</td>\n",
       "      <td>active</td>\n",
       "      <td>(30.26446, -97.75665)</td>\n",
       "      <td>15.0</td>\n",
       "    </tr>\n",
       "    <tr>\n",
       "      <th>3</th>\n",
       "      <td>3454592</td>\n",
       "      <td>Local365</td>\n",
       "      <td>646</td>\n",
       "      <td>classic</td>\n",
       "      <td>2014-10-14 08:32:03</td>\n",
       "      <td>2014-10-14</td>\n",
       "      <td>08:32:03</td>\n",
       "      <td>29</td>\n",
       "      <td>10</td>\n",
       "      <td>2014</td>\n",
       "      <td>3rd &amp; West</td>\n",
       "      <td>2552.0</td>\n",
       "      <td>active</td>\n",
       "      <td>(30.2678, -97.75189)</td>\n",
       "      <td>13.0</td>\n",
       "      <td>8th &amp; Congress</td>\n",
       "      <td>2496.0</td>\n",
       "      <td>active</td>\n",
       "      <td>(30.2698, -97.74186)</td>\n",
       "      <td>14.0</td>\n",
       "    </tr>\n",
       "    <tr>\n",
       "      <th>4</th>\n",
       "      <td>4106421</td>\n",
       "      <td>24 Hour Walk Up Pass</td>\n",
       "      <td>124</td>\n",
       "      <td>classic</td>\n",
       "      <td>2015-03-13 16:20:15</td>\n",
       "      <td>2015-03-13</td>\n",
       "      <td>16:20:15</td>\n",
       "      <td>10</td>\n",
       "      <td>3</td>\n",
       "      <td>2015</td>\n",
       "      <td>Dean Keeton &amp; Speedway</td>\n",
       "      <td>3794.0</td>\n",
       "      <td>active</td>\n",
       "      <td>(30.28953, -97.73695)</td>\n",
       "      <td>19.0</td>\n",
       "      <td>Long Center @ South 1st &amp; Riverside</td>\n",
       "      <td>2549.0</td>\n",
       "      <td>active</td>\n",
       "      <td>(30.25941, -97.74971)</td>\n",
       "      <td>13.0</td>\n",
       "    </tr>\n",
       "  </tbody>\n",
       "</table>\n",
       "</div>"
      ],
      "text/plain": [
       "    Trip ID       Membership Type Bicycle ID Bike Type   Checkout Datetime  \\\n",
       "0  16459203              Local365         37   classic 2017-12-01 09:51:41   \n",
       "1   4106422              Local365        971   classic 2015-03-13 16:20:24   \n",
       "2   3454605              Local365         29   classic 2014-10-14 08:33:54   \n",
       "3   3454592              Local365        646   classic 2014-10-14 08:32:03   \n",
       "4   4106421  24 Hour Walk Up Pass        124   classic 2015-03-13 16:20:15   \n",
       "\n",
       "  Checkout Date Checkout Time  Trip Time mins  Month  Year  \\\n",
       "0    2017-12-01      09:51:41               3     12  2017   \n",
       "1    2015-03-13      16:20:24              14      3  2015   \n",
       "2    2014-10-14      08:33:54              22     10  2014   \n",
       "3    2014-10-14      08:32:03              29     10  2014   \n",
       "4    2015-03-13      16:20:15              10      3  2015   \n",
       "\n",
       "     Checkout Name Current  Checkout Kiosk ID current Checkout Kiosk Status  \\\n",
       "0           8th & Congress                     2496.0                active   \n",
       "1           4th & Congress                     2495.0                active   \n",
       "2  Toomey Rd @ South Lamar                     2712.0                closed   \n",
       "3               3rd & West                     2552.0                active   \n",
       "4   Dean Keeton & Speedway                     3794.0                active   \n",
       "\n",
       "  Checkout Kiosk Geographic Location  Checkout Kiosk Dock Count  \\\n",
       "0               (30.2698, -97.74186)                       14.0   \n",
       "1              (30.26634, -97.74378)                       15.0   \n",
       "2              (30.26304, -97.75824)                        0.0   \n",
       "3               (30.2678, -97.75189)                       13.0   \n",
       "4              (30.28953, -97.73695)                       19.0   \n",
       "\n",
       "                   Return Name Current  Return Kiosk ID current  \\\n",
       "0                       4th & Congress                   2495.0   \n",
       "1                       4th & Congress                   2495.0   \n",
       "2                 Riverside @ S. Lamar                   2575.0   \n",
       "3                       8th & Congress                   2496.0   \n",
       "4  Long Center @ South 1st & Riverside                   2549.0   \n",
       "\n",
       "  Return Kiosk Status Return Kiosk Geographic Location  \\\n",
       "0              active            (30.26634, -97.74378)   \n",
       "1              active            (30.26634, -97.74378)   \n",
       "2              active            (30.26446, -97.75665)   \n",
       "3              active             (30.2698, -97.74186)   \n",
       "4              active            (30.25941, -97.74971)   \n",
       "\n",
       "   Return Kiosk Dock Count  \n",
       "0                     15.0  \n",
       "1                     15.0  \n",
       "2                     15.0  \n",
       "3                     14.0  \n",
       "4                     13.0  "
      ]
     },
     "execution_count": 3,
     "metadata": {},
     "output_type": "execute_result"
    }
   ],
   "source": [
    "#import dataset\n",
    "metrobikes = pd.read_pickle(os.path.join(path, \n",
    "                                         '02.Data', \n",
    "                                         'PreparedData', \n",
    "                                         'metrobikes_cleaned.pkl'))\n",
    "metrobikes.head()"
   ]
  },
  {
   "cell_type": "code",
   "execution_count": 4,
   "id": "d8b9bad9",
   "metadata": {},
   "outputs": [
    {
     "data": {
      "text/plain": [
       "(1844301, 20)"
      ]
     },
     "execution_count": 4,
     "metadata": {},
     "output_type": "execute_result"
    }
   ],
   "source": [
    "#check shape\n",
    "metrobikes.shape"
   ]
  },
  {
   "cell_type": "markdown",
   "id": "34227dba",
   "metadata": {},
   "source": [
    "## 2. Check correlations between variables"
   ]
  },
  {
   "cell_type": "code",
   "execution_count": 5,
   "id": "67f2e4d4",
   "metadata": {},
   "outputs": [],
   "source": [
    "#create list with columns of interest\n",
    "corr_cols = ['Trip Time mins', 'Month', 'Year']"
   ]
  },
  {
   "cell_type": "code",
   "execution_count": 6,
   "id": "ca529234",
   "metadata": {
    "scrolled": true
   },
   "outputs": [
    {
     "data": {
      "text/html": [
       "<div>\n",
       "<style scoped>\n",
       "    .dataframe tbody tr th:only-of-type {\n",
       "        vertical-align: middle;\n",
       "    }\n",
       "\n",
       "    .dataframe tbody tr th {\n",
       "        vertical-align: top;\n",
       "    }\n",
       "\n",
       "    .dataframe thead th {\n",
       "        text-align: right;\n",
       "    }\n",
       "</style>\n",
       "<table border=\"1\" class=\"dataframe\">\n",
       "  <thead>\n",
       "    <tr style=\"text-align: right;\">\n",
       "      <th></th>\n",
       "      <th>Trip Time mins</th>\n",
       "      <th>Month</th>\n",
       "      <th>Year</th>\n",
       "    </tr>\n",
       "  </thead>\n",
       "  <tbody>\n",
       "    <tr>\n",
       "      <th>Trip Time mins</th>\n",
       "      <td>1.000000</td>\n",
       "      <td>-0.02058</td>\n",
       "      <td>-0.058098</td>\n",
       "    </tr>\n",
       "    <tr>\n",
       "      <th>Month</th>\n",
       "      <td>-0.020580</td>\n",
       "      <td>1.00000</td>\n",
       "      <td>-0.038360</td>\n",
       "    </tr>\n",
       "    <tr>\n",
       "      <th>Year</th>\n",
       "      <td>-0.058098</td>\n",
       "      <td>-0.03836</td>\n",
       "      <td>1.000000</td>\n",
       "    </tr>\n",
       "  </tbody>\n",
       "</table>\n",
       "</div>"
      ],
      "text/plain": [
       "                Trip Time mins    Month      Year\n",
       "Trip Time mins        1.000000 -0.02058 -0.058098\n",
       "Month                -0.020580  1.00000 -0.038360\n",
       "Year                 -0.058098 -0.03836  1.000000"
      ]
     },
     "execution_count": 6,
     "metadata": {},
     "output_type": "execute_result"
    }
   ],
   "source": [
    "#investigate correlations\n",
    "metrobikes[corr_cols].corr(method = 'pearson')"
   ]
  },
  {
   "cell_type": "markdown",
   "id": "aac7ef7f",
   "metadata": {},
   "source": [
    "### all correlations are very weak"
   ]
  },
  {
   "cell_type": "markdown",
   "id": "e13a6983",
   "metadata": {},
   "source": [
    "## 3. Check distributions"
   ]
  },
  {
   "cell_type": "code",
   "execution_count": 7,
   "id": "ec7493e5",
   "metadata": {},
   "outputs": [
    {
     "data": {
      "text/plain": [
       "(1844301, 2)"
      ]
     },
     "execution_count": 7,
     "metadata": {},
     "output_type": "execute_result"
    }
   ],
   "source": [
    "#make subset with trip ID and checkout datetime\n",
    "trip_subset = metrobikes[['Trip ID', 'Checkout Datetime']]\n",
    "trip_subset.shape"
   ]
  },
  {
   "cell_type": "markdown",
   "id": "9f50307a",
   "metadata": {},
   "source": [
    "### Trips by hour"
   ]
  },
  {
   "cell_type": "code",
   "execution_count": 19,
   "id": "0c966519",
   "metadata": {},
   "outputs": [
    {
     "data": {
      "text/plain": [
       "<Axes: title={'center': 'MetroBike Trips by Hour'}, xlabel='Hour of Day'>"
      ]
     },
     "execution_count": 19,
     "metadata": {},
     "output_type": "execute_result"
    },
    {
     "data": {
      "image/png": "[encoded data removed]",
      "text/plain": [
       "<Figure size 640x480 with 1 Axes>"
      ]
     },
     "metadata": {},
     "output_type": "display_data"
    }
   ],
   "source": [
    "trip_subset.groupby([trip_subset['Checkout Datetime'].dt.hour]).count().plot(kind='bar', \n",
    "                                                                           legend = False, \n",
    "                                                                           xlabel = 'Hour of Day',\n",
    "                                                                            color = 'blue',\n",
    "                                                                            title = 'MetroBike Trips by Hour')"
   ]
  },
  {
   "cell_type": "markdown",
   "id": "332f6657",
   "metadata": {},
   "source": [
    "### Trips by day of week (0=Monday 6=Sunday)"
   ]
  },
  {
   "cell_type": "code",
   "execution_count": 20,
   "id": "d92eeee2",
   "metadata": {},
   "outputs": [
    {
     "data": {
      "text/plain": [
       "<Axes: title={'center': 'MetroBike Trips by Day of Week'}, xlabel='Day of Week'>"
      ]
     },
     "execution_count": 20,
     "metadata": {},
     "output_type": "execute_result"
    },
    {
     "data": {
      "image/png": "[encoded data removed]",
      "text/plain": [
       "<Figure size 640x480 with 1 Axes>"
      ]
     },
     "metadata": {},
     "output_type": "display_data"
    }
   ],
   "source": [
    "#check distribution of days of the week 0 = Monday 6 = Sunday\n",
    "trip_subset.groupby([trip_subset['Checkout Datetime'].dt.weekday]).count().plot(kind='bar', \n",
    "                                                                                 legend = False,\n",
    "                                                                                xlabel = 'Day of Week',\n",
    "                                                                                color = 'blue',\n",
    "                                                                                title = 'MetroBike Trips by Day of Week')"
   ]
  },
  {
   "cell_type": "markdown",
   "id": "9af01dd3",
   "metadata": {},
   "source": [
    "### Trips by Month"
   ]
  },
  {
   "cell_type": "code",
   "execution_count": 21,
   "id": "9eaadda8",
   "metadata": {},
   "outputs": [
    {
     "data": {
      "text/plain": [
       "<Axes: title={'center': 'MetroBike Trips by Month'}, xlabel='Month'>"
      ]
     },
     "execution_count": 21,
     "metadata": {},
     "output_type": "execute_result"
    },
    {
     "data": {
      "image/png": "[encoded data removed]",
      "text/plain": [
       "<Figure size 640x480 with 1 Axes>"
      ]
     },
     "metadata": {},
     "output_type": "display_data"
    }
   ],
   "source": [
    "trip_subset.groupby([trip_subset['Checkout Datetime'].dt.month]).count().plot(kind='bar', \n",
    "                                                                                 legend = False,\n",
    "                                                                                xlabel = 'Month',\n",
    "                                                                                color = 'blue',\n",
    "                                                                                title = 'MetroBike Trips by Month')"
   ]
  },
  {
   "cell_type": "markdown",
   "id": "ff95b6f1",
   "metadata": {},
   "source": [
    "### Trips by year"
   ]
  },
  {
   "cell_type": "code",
   "execution_count": 22,
   "id": "297b35d9",
   "metadata": {},
   "outputs": [
    {
     "data": {
      "text/plain": [
       "<Axes: title={'center': 'MetroBike Trips by Year'}, xlabel='Year'>"
      ]
     },
     "execution_count": 22,
     "metadata": {},
     "output_type": "execute_result"
    },
    {
     "data": {
      "image/png": "[encoded data removed]",
      "text/plain": [
       "<Figure size 640x480 with 1 Axes>"
      ]
     },
     "metadata": {},
     "output_type": "display_data"
    }
   ],
   "source": [
    "trip_subset.groupby([trip_subset['Checkout Datetime'].dt.year]).count().plot(kind='bar', \n",
    "                                                                                 legend = False,\n",
    "                                                                                xlabel = 'Year',\n",
    "                                                                                color = 'blue',\n",
    "                                                                                title = 'MetroBike Trips by Year')"
   ]
  },
  {
   "cell_type": "code",
   "execution_count": 26,
   "id": "1e440464",
   "metadata": {},
   "outputs": [
    {
     "data": {
      "text/html": [
       "<div>\n",
       "<style scoped>\n",
       "    .dataframe tbody tr th:only-of-type {\n",
       "        vertical-align: middle;\n",
       "    }\n",
       "\n",
       "    .dataframe tbody tr th {\n",
       "        vertical-align: top;\n",
       "    }\n",
       "\n",
       "    .dataframe thead tr th {\n",
       "        text-align: left;\n",
       "    }\n",
       "\n",
       "    .dataframe thead tr:last-of-type th {\n",
       "        text-align: right;\n",
       "    }\n",
       "</style>\n",
       "<table border=\"1\" class=\"dataframe\">\n",
       "  <thead>\n",
       "    <tr>\n",
       "      <th></th>\n",
       "      <th>Trip Time mins</th>\n",
       "    </tr>\n",
       "    <tr>\n",
       "      <th></th>\n",
       "      <th>mean</th>\n",
       "    </tr>\n",
       "    <tr>\n",
       "      <th>Month</th>\n",
       "      <th></th>\n",
       "    </tr>\n",
       "  </thead>\n",
       "  <tbody>\n",
       "    <tr>\n",
       "      <th>1</th>\n",
       "      <td>24.057053</td>\n",
       "    </tr>\n",
       "    <tr>\n",
       "      <th>2</th>\n",
       "      <td>22.660457</td>\n",
       "    </tr>\n",
       "    <tr>\n",
       "      <th>3</th>\n",
       "      <td>23.081985</td>\n",
       "    </tr>\n",
       "    <tr>\n",
       "      <th>4</th>\n",
       "      <td>23.130320</td>\n",
       "    </tr>\n",
       "    <tr>\n",
       "      <th>5</th>\n",
       "      <td>25.754709</td>\n",
       "    </tr>\n",
       "    <tr>\n",
       "      <th>6</th>\n",
       "      <td>25.639354</td>\n",
       "    </tr>\n",
       "    <tr>\n",
       "      <th>7</th>\n",
       "      <td>25.417591</td>\n",
       "    </tr>\n",
       "    <tr>\n",
       "      <th>8</th>\n",
       "      <td>22.954054</td>\n",
       "    </tr>\n",
       "    <tr>\n",
       "      <th>9</th>\n",
       "      <td>19.753729</td>\n",
       "    </tr>\n",
       "    <tr>\n",
       "      <th>10</th>\n",
       "      <td>21.468666</td>\n",
       "    </tr>\n",
       "    <tr>\n",
       "      <th>11</th>\n",
       "      <td>22.090229</td>\n",
       "    </tr>\n",
       "    <tr>\n",
       "      <th>12</th>\n",
       "      <td>23.616807</td>\n",
       "    </tr>\n",
       "  </tbody>\n",
       "</table>\n",
       "</div>"
      ],
      "text/plain": [
       "      Trip Time mins\n",
       "                mean\n",
       "Month               \n",
       "1          24.057053\n",
       "2          22.660457\n",
       "3          23.081985\n",
       "4          23.130320\n",
       "5          25.754709\n",
       "6          25.639354\n",
       "7          25.417591\n",
       "8          22.954054\n",
       "9          19.753729\n",
       "10         21.468666\n",
       "11         22.090229\n",
       "12         23.616807"
      ]
     },
     "execution_count": 26,
     "metadata": {},
     "output_type": "execute_result"
    }
   ],
   "source": [
    "metrobikes.groupby('Month').agg({'Trip Time mins': ['mean']})"
   ]
  },
  {
   "cell_type": "code",
   "execution_count": 27,
   "id": "20492b0e",
   "metadata": {},
   "outputs": [
    {
     "data": {
      "text/html": [
       "<div>\n",
       "<style scoped>\n",
       "    .dataframe tbody tr th:only-of-type {\n",
       "        vertical-align: middle;\n",
       "    }\n",
       "\n",
       "    .dataframe tbody tr th {\n",
       "        vertical-align: top;\n",
       "    }\n",
       "\n",
       "    .dataframe thead tr th {\n",
       "        text-align: left;\n",
       "    }\n",
       "\n",
       "    .dataframe thead tr:last-of-type th {\n",
       "        text-align: right;\n",
       "    }\n",
       "</style>\n",
       "<table border=\"1\" class=\"dataframe\">\n",
       "  <thead>\n",
       "    <tr>\n",
       "      <th></th>\n",
       "      <th>Trip Time mins</th>\n",
       "    </tr>\n",
       "    <tr>\n",
       "      <th></th>\n",
       "      <th>mean</th>\n",
       "    </tr>\n",
       "    <tr>\n",
       "      <th>Year</th>\n",
       "      <th></th>\n",
       "    </tr>\n",
       "  </thead>\n",
       "  <tbody>\n",
       "    <tr>\n",
       "      <th>2013</th>\n",
       "      <td>37.513820</td>\n",
       "    </tr>\n",
       "    <tr>\n",
       "      <th>2014</th>\n",
       "      <td>26.610912</td>\n",
       "    </tr>\n",
       "    <tr>\n",
       "      <th>2015</th>\n",
       "      <td>24.094557</td>\n",
       "    </tr>\n",
       "    <tr>\n",
       "      <th>2016</th>\n",
       "      <td>26.938170</td>\n",
       "    </tr>\n",
       "    <tr>\n",
       "      <th>2017</th>\n",
       "      <td>29.974430</td>\n",
       "    </tr>\n",
       "    <tr>\n",
       "      <th>2018</th>\n",
       "      <td>18.301139</td>\n",
       "    </tr>\n",
       "    <tr>\n",
       "      <th>2019</th>\n",
       "      <td>23.478914</td>\n",
       "    </tr>\n",
       "    <tr>\n",
       "      <th>2020</th>\n",
       "      <td>32.311746</td>\n",
       "    </tr>\n",
       "    <tr>\n",
       "      <th>2021</th>\n",
       "      <td>24.642877</td>\n",
       "    </tr>\n",
       "    <tr>\n",
       "      <th>2022</th>\n",
       "      <td>18.733581</td>\n",
       "    </tr>\n",
       "    <tr>\n",
       "      <th>2023</th>\n",
       "      <td>20.074967</td>\n",
       "    </tr>\n",
       "  </tbody>\n",
       "</table>\n",
       "</div>"
      ],
      "text/plain": [
       "     Trip Time mins\n",
       "               mean\n",
       "Year               \n",
       "2013      37.513820\n",
       "2014      26.610912\n",
       "2015      24.094557\n",
       "2016      26.938170\n",
       "2017      29.974430\n",
       "2018      18.301139\n",
       "2019      23.478914\n",
       "2020      32.311746\n",
       "2021      24.642877\n",
       "2022      18.733581\n",
       "2023      20.074967"
      ]
     },
     "execution_count": 27,
     "metadata": {},
     "output_type": "execute_result"
    }
   ],
   "source": [
    "metrobikes.groupby('Year').agg({'Trip Time mins': ['mean']})"
   ]
  },
  {
   "cell_type": "code",
   "execution_count": 28,
   "id": "437e1614",
   "metadata": {},
   "outputs": [
    {
     "data": {
      "text/html": [
       "<div>\n",
       "<style scoped>\n",
       "    .dataframe tbody tr th:only-of-type {\n",
       "        vertical-align: middle;\n",
       "    }\n",
       "\n",
       "    .dataframe tbody tr th {\n",
       "        vertical-align: top;\n",
       "    }\n",
       "\n",
       "    .dataframe thead tr th {\n",
       "        text-align: left;\n",
       "    }\n",
       "\n",
       "    .dataframe thead tr:last-of-type th {\n",
       "        text-align: right;\n",
       "    }\n",
       "</style>\n",
       "<table border=\"1\" class=\"dataframe\">\n",
       "  <thead>\n",
       "    <tr>\n",
       "      <th></th>\n",
       "      <th>Trip Time mins</th>\n",
       "    </tr>\n",
       "    <tr>\n",
       "      <th></th>\n",
       "      <th>mean</th>\n",
       "    </tr>\n",
       "    <tr>\n",
       "      <th>Checkout Datetime</th>\n",
       "      <th></th>\n",
       "    </tr>\n",
       "  </thead>\n",
       "  <tbody>\n",
       "    <tr>\n",
       "      <th>0</th>\n",
       "      <td>20.711613</td>\n",
       "    </tr>\n",
       "    <tr>\n",
       "      <th>1</th>\n",
       "      <td>18.835905</td>\n",
       "    </tr>\n",
       "    <tr>\n",
       "      <th>2</th>\n",
       "      <td>18.652153</td>\n",
       "    </tr>\n",
       "    <tr>\n",
       "      <th>3</th>\n",
       "      <td>19.644400</td>\n",
       "    </tr>\n",
       "    <tr>\n",
       "      <th>4</th>\n",
       "      <td>22.913861</td>\n",
       "    </tr>\n",
       "    <tr>\n",
       "      <th>5</th>\n",
       "      <td>29.606572</td>\n",
       "    </tr>\n",
       "    <tr>\n",
       "      <th>6</th>\n",
       "      <td>28.506139</td>\n",
       "    </tr>\n",
       "  </tbody>\n",
       "</table>\n",
       "</div>"
      ],
      "text/plain": [
       "                  Trip Time mins\n",
       "                            mean\n",
       "Checkout Datetime               \n",
       "0                      20.711613\n",
       "1                      18.835905\n",
       "2                      18.652153\n",
       "3                      19.644400\n",
       "4                      22.913861\n",
       "5                      29.606572\n",
       "6                      28.506139"
      ]
     },
     "execution_count": 28,
     "metadata": {},
     "output_type": "execute_result"
    }
   ],
   "source": [
    "#check average trip time by day of week\n",
    "metrobikes.groupby([metrobikes['Checkout Datetime'].dt.weekday]).agg({'Trip Time mins': ['mean']})"
   ]
  },
  {
   "cell_type": "code",
   "execution_count": 35,
   "id": "4558aa27",
   "metadata": {},
   "outputs": [
    {
     "data": {
      "text/plain": [
       "<Axes: title={'center': 'Average Trip Time by Hour'}, xlabel='Hour', ylabel='Minutes'>"
      ]
     },
     "execution_count": 35,
     "metadata": {},
     "output_type": "execute_result"
    },
    {
     "data": {
      "image/png": "[encoded data removed]",
      "text/plain": [
       "<Figure size 640x480 with 1 Axes>"
      ]
     },
     "metadata": {},
     "output_type": "display_data"
    }
   ],
   "source": [
    "#check average trip time by hour of teh day\n",
    "metrobikes.groupby([metrobikes['Checkout Datetime'].dt.hour]).agg({'Trip Time mins': ['mean']}).plot(kind = 'line',\n",
    "                                                                                                     legend = False,\n",
    "                                                                                                    xlabel = 'Hour',\n",
    "                                                                                                    ylabel = 'Minutes',\n",
    "                                                                                                    title = 'Average Trip Time by Hour')"
   ]
  },
  {
   "cell_type": "code",
   "execution_count": null,
   "id": "e0406de4",
   "metadata": {},
   "outputs": [],
   "source": []
  }
 ],
 "metadata": {
  "kernelspec": {
   "display_name": "Python 3 (ipykernel)",
   "language": "python",
   "name": "python3"
  },
  "language_info": {
   "codemirror_mode": {
    "name": "ipython",
    "version": 3
   },
   "file_extension": ".py",
   "mimetype": "text/x-python",
   "name": "python",
   "nbconvert_exporter": "python",
   "pygments_lexer": "ipython3",
   "version": "3.11.3"
  }
 },
 "nbformat": 4,
 "nbformat_minor": 5
}
