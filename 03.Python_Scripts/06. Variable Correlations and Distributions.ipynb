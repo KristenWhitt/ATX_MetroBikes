version https://git-lfs.github.com/spec/v1
oid sha256:f24ce6853a72eb7b0da9cbd4af7320de68dfa165d7849d42d4ca96da60b88284
size 171903
