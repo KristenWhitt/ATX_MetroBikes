version https://git-lfs.github.com/spec/v1
oid sha256:1945ccc0c9f59d482efb72e7fac123071f65162563643117d88679b6b8adc1c6
size 304299
