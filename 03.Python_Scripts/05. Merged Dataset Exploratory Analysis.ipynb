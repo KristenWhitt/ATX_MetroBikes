{
 "cells": [
  {
   "cell_type": "markdown",
   "id": "3c4adf6b",
   "metadata": {},
   "source": [
    "## 1. Import libraries"
   ]
  },
  {
   "cell_type": "code",
   "execution_count": 1,
   "id": "de29e8ef",
   "metadata": {},
   "outputs": [],
   "source": [
    "import pandas as pd\n",
    "import numpy as np\n",
    "import os"
   ]
  },
  {
   "cell_type": "code",
   "execution_count": 2,
   "id": "541eb608",
   "metadata": {},
   "outputs": [],
   "source": [
    "#create file path\n",
    "path = r'C:\\Users\\krist\\ATX Metro Bike'"
   ]
  },
  {
   "cell_type": "code",
   "execution_count": 3,
   "id": "6658de3f",
   "metadata": {},
   "outputs": [
    {
     "data": {
      "text/html": [
       "<div>\n",
       "<style scoped>\n",
       "    .dataframe tbody tr th:only-of-type {\n",
       "        vertical-align: middle;\n",
       "    }\n",
       "\n",
       "    .dataframe tbody tr th {\n",
       "        vertical-align: top;\n",
       "    }\n",
       "\n",
       "    .dataframe thead th {\n",
       "        text-align: right;\n",
       "    }\n",
       "</style>\n",
       "<table border=\"1\" class=\"dataframe\">\n",
       "  <thead>\n",
       "    <tr style=\"text-align: right;\">\n",
       "      <th></th>\n",
       "      <th>Trip ID</th>\n",
       "      <th>Membership Type</th>\n",
       "      <th>Bicycle ID</th>\n",
       "      <th>Bike Type</th>\n",
       "      <th>Checkout Datetime</th>\n",
       "      <th>Checkout Date</th>\n",
       "      <th>Checkout Time</th>\n",
       "      <th>Trip Time mins</th>\n",
       "      <th>Month</th>\n",
       "      <th>Year</th>\n",
       "      <th>Checkout Name Current</th>\n",
       "      <th>Checkout Kiosk ID current</th>\n",
       "      <th>Checkout Kiosk Status</th>\n",
       "      <th>Checkout Kiosk Geographic Location</th>\n",
       "      <th>Checkout Kiosk Dock Count</th>\n",
       "      <th>Return Name Current</th>\n",
       "      <th>Return Kiosk ID current</th>\n",
       "      <th>Return Kiosk Status</th>\n",
       "      <th>Return Kiosk Geographic Location</th>\n",
       "      <th>Return Kiosk Dock Count</th>\n",
       "    </tr>\n",
       "  </thead>\n",
       "  <tbody>\n",
       "    <tr>\n",
       "      <th>0</th>\n",
       "      <td>16459203</td>\n",
       "      <td>Local365</td>\n",
       "      <td>37</td>\n",
       "      <td>classic</td>\n",
       "      <td>2017-12-01 09:51:41</td>\n",
       "      <td>2017-12-01</td>\n",
       "      <td>2023-09-14 09:51:41</td>\n",
       "      <td>3</td>\n",
       "      <td>12</td>\n",
       "      <td>2017</td>\n",
       "      <td>8th &amp; Congress</td>\n",
       "      <td>2496.0</td>\n",
       "      <td>active</td>\n",
       "      <td>(30.2698, -97.74186)</td>\n",
       "      <td>14.0</td>\n",
       "      <td>4th &amp; Congress</td>\n",
       "      <td>2495.0</td>\n",
       "      <td>active</td>\n",
       "      <td>(30.26634, -97.74378)</td>\n",
       "      <td>15.0</td>\n",
       "    </tr>\n",
       "    <tr>\n",
       "      <th>1</th>\n",
       "      <td>4106422</td>\n",
       "      <td>Local365</td>\n",
       "      <td>971</td>\n",
       "      <td>classic</td>\n",
       "      <td>2015-03-13 16:20:24</td>\n",
       "      <td>2015-03-13</td>\n",
       "      <td>2023-09-14 16:20:24</td>\n",
       "      <td>14</td>\n",
       "      <td>3</td>\n",
       "      <td>2015</td>\n",
       "      <td>4th &amp; Congress</td>\n",
       "      <td>2495.0</td>\n",
       "      <td>active</td>\n",
       "      <td>(30.26634, -97.74378)</td>\n",
       "      <td>15.0</td>\n",
       "      <td>4th &amp; Congress</td>\n",
       "      <td>2495.0</td>\n",
       "      <td>active</td>\n",
       "      <td>(30.26634, -97.74378)</td>\n",
       "      <td>15.0</td>\n",
       "    </tr>\n",
       "    <tr>\n",
       "      <th>2</th>\n",
       "      <td>3454605</td>\n",
       "      <td>Local365</td>\n",
       "      <td>29</td>\n",
       "      <td>classic</td>\n",
       "      <td>2014-10-14 08:33:54</td>\n",
       "      <td>2014-10-14</td>\n",
       "      <td>2023-09-14 08:33:54</td>\n",
       "      <td>22</td>\n",
       "      <td>10</td>\n",
       "      <td>2014</td>\n",
       "      <td>Toomey Rd @ South Lamar</td>\n",
       "      <td>2712.0</td>\n",
       "      <td>closed</td>\n",
       "      <td>(30.26304, -97.75824)</td>\n",
       "      <td>0.0</td>\n",
       "      <td>Riverside @ S. Lamar</td>\n",
       "      <td>2575.0</td>\n",
       "      <td>active</td>\n",
       "      <td>(30.26446, -97.75665)</td>\n",
       "      <td>15.0</td>\n",
       "    </tr>\n",
       "    <tr>\n",
       "      <th>3</th>\n",
       "      <td>3454592</td>\n",
       "      <td>Local365</td>\n",
       "      <td>646</td>\n",
       "      <td>classic</td>\n",
       "      <td>2014-10-14 08:32:03</td>\n",
       "      <td>2014-10-14</td>\n",
       "      <td>2023-09-14 08:32:03</td>\n",
       "      <td>29</td>\n",
       "      <td>10</td>\n",
       "      <td>2014</td>\n",
       "      <td>3rd &amp; West</td>\n",
       "      <td>2552.0</td>\n",
       "      <td>active</td>\n",
       "      <td>(30.2678, -97.75189)</td>\n",
       "      <td>13.0</td>\n",
       "      <td>8th &amp; Congress</td>\n",
       "      <td>2496.0</td>\n",
       "      <td>active</td>\n",
       "      <td>(30.2698, -97.74186)</td>\n",
       "      <td>14.0</td>\n",
       "    </tr>\n",
       "    <tr>\n",
       "      <th>4</th>\n",
       "      <td>4106421</td>\n",
       "      <td>24 Hour Walk Up Pass</td>\n",
       "      <td>124</td>\n",
       "      <td>classic</td>\n",
       "      <td>2015-03-13 16:20:15</td>\n",
       "      <td>2015-03-13</td>\n",
       "      <td>2023-09-14 16:20:15</td>\n",
       "      <td>10</td>\n",
       "      <td>3</td>\n",
       "      <td>2015</td>\n",
       "      <td>Dean Keeton &amp; Speedway</td>\n",
       "      <td>3794.0</td>\n",
       "      <td>active</td>\n",
       "      <td>(30.28953, -97.73695)</td>\n",
       "      <td>19.0</td>\n",
       "      <td>Long Center @ South 1st &amp; Riverside</td>\n",
       "      <td>2549.0</td>\n",
       "      <td>active</td>\n",
       "      <td>(30.25941, -97.74971)</td>\n",
       "      <td>13.0</td>\n",
       "    </tr>\n",
       "  </tbody>\n",
       "</table>\n",
       "</div>"
      ],
      "text/plain": [
       "    Trip ID       Membership Type Bicycle ID Bike Type   Checkout Datetime  \\\n",
       "0  16459203              Local365         37   classic 2017-12-01 09:51:41   \n",
       "1   4106422              Local365        971   classic 2015-03-13 16:20:24   \n",
       "2   3454605              Local365         29   classic 2014-10-14 08:33:54   \n",
       "3   3454592              Local365        646   classic 2014-10-14 08:32:03   \n",
       "4   4106421  24 Hour Walk Up Pass        124   classic 2015-03-13 16:20:15   \n",
       "\n",
       "  Checkout Date       Checkout Time  Trip Time mins  Month  Year  \\\n",
       "0    2017-12-01 2023-09-14 09:51:41               3     12  2017   \n",
       "1    2015-03-13 2023-09-14 16:20:24              14      3  2015   \n",
       "2    2014-10-14 2023-09-14 08:33:54              22     10  2014   \n",
       "3    2014-10-14 2023-09-14 08:32:03              29     10  2014   \n",
       "4    2015-03-13 2023-09-14 16:20:15              10      3  2015   \n",
       "\n",
       "     Checkout Name Current  Checkout Kiosk ID current Checkout Kiosk Status  \\\n",
       "0           8th & Congress                     2496.0                active   \n",
       "1           4th & Congress                     2495.0                active   \n",
       "2  Toomey Rd @ South Lamar                     2712.0                closed   \n",
       "3               3rd & West                     2552.0                active   \n",
       "4   Dean Keeton & Speedway                     3794.0                active   \n",
       "\n",
       "  Checkout Kiosk Geographic Location  Checkout Kiosk Dock Count  \\\n",
       "0               (30.2698, -97.74186)                       14.0   \n",
       "1              (30.26634, -97.74378)                       15.0   \n",
       "2              (30.26304, -97.75824)                        0.0   \n",
       "3               (30.2678, -97.75189)                       13.0   \n",
       "4              (30.28953, -97.73695)                       19.0   \n",
       "\n",
       "                   Return Name Current  Return Kiosk ID current  \\\n",
       "0                       4th & Congress                   2495.0   \n",
       "1                       4th & Congress                   2495.0   \n",
       "2                 Riverside @ S. Lamar                   2575.0   \n",
       "3                       8th & Congress                   2496.0   \n",
       "4  Long Center @ South 1st & Riverside                   2549.0   \n",
       "\n",
       "  Return Kiosk Status Return Kiosk Geographic Location  \\\n",
       "0              active            (30.26634, -97.74378)   \n",
       "1              active            (30.26634, -97.74378)   \n",
       "2              active            (30.26446, -97.75665)   \n",
       "3              active             (30.2698, -97.74186)   \n",
       "4              active            (30.25941, -97.74971)   \n",
       "\n",
       "   Return Kiosk Dock Count  \n",
       "0                     15.0  \n",
       "1                     15.0  \n",
       "2                     15.0  \n",
       "3                     14.0  \n",
       "4                     13.0  "
      ]
     },
     "execution_count": 3,
     "metadata": {},
     "output_type": "execute_result"
    }
   ],
   "source": [
    "#import merged dataset and check import\n",
    "metrobikes = pd.read_pickle(os.path.join(path,\n",
    "                                      '02.Data', \n",
    "                                      'PreparedData',\n",
    "                                      'metrobikes_missings.pkl'))\n",
    "metrobikes.head()"
   ]
  },
  {
   "cell_type": "code",
   "execution_count": 4,
   "id": "3fdc80f5",
   "metadata": {},
   "outputs": [
    {
     "data": {
      "text/plain": [
       "(1844301, 20)"
      ]
     },
     "execution_count": 4,
     "metadata": {},
     "output_type": "execute_result"
    }
   ],
   "source": [
    "#check shape to verify dataset import\n",
    "metrobikes.shape"
   ]
  },
  {
   "cell_type": "markdown",
   "id": "3afa01ee",
   "metadata": {},
   "source": [
    "### Noticed Checkout time now includes date. Return to time only"
   ]
  },
  {
   "cell_type": "code",
   "execution_count": 5,
   "id": "90c929e0",
   "metadata": {},
   "outputs": [
    {
     "data": {
      "text/plain": [
       "0          09:51:41\n",
       "1          16:20:24\n",
       "2          08:33:54\n",
       "3          08:32:03\n",
       "4          16:20:15\n",
       "             ...   \n",
       "1976943    09:12:46\n",
       "1976944    17:15:30\n",
       "1976945    10:47:28\n",
       "1976946    17:15:47\n",
       "1976947    20:05:53\n",
       "Name: Checkout Time, Length: 1844301, dtype: object"
      ]
     },
     "execution_count": 5,
     "metadata": {},
     "output_type": "execute_result"
    }
   ],
   "source": [
    "#remove date from checkout time and confirm\n",
    "metrobikes['Checkout Time'] = metrobikes['Checkout Time'].dt.time\n",
    "metrobikes['Checkout Time']"
   ]
  },
  {
   "cell_type": "code",
   "execution_count": 6,
   "id": "23f9a025",
   "metadata": {},
   "outputs": [
    {
     "data": {
      "text/html": [
       "<div>\n",
       "<style scoped>\n",
       "    .dataframe tbody tr th:only-of-type {\n",
       "        vertical-align: middle;\n",
       "    }\n",
       "\n",
       "    .dataframe tbody tr th {\n",
       "        vertical-align: top;\n",
       "    }\n",
       "\n",
       "    .dataframe thead th {\n",
       "        text-align: right;\n",
       "    }\n",
       "</style>\n",
       "<table border=\"1\" class=\"dataframe\">\n",
       "  <thead>\n",
       "    <tr style=\"text-align: right;\">\n",
       "      <th></th>\n",
       "      <th>Trip ID</th>\n",
       "      <th>Membership Type</th>\n",
       "      <th>Bicycle ID</th>\n",
       "      <th>Bike Type</th>\n",
       "      <th>Checkout Datetime</th>\n",
       "      <th>Checkout Date</th>\n",
       "      <th>Checkout Time</th>\n",
       "      <th>Trip Time mins</th>\n",
       "      <th>Month</th>\n",
       "      <th>Year</th>\n",
       "      <th>Checkout Name Current</th>\n",
       "      <th>Checkout Kiosk ID current</th>\n",
       "      <th>Checkout Kiosk Status</th>\n",
       "      <th>Checkout Kiosk Geographic Location</th>\n",
       "      <th>Checkout Kiosk Dock Count</th>\n",
       "      <th>Return Name Current</th>\n",
       "      <th>Return Kiosk ID current</th>\n",
       "      <th>Return Kiosk Status</th>\n",
       "      <th>Return Kiosk Geographic Location</th>\n",
       "      <th>Return Kiosk Dock Count</th>\n",
       "    </tr>\n",
       "  </thead>\n",
       "  <tbody>\n",
       "    <tr>\n",
       "      <th>0</th>\n",
       "      <td>16459203</td>\n",
       "      <td>Local365</td>\n",
       "      <td>37</td>\n",
       "      <td>classic</td>\n",
       "      <td>2017-12-01 09:51:41</td>\n",
       "      <td>2017-12-01</td>\n",
       "      <td>09:51:41</td>\n",
       "      <td>3</td>\n",
       "      <td>12</td>\n",
       "      <td>2017</td>\n",
       "      <td>8th &amp; Congress</td>\n",
       "      <td>2496.0</td>\n",
       "      <td>active</td>\n",
       "      <td>(30.2698, -97.74186)</td>\n",
       "      <td>14.0</td>\n",
       "      <td>4th &amp; Congress</td>\n",
       "      <td>2495.0</td>\n",
       "      <td>active</td>\n",
       "      <td>(30.26634, -97.74378)</td>\n",
       "      <td>15.0</td>\n",
       "    </tr>\n",
       "    <tr>\n",
       "      <th>1</th>\n",
       "      <td>4106422</td>\n",
       "      <td>Local365</td>\n",
       "      <td>971</td>\n",
       "      <td>classic</td>\n",
       "      <td>2015-03-13 16:20:24</td>\n",
       "      <td>2015-03-13</td>\n",
       "      <td>16:20:24</td>\n",
       "      <td>14</td>\n",
       "      <td>3</td>\n",
       "      <td>2015</td>\n",
       "      <td>4th &amp; Congress</td>\n",
       "      <td>2495.0</td>\n",
       "      <td>active</td>\n",
       "      <td>(30.26634, -97.74378)</td>\n",
       "      <td>15.0</td>\n",
       "      <td>4th &amp; Congress</td>\n",
       "      <td>2495.0</td>\n",
       "      <td>active</td>\n",
       "      <td>(30.26634, -97.74378)</td>\n",
       "      <td>15.0</td>\n",
       "    </tr>\n",
       "    <tr>\n",
       "      <th>2</th>\n",
       "      <td>3454605</td>\n",
       "      <td>Local365</td>\n",
       "      <td>29</td>\n",
       "      <td>classic</td>\n",
       "      <td>2014-10-14 08:33:54</td>\n",
       "      <td>2014-10-14</td>\n",
       "      <td>08:33:54</td>\n",
       "      <td>22</td>\n",
       "      <td>10</td>\n",
       "      <td>2014</td>\n",
       "      <td>Toomey Rd @ South Lamar</td>\n",
       "      <td>2712.0</td>\n",
       "      <td>closed</td>\n",
       "      <td>(30.26304, -97.75824)</td>\n",
       "      <td>0.0</td>\n",
       "      <td>Riverside @ S. Lamar</td>\n",
       "      <td>2575.0</td>\n",
       "      <td>active</td>\n",
       "      <td>(30.26446, -97.75665)</td>\n",
       "      <td>15.0</td>\n",
       "    </tr>\n",
       "    <tr>\n",
       "      <th>3</th>\n",
       "      <td>3454592</td>\n",
       "      <td>Local365</td>\n",
       "      <td>646</td>\n",
       "      <td>classic</td>\n",
       "      <td>2014-10-14 08:32:03</td>\n",
       "      <td>2014-10-14</td>\n",
       "      <td>08:32:03</td>\n",
       "      <td>29</td>\n",
       "      <td>10</td>\n",
       "      <td>2014</td>\n",
       "      <td>3rd &amp; West</td>\n",
       "      <td>2552.0</td>\n",
       "      <td>active</td>\n",
       "      <td>(30.2678, -97.75189)</td>\n",
       "      <td>13.0</td>\n",
       "      <td>8th &amp; Congress</td>\n",
       "      <td>2496.0</td>\n",
       "      <td>active</td>\n",
       "      <td>(30.2698, -97.74186)</td>\n",
       "      <td>14.0</td>\n",
       "    </tr>\n",
       "    <tr>\n",
       "      <th>4</th>\n",
       "      <td>4106421</td>\n",
       "      <td>24 Hour Walk Up Pass</td>\n",
       "      <td>124</td>\n",
       "      <td>classic</td>\n",
       "      <td>2015-03-13 16:20:15</td>\n",
       "      <td>2015-03-13</td>\n",
       "      <td>16:20:15</td>\n",
       "      <td>10</td>\n",
       "      <td>3</td>\n",
       "      <td>2015</td>\n",
       "      <td>Dean Keeton &amp; Speedway</td>\n",
       "      <td>3794.0</td>\n",
       "      <td>active</td>\n",
       "      <td>(30.28953, -97.73695)</td>\n",
       "      <td>19.0</td>\n",
       "      <td>Long Center @ South 1st &amp; Riverside</td>\n",
       "      <td>2549.0</td>\n",
       "      <td>active</td>\n",
       "      <td>(30.25941, -97.74971)</td>\n",
       "      <td>13.0</td>\n",
       "    </tr>\n",
       "  </tbody>\n",
       "</table>\n",
       "</div>"
      ],
      "text/plain": [
       "    Trip ID       Membership Type Bicycle ID Bike Type   Checkout Datetime  \\\n",
       "0  16459203              Local365         37   classic 2017-12-01 09:51:41   \n",
       "1   4106422              Local365        971   classic 2015-03-13 16:20:24   \n",
       "2   3454605              Local365         29   classic 2014-10-14 08:33:54   \n",
       "3   3454592              Local365        646   classic 2014-10-14 08:32:03   \n",
       "4   4106421  24 Hour Walk Up Pass        124   classic 2015-03-13 16:20:15   \n",
       "\n",
       "  Checkout Date Checkout Time  Trip Time mins  Month  Year  \\\n",
       "0    2017-12-01      09:51:41               3     12  2017   \n",
       "1    2015-03-13      16:20:24              14      3  2015   \n",
       "2    2014-10-14      08:33:54              22     10  2014   \n",
       "3    2014-10-14      08:32:03              29     10  2014   \n",
       "4    2015-03-13      16:20:15              10      3  2015   \n",
       "\n",
       "     Checkout Name Current  Checkout Kiosk ID current Checkout Kiosk Status  \\\n",
       "0           8th & Congress                     2496.0                active   \n",
       "1           4th & Congress                     2495.0                active   \n",
       "2  Toomey Rd @ South Lamar                     2712.0                closed   \n",
       "3               3rd & West                     2552.0                active   \n",
       "4   Dean Keeton & Speedway                     3794.0                active   \n",
       "\n",
       "  Checkout Kiosk Geographic Location  Checkout Kiosk Dock Count  \\\n",
       "0               (30.2698, -97.74186)                       14.0   \n",
       "1              (30.26634, -97.74378)                       15.0   \n",
       "2              (30.26304, -97.75824)                        0.0   \n",
       "3               (30.2678, -97.75189)                       13.0   \n",
       "4              (30.28953, -97.73695)                       19.0   \n",
       "\n",
       "                   Return Name Current  Return Kiosk ID current  \\\n",
       "0                       4th & Congress                   2495.0   \n",
       "1                       4th & Congress                   2495.0   \n",
       "2                 Riverside @ S. Lamar                   2575.0   \n",
       "3                       8th & Congress                   2496.0   \n",
       "4  Long Center @ South 1st & Riverside                   2549.0   \n",
       "\n",
       "  Return Kiosk Status Return Kiosk Geographic Location  \\\n",
       "0              active            (30.26634, -97.74378)   \n",
       "1              active            (30.26634, -97.74378)   \n",
       "2              active            (30.26446, -97.75665)   \n",
       "3              active             (30.2698, -97.74186)   \n",
       "4              active            (30.25941, -97.74971)   \n",
       "\n",
       "   Return Kiosk Dock Count  \n",
       "0                     15.0  \n",
       "1                     15.0  \n",
       "2                     15.0  \n",
       "3                     14.0  \n",
       "4                     13.0  "
      ]
     },
     "execution_count": 6,
     "metadata": {},
     "output_type": "execute_result"
    }
   ],
   "source": [
    "#confirm again\n",
    "metrobikes.head()"
   ]
  },
  {
   "cell_type": "markdown",
   "id": "f5923cbe",
   "metadata": {},
   "source": [
    "## 2. Explore datatypes"
   ]
  },
  {
   "cell_type": "code",
   "execution_count": 7,
   "id": "729af957",
   "metadata": {
    "scrolled": true
   },
   "outputs": [
    {
     "name": "stdout",
     "output_type": "stream",
     "text": [
      "<class 'pandas.core.frame.DataFrame'>\n",
      "Int64Index: 1844301 entries, 0 to 1976947\n",
      "Data columns (total 20 columns):\n",
      " #   Column                              Dtype         \n",
      "---  ------                              -----         \n",
      " 0   Trip ID                             int64         \n",
      " 1   Membership Type                     object        \n",
      " 2   Bicycle ID                          object        \n",
      " 3   Bike Type                           category      \n",
      " 4   Checkout Datetime                   datetime64[ns]\n",
      " 5   Checkout Date                       datetime64[ns]\n",
      " 6   Checkout Time                       object        \n",
      " 7   Trip Time mins                      int64         \n",
      " 8   Month                               int64         \n",
      " 9   Year                                int64         \n",
      " 10  Checkout Name Current               object        \n",
      " 11  Checkout Kiosk ID current           float64       \n",
      " 12  Checkout Kiosk Status               object        \n",
      " 13  Checkout Kiosk Geographic Location  object        \n",
      " 14  Checkout Kiosk Dock Count           float64       \n",
      " 15  Return Name Current                 object        \n",
      " 16  Return Kiosk ID current             float64       \n",
      " 17  Return Kiosk Status                 object        \n",
      " 18  Return Kiosk Geographic Location    object        \n",
      " 19  Return Kiosk Dock Count             float64       \n",
      "dtypes: category(1), datetime64[ns](2), float64(4), int64(4), object(9)\n",
      "memory usage: 283.2+ MB\n"
     ]
    }
   ],
   "source": [
    "#check datatypes\n",
    "metrobikes.info()"
   ]
  },
  {
   "cell_type": "markdown",
   "id": "66808d58",
   "metadata": {},
   "source": [
    "   ### update membership type to category"
   ]
  },
  {
   "cell_type": "code",
   "execution_count": 21,
   "id": "ebcc0f65",
   "metadata": {},
   "outputs": [],
   "source": [
    "#change membership type to category \n",
    "metrobikes['Membership Type'] = metrobikes['Membership Type'].astype('category')"
   ]
  },
  {
   "cell_type": "code",
   "execution_count": 24,
   "id": "ead768b2",
   "metadata": {},
   "outputs": [
    {
     "data": {
      "text/plain": [
       "CategoricalDtype(categories=['$1 Pay by Trip Fall Special',\n",
       "                  '$1 Pay by Trip Winter Special', '24 Hour Walk Up Pass',\n",
       "                  '24-Hour Membership', '3-Day Explorer', '3-Day Weekender',\n",
       "                  '7-Day', 'ACL 2019 Pass', 'ACL Weekend Pass Special',\n",
       "                  'Aluminum Access', 'Annual', 'Annual ', 'Annual Member',\n",
       "                  'Annual Membership', 'Annual Membership ', 'Annual Pass',\n",
       "                  'Annual Pass (30 minute)', 'Annual Pass (Original)',\n",
       "                  'Annual Plus', 'Annual Plus Membership',\n",
       "                  'Denver B-cycle Founder', 'Explorer',\n",
       "                  'Explorer ($8 plus tax)', 'Founding Member',\n",
       "                  'FunFunFun Fest 3 Day Pass', 'HT Ram Membership',\n",
       "                  'Heartland Pass (Annual Pay)',\n",
       "                  'Heartland Pass (Monthly Pay)', 'Local30',\n",
       "                  'Local30 ($11 plus tax)', 'Local31', 'Local365',\n",
       "                  'Local365 ($80 plus tax)',\n",
       "                  'Local365 Youth (age 13-17 riders)',\n",
       "                  'Local365 Youth (age 13-17 riders)- 1/2 off Special',\n",
       "                  'Local365 Youth with helmet (age 13-17 riders)',\n",
       "                  'Local365+Guest Pass',\n",
       "                  'Local365+Guest Pass- 1/2 off Anniversary Special',\n",
       "                  'Local365- 1/2 off Anniversary Special', 'Madtown Monthly',\n",
       "                  'Membership: pay once  one-year commitment',\n",
       "                  'Membership: pay once, one-year commitment',\n",
       "                  'Pay-as-you-ride', 'RESTRICTED', 'Republic Rider',\n",
       "                  'Republic Rider (Annual)', 'RideScout Single Ride',\n",
       "                  'RideScout Single Tide', 'Semester Membership',\n",
       "                  'Single Trip', 'Single Trip ',\n",
       "                  'Single Trip (Pay-as-you-ride)', 'Single Trip Ride',\n",
       "                  'Student Membership', 'Try Before You Buy Special',\n",
       "                  'U.T. Student Membership', 'UT Student Membership', 'Unkown',\n",
       "                  'Walk Up', 'Weekender', 'Weekender ($15 plus tax)'],\n",
       ", ordered=False)"
      ]
     },
     "execution_count": 24,
     "metadata": {},
     "output_type": "execute_result"
    }
   ],
   "source": [
    "#check change\n",
    "metrobikes['Membership Type'].dtype"
   ]
  },
  {
   "cell_type": "markdown",
   "id": "2a2f81c5",
   "metadata": {},
   "source": [
    "## 3. Check for consistencies in numerical variables"
   ]
  },
  {
   "cell_type": "code",
   "execution_count": 8,
   "id": "5ab9b3a2",
   "metadata": {},
   "outputs": [
    {
     "data": {
      "text/html": [
       "<div>\n",
       "<style scoped>\n",
       "    .dataframe tbody tr th:only-of-type {\n",
       "        vertical-align: middle;\n",
       "    }\n",
       "\n",
       "    .dataframe tbody tr th {\n",
       "        vertical-align: top;\n",
       "    }\n",
       "\n",
       "    .dataframe thead th {\n",
       "        text-align: right;\n",
       "    }\n",
       "</style>\n",
       "<table border=\"1\" class=\"dataframe\">\n",
       "  <thead>\n",
       "    <tr style=\"text-align: right;\">\n",
       "      <th></th>\n",
       "      <th>Trip ID</th>\n",
       "      <th>Trip Time mins</th>\n",
       "      <th>Month</th>\n",
       "      <th>Year</th>\n",
       "      <th>Checkout Kiosk ID current</th>\n",
       "      <th>Checkout Kiosk Dock Count</th>\n",
       "      <th>Return Kiosk ID current</th>\n",
       "      <th>Return Kiosk Dock Count</th>\n",
       "    </tr>\n",
       "  </thead>\n",
       "  <tbody>\n",
       "    <tr>\n",
       "      <th>count</th>\n",
       "      <td>1.844301e+06</td>\n",
       "      <td>1.844301e+06</td>\n",
       "      <td>1.844301e+06</td>\n",
       "      <td>1.844301e+06</td>\n",
       "      <td>1.844301e+06</td>\n",
       "      <td>1.844301e+06</td>\n",
       "      <td>1.844301e+06</td>\n",
       "      <td>1.844301e+06</td>\n",
       "    </tr>\n",
       "    <tr>\n",
       "      <th>mean</th>\n",
       "      <td>1.823133e+07</td>\n",
       "      <td>2.319435e+01</td>\n",
       "      <td>6.297752e+00</td>\n",
       "      <td>2.018690e+03</td>\n",
       "      <td>2.992779e+03</td>\n",
       "      <td>1.445797e+01</td>\n",
       "      <td>3.000112e+03</td>\n",
       "      <td>1.456896e+01</td>\n",
       "    </tr>\n",
       "    <tr>\n",
       "      <th>std</th>\n",
       "      <td>8.231586e+06</td>\n",
       "      <td>3.179172e+01</td>\n",
       "      <td>3.227824e+00</td>\n",
       "      <td>2.788968e+00</td>\n",
       "      <td>1.135123e+03</td>\n",
       "      <td>4.587478e+00</td>\n",
       "      <td>2.145620e+03</td>\n",
       "      <td>4.593577e+00</td>\n",
       "    </tr>\n",
       "    <tr>\n",
       "      <th>min</th>\n",
       "      <td>1.954839e+06</td>\n",
       "      <td>2.000000e+00</td>\n",
       "      <td>1.000000e+00</td>\n",
       "      <td>2.013000e+03</td>\n",
       "      <td>0.000000e+00</td>\n",
       "      <td>0.000000e+00</td>\n",
       "      <td>0.000000e+00</td>\n",
       "      <td>0.000000e+00</td>\n",
       "    </tr>\n",
       "    <tr>\n",
       "      <th>25%</th>\n",
       "      <td>1.288639e+07</td>\n",
       "      <td>6.000000e+00</td>\n",
       "      <td>3.000000e+00</td>\n",
       "      <td>2.016000e+03</td>\n",
       "      <td>2.544000e+03</td>\n",
       "      <td>1.300000e+01</td>\n",
       "      <td>2.544000e+03</td>\n",
       "      <td>1.300000e+01</td>\n",
       "    </tr>\n",
       "    <tr>\n",
       "      <th>50%</th>\n",
       "      <td>1.862966e+07</td>\n",
       "      <td>1.200000e+01</td>\n",
       "      <td>6.000000e+00</td>\n",
       "      <td>2.018000e+03</td>\n",
       "      <td>2.575000e+03</td>\n",
       "      <td>1.300000e+01</td>\n",
       "      <td>2.575000e+03</td>\n",
       "      <td>1.500000e+01</td>\n",
       "    </tr>\n",
       "    <tr>\n",
       "      <th>75%</th>\n",
       "      <td>2.568760e+07</td>\n",
       "      <td>2.800000e+01</td>\n",
       "      <td>9.000000e+00</td>\n",
       "      <td>2.021000e+03</td>\n",
       "      <td>3.793000e+03</td>\n",
       "      <td>1.800000e+01</td>\n",
       "      <td>3.794000e+03</td>\n",
       "      <td>1.800000e+01</td>\n",
       "    </tr>\n",
       "    <tr>\n",
       "      <th>max</th>\n",
       "      <td>3.040914e+07</td>\n",
       "      <td>4.110000e+02</td>\n",
       "      <td>1.200000e+01</td>\n",
       "      <td>2.023000e+03</td>\n",
       "      <td>1.111111e+06</td>\n",
       "      <td>2.200000e+01</td>\n",
       "      <td>1.111111e+06</td>\n",
       "      <td>2.200000e+01</td>\n",
       "    </tr>\n",
       "  </tbody>\n",
       "</table>\n",
       "</div>"
      ],
      "text/plain": [
       "            Trip ID  Trip Time mins         Month          Year  \\\n",
       "count  1.844301e+06    1.844301e+06  1.844301e+06  1.844301e+06   \n",
       "mean   1.823133e+07    2.319435e+01  6.297752e+00  2.018690e+03   \n",
       "std    8.231586e+06    3.179172e+01  3.227824e+00  2.788968e+00   \n",
       "min    1.954839e+06    2.000000e+00  1.000000e+00  2.013000e+03   \n",
       "25%    1.288639e+07    6.000000e+00  3.000000e+00  2.016000e+03   \n",
       "50%    1.862966e+07    1.200000e+01  6.000000e+00  2.018000e+03   \n",
       "75%    2.568760e+07    2.800000e+01  9.000000e+00  2.021000e+03   \n",
       "max    3.040914e+07    4.110000e+02  1.200000e+01  2.023000e+03   \n",
       "\n",
       "       Checkout Kiosk ID current  Checkout Kiosk Dock Count  \\\n",
       "count               1.844301e+06               1.844301e+06   \n",
       "mean                2.992779e+03               1.445797e+01   \n",
       "std                 1.135123e+03               4.587478e+00   \n",
       "min                 0.000000e+00               0.000000e+00   \n",
       "25%                 2.544000e+03               1.300000e+01   \n",
       "50%                 2.575000e+03               1.300000e+01   \n",
       "75%                 3.793000e+03               1.800000e+01   \n",
       "max                 1.111111e+06               2.200000e+01   \n",
       "\n",
       "       Return Kiosk ID current  Return Kiosk Dock Count  \n",
       "count             1.844301e+06             1.844301e+06  \n",
       "mean              3.000112e+03             1.456896e+01  \n",
       "std               2.145620e+03             4.593577e+00  \n",
       "min               0.000000e+00             0.000000e+00  \n",
       "25%               2.544000e+03             1.300000e+01  \n",
       "50%               2.575000e+03             1.500000e+01  \n",
       "75%               3.794000e+03             1.800000e+01  \n",
       "max               1.111111e+06             2.200000e+01  "
      ]
     },
     "execution_count": 8,
     "metadata": {},
     "output_type": "execute_result"
    }
   ],
   "source": [
    "#check descriptive statistics\n",
    "metrobikes.describe()"
   ]
  },
  {
   "cell_type": "markdown",
   "id": "3c166c59",
   "metadata": {},
   "source": [
    "### Kiosk ID 1111111 is for stolen bikes"
   ]
  },
  {
   "cell_type": "markdown",
   "id": "1de9e837",
   "metadata": {},
   "source": [
    "## 4. Check for consistencies in qualitative variables"
   ]
  },
  {
   "cell_type": "markdown",
   "id": "bb5603d5",
   "metadata": {},
   "source": [
    "### Membership type"
   ]
  },
  {
   "cell_type": "code",
   "execution_count": 9,
   "id": "c96cf374",
   "metadata": {},
   "outputs": [
    {
     "data": {
      "text/plain": [
       "Local365                                     329400\n",
       "U.T. Student Membership                      284852\n",
       "24 Hour Walk Up Pass                         253524\n",
       "Student Membership                           251749\n",
       "Walk Up                                      222736\n",
       "                                              ...  \n",
       "Membership: pay once, one-year commitment         2\n",
       "Annual Pass (30 minute)                           2\n",
       "Heartland Pass (Monthly Pay)                      1\n",
       "RESTRICTED                                        1\n",
       "24-Hour Membership                                1\n",
       "Name: Membership Type, Length: 61, dtype: int64"
      ]
     },
     "execution_count": 9,
     "metadata": {},
     "output_type": "execute_result"
    }
   ],
   "source": [
    "#check membership type\n",
    "metrobikes['Membership Type'].value_counts()"
   ]
  },
  {
   "cell_type": "markdown",
   "id": "1af841db",
   "metadata": {},
   "source": [
    "### Bike Type"
   ]
  },
  {
   "cell_type": "code",
   "execution_count": 10,
   "id": "f840a5e9",
   "metadata": {
    "scrolled": true
   },
   "outputs": [
    {
     "data": {
      "text/plain": [
       "classic     1217194\n",
       "electric     627107\n",
       "Name: Bike Type, dtype: int64"
      ]
     },
     "execution_count": 10,
     "metadata": {},
     "output_type": "execute_result"
    }
   ],
   "source": [
    "#check bike type\n",
    "metrobikes['Bike Type'].value_counts()"
   ]
  },
  {
   "cell_type": "markdown",
   "id": "d80cebc6",
   "metadata": {},
   "source": [
    "### Checkout Kiosk Name"
   ]
  },
  {
   "cell_type": "code",
   "execution_count": 11,
   "id": "1400079d",
   "metadata": {},
   "outputs": [
    {
     "data": {
      "text/plain": [
       "21st & Speedway @PCL          140591\n",
       "Dean Keeton & Speedway         76290\n",
       "Riverside @ S. Lamar           57466\n",
       "Rainey St @ Cummings           53136\n",
       "Rio Grande & 28th              51330\n",
       "                               ...  \n",
       "Pease Park                       649\n",
       "East 7th & Pleasant Valley       477\n",
       "Republic Square                  422\n",
       "OFFICE/Main/Shop/Repair          315\n",
       "Stolen                             1\n",
       "Name: Checkout Name Current, Length: 98, dtype: int64"
      ]
     },
     "execution_count": 11,
     "metadata": {},
     "output_type": "execute_result"
    }
   ],
   "source": [
    "#check chekcout kiosk name\n",
    "metrobikes['Checkout Name Current'].value_counts()"
   ]
  },
  {
   "cell_type": "markdown",
   "id": "c499842e",
   "metadata": {},
   "source": [
    "### Checkout Kiosk Status "
   ]
  },
  {
   "cell_type": "code",
   "execution_count": 12,
   "id": "1bee3f0d",
   "metadata": {},
   "outputs": [
    {
     "data": {
      "text/plain": [
       "active    1754290\n",
       "closed      90010\n",
       "Stolen          1\n",
       "Name: Checkout Kiosk Status, dtype: int64"
      ]
     },
     "execution_count": 12,
     "metadata": {},
     "output_type": "execute_result"
    }
   ],
   "source": [
    "metrobikes['Checkout Kiosk Status'].value_counts()"
   ]
  },
  {
   "cell_type": "markdown",
   "id": "739bea29",
   "metadata": {},
   "source": [
    "### Return Kiosk Name"
   ]
  },
  {
   "cell_type": "code",
   "execution_count": 13,
   "id": "d1e318a2",
   "metadata": {},
   "outputs": [
    {
     "data": {
      "text/plain": [
       "21st & Speedway @PCL          144173\n",
       "Dean Keeton & Speedway         82787\n",
       "Riverside @ S. Lamar           56267\n",
       "Rainey St @ Cummings           51892\n",
       "Guadalupe & 21st               50937\n",
       "                               ...  \n",
       "Pease Park                       574\n",
       "East 7th & Pleasant Valley       469\n",
       "OFFICE/Main/Shop/Repair          446\n",
       "Republic Square                  408\n",
       "Stolen                             6\n",
       "Name: Return Name Current, Length: 98, dtype: int64"
      ]
     },
     "execution_count": 13,
     "metadata": {},
     "output_type": "execute_result"
    }
   ],
   "source": [
    "metrobikes['Return Name Current'].value_counts()"
   ]
  },
  {
   "cell_type": "markdown",
   "id": "03221b5a",
   "metadata": {},
   "source": [
    "### Return Kiosk Status"
   ]
  },
  {
   "cell_type": "code",
   "execution_count": 14,
   "id": "f825ba88",
   "metadata": {},
   "outputs": [
    {
     "data": {
      "text/plain": [
       "active    1759394\n",
       "closed      84901\n",
       "Stolen          6\n",
       "Name: Return Kiosk Status, dtype: int64"
      ]
     },
     "execution_count": 14,
     "metadata": {},
     "output_type": "execute_result"
    }
   ],
   "source": [
    "metrobikes['Return Kiosk Status'].value_counts()"
   ]
  },
  {
   "cell_type": "markdown",
   "id": "1500aaa6",
   "metadata": {},
   "source": [
    "### Checkout geographic location"
   ]
  },
  {
   "cell_type": "code",
   "execution_count": 15,
   "id": "ee4bdc4d",
   "metadata": {},
   "outputs": [
    {
     "data": {
      "text/plain": [
       "(30.283, -97.7375)         140591\n",
       "(30.28953, -97.73695)       76290\n",
       "(30.26446, -97.75665)       57466\n",
       "(30.255906, -97.739949)     53136\n",
       "(30.29333, -97.74412)       51330\n",
       "                            ...  \n",
       "(30.28118, -97.75219)         649\n",
       "(30.26025, -97.71002)         477\n",
       "(30.26751, -97.74802)         422\n",
       "(30.27186, -97.73997)         315\n",
       "(20.10001, -10.10001)           1\n",
       "Name: Checkout Kiosk Geographic Location, Length: 98, dtype: int64"
      ]
     },
     "execution_count": 15,
     "metadata": {},
     "output_type": "execute_result"
    }
   ],
   "source": [
    "metrobikes['Checkout Kiosk Geographic Location'].value_counts()"
   ]
  },
  {
   "cell_type": "markdown",
   "id": "d44f2881",
   "metadata": {},
   "source": [
    "### Return geographic location"
   ]
  },
  {
   "cell_type": "code",
   "execution_count": 16,
   "id": "c5caea28",
   "metadata": {
    "scrolled": true
   },
   "outputs": [
    {
     "data": {
      "text/plain": [
       "(30.283, -97.7375)         144173\n",
       "(30.28953, -97.73695)       82787\n",
       "(30.26446, -97.75665)       56267\n",
       "(30.255906, -97.739949)     51892\n",
       "(30.28395, -97.74198)       50937\n",
       "                            ...  \n",
       "(30.28118, -97.75219)         574\n",
       "(30.26025, -97.71002)         469\n",
       "(30.27186, -97.73997)         446\n",
       "(30.26751, -97.74802)         408\n",
       "(20.10001, -10.10001)           6\n",
       "Name: Return Kiosk Geographic Location, Length: 98, dtype: int64"
      ]
     },
     "execution_count": 16,
     "metadata": {},
     "output_type": "execute_result"
    }
   ],
   "source": [
    "metrobikes['Return Kiosk Geographic Location'].value_counts()"
   ]
  },
  {
   "cell_type": "markdown",
   "id": "016cefdf",
   "metadata": {},
   "source": [
    "## 5. Check for mixed data types"
   ]
  },
  {
   "cell_type": "code",
   "execution_count": 17,
   "id": "b0dbfd20",
   "metadata": {},
   "outputs": [],
   "source": [
    "#check which variables have mixed datatypes\n",
    "for col in metrobikes.columns.tolist():\n",
    "  weird = (metrobikes[[col]].applymap(type) != metrobikes[[col]].iloc[0].apply(type)).any(axis = 1)\n",
    "  if len (metrobikes[weird]) > 0:\n",
    "    print (col)"
   ]
  },
  {
   "cell_type": "markdown",
   "id": "41b1bd9a",
   "metadata": {},
   "source": [
    "### no mixed datatypes"
   ]
  },
  {
   "cell_type": "markdown",
   "id": "7c27f778",
   "metadata": {},
   "source": [
    "## 6. Check for duplicates"
   ]
  },
  {
   "cell_type": "code",
   "execution_count": 18,
   "id": "916812f6",
   "metadata": {},
   "outputs": [
    {
     "data": {
      "text/html": [
       "<div>\n",
       "<style scoped>\n",
       "    .dataframe tbody tr th:only-of-type {\n",
       "        vertical-align: middle;\n",
       "    }\n",
       "\n",
       "    .dataframe tbody tr th {\n",
       "        vertical-align: top;\n",
       "    }\n",
       "\n",
       "    .dataframe thead th {\n",
       "        text-align: right;\n",
       "    }\n",
       "</style>\n",
       "<table border=\"1\" class=\"dataframe\">\n",
       "  <thead>\n",
       "    <tr style=\"text-align: right;\">\n",
       "      <th></th>\n",
       "      <th>Trip ID</th>\n",
       "      <th>Membership Type</th>\n",
       "      <th>Bicycle ID</th>\n",
       "      <th>Bike Type</th>\n",
       "      <th>Checkout Datetime</th>\n",
       "      <th>Checkout Date</th>\n",
       "      <th>Checkout Time</th>\n",
       "      <th>Trip Time mins</th>\n",
       "      <th>Month</th>\n",
       "      <th>Year</th>\n",
       "      <th>Checkout Name Current</th>\n",
       "      <th>Checkout Kiosk ID current</th>\n",
       "      <th>Checkout Kiosk Status</th>\n",
       "      <th>Checkout Kiosk Geographic Location</th>\n",
       "      <th>Checkout Kiosk Dock Count</th>\n",
       "      <th>Return Name Current</th>\n",
       "      <th>Return Kiosk ID current</th>\n",
       "      <th>Return Kiosk Status</th>\n",
       "      <th>Return Kiosk Geographic Location</th>\n",
       "      <th>Return Kiosk Dock Count</th>\n",
       "    </tr>\n",
       "  </thead>\n",
       "  <tbody>\n",
       "  </tbody>\n",
       "</table>\n",
       "</div>"
      ],
      "text/plain": [
       "Empty DataFrame\n",
       "Columns: [Trip ID, Membership Type, Bicycle ID, Bike Type, Checkout Datetime, Checkout Date, Checkout Time, Trip Time mins, Month, Year, Checkout Name Current, Checkout Kiosk ID current, Checkout Kiosk Status, Checkout Kiosk Geographic Location, Checkout Kiosk Dock Count, Return Name Current, Return Kiosk ID current, Return Kiosk Status, Return Kiosk Geographic Location, Return Kiosk Dock Count]\n",
       "Index: []"
      ]
     },
     "execution_count": 18,
     "metadata": {},
     "output_type": "execute_result"
    }
   ],
   "source": [
    "df_dupes = metrobikes[metrobikes.duplicated()]\n",
    "df_dupes"
   ]
  },
  {
   "cell_type": "markdown",
   "id": "a49263d4",
   "metadata": {},
   "source": [
    "### no duplicates"
   ]
  },
  {
   "cell_type": "markdown",
   "id": "28f4f7ad",
   "metadata": {},
   "source": [
    "## 7. Export cleaned dataset"
   ]
  },
  {
   "cell_type": "code",
   "execution_count": 25,
   "id": "cbd312e3",
   "metadata": {},
   "outputs": [
    {
     "data": {
      "text/plain": [
       "(1844301, 20)"
      ]
     },
     "execution_count": 25,
     "metadata": {},
     "output_type": "execute_result"
    }
   ],
   "source": [
    "#check shape before export\n",
    "metrobikes.shape"
   ]
  },
  {
   "cell_type": "code",
   "execution_count": 26,
   "id": "e378c5b5",
   "metadata": {},
   "outputs": [],
   "source": [
    "#export file to pkl\n",
    "metrobikes.to_pickle(os.path.join(path, \n",
    "                                 '02.Data',\n",
    "                                 'PreparedData',\n",
    "                                 'metrobikes_cleaned.pkl'))"
   ]
  }
 ],
 "metadata": {
  "kernelspec": {
   "display_name": "Python 3 (ipykernel)",
   "language": "python",
   "name": "python3"
  },
  "language_info": {
   "codemirror_mode": {
    "name": "ipython",
    "version": 3
   },
   "file_extension": ".py",
   "mimetype": "text/x-python",
   "name": "python",
   "nbconvert_exporter": "python",
   "pygments_lexer": "ipython3",
   "version": "3.11.3"
  }
 },
 "nbformat": 4,
 "nbformat_minor": 5
}
