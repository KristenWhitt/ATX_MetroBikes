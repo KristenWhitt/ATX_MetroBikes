version https://git-lfs.github.com/spec/v1
oid sha256:b7bcccf9641553624b46b082dad76347ba29b20cde5e04dd290b07a90423aa8d
size 2339335
