{
 "cells": [
  {
   "cell_type": "markdown",
   "id": "34869e3d",
   "metadata": {},
   "source": [
    "# Rename Columns and Update Datatypes"
   ]
  },
  {
   "cell_type": "markdown",
   "id": "207647c8",
   "metadata": {},
   "source": [
    "## 1. Import libraries"
   ]
  },
  {
   "cell_type": "code",
   "execution_count": 1,
   "id": "78ca1384",
   "metadata": {},
   "outputs": [],
   "source": [
    "import pandas as pd\n",
    "import numpy as np\n",
    "import os"
   ]
  },
  {
   "cell_type": "code",
   "execution_count": 2,
   "id": "d71c4003",
   "metadata": {},
   "outputs": [],
   "source": [
    "#create file path\n",
    "path = r'C:\\Users\\krist\\ATX Metro Bike'"
   ]
  },
  {
   "cell_type": "code",
   "execution_count": 3,
   "id": "b8003b5a",
   "metadata": {},
   "outputs": [
    {
     "data": {
      "text/html": [
       "<div>\n",
       "<style scoped>\n",
       "    .dataframe tbody tr th:only-of-type {\n",
       "        vertical-align: middle;\n",
       "    }\n",
       "\n",
       "    .dataframe tbody tr th {\n",
       "        vertical-align: top;\n",
       "    }\n",
       "\n",
       "    .dataframe thead th {\n",
       "        text-align: right;\n",
       "    }\n",
       "</style>\n",
       "<table border=\"1\" class=\"dataframe\">\n",
       "  <thead>\n",
       "    <tr style=\"text-align: right;\">\n",
       "      <th></th>\n",
       "      <th>Trip ID</th>\n",
       "      <th>Membership Type</th>\n",
       "      <th>Bicycle ID</th>\n",
       "      <th>Bike Type</th>\n",
       "      <th>Checkout Datetime</th>\n",
       "      <th>Checkout Date</th>\n",
       "      <th>Checkout Time</th>\n",
       "      <th>Checkout Kiosk ID</th>\n",
       "      <th>Checkout Kiosk</th>\n",
       "      <th>Return Kiosk ID</th>\n",
       "      <th>Return Kiosk</th>\n",
       "      <th>Trip Duration Minutes</th>\n",
       "      <th>Month</th>\n",
       "      <th>Year</th>\n",
       "    </tr>\n",
       "  </thead>\n",
       "  <tbody>\n",
       "    <tr>\n",
       "      <th>0</th>\n",
       "      <td>16459203</td>\n",
       "      <td>Local365</td>\n",
       "      <td>37</td>\n",
       "      <td>classic</td>\n",
       "      <td>12/01/2017 09:51:41 AM</td>\n",
       "      <td>12/01/2017</td>\n",
       "      <td>9:51:41</td>\n",
       "      <td>2496.0</td>\n",
       "      <td>8th &amp; Congress</td>\n",
       "      <td>2495</td>\n",
       "      <td>4th &amp; Congress</td>\n",
       "      <td>3</td>\n",
       "      <td>12</td>\n",
       "      <td>2017</td>\n",
       "    </tr>\n",
       "    <tr>\n",
       "      <th>1</th>\n",
       "      <td>4106422</td>\n",
       "      <td>Local365</td>\n",
       "      <td>971</td>\n",
       "      <td>classic</td>\n",
       "      <td>03/13/2015 04:20:24 PM</td>\n",
       "      <td>03/13/2015</td>\n",
       "      <td>16:20:24</td>\n",
       "      <td>2495.0</td>\n",
       "      <td>4th/Congress</td>\n",
       "      <td>2495</td>\n",
       "      <td>4th/Congress</td>\n",
       "      <td>14</td>\n",
       "      <td>3</td>\n",
       "      <td>2015</td>\n",
       "    </tr>\n",
       "    <tr>\n",
       "      <th>2</th>\n",
       "      <td>3454605</td>\n",
       "      <td>Local365</td>\n",
       "      <td>29</td>\n",
       "      <td>classic</td>\n",
       "      <td>10/14/2014 08:33:54 AM</td>\n",
       "      <td>10/14/2014</td>\n",
       "      <td>8:33:54</td>\n",
       "      <td>2712.0</td>\n",
       "      <td>Toomey Rd @ South Lamar</td>\n",
       "      <td>2575</td>\n",
       "      <td>Riverside/South Lamar</td>\n",
       "      <td>22</td>\n",
       "      <td>10</td>\n",
       "      <td>2014</td>\n",
       "    </tr>\n",
       "    <tr>\n",
       "      <th>3</th>\n",
       "      <td>3454592</td>\n",
       "      <td>Local365</td>\n",
       "      <td>646</td>\n",
       "      <td>classic</td>\n",
       "      <td>10/14/2014 08:32:03 AM</td>\n",
       "      <td>10/14/2014</td>\n",
       "      <td>8:32:03</td>\n",
       "      <td>2552.0</td>\n",
       "      <td>3rd/West</td>\n",
       "      <td>2496</td>\n",
       "      <td>8th/Congress</td>\n",
       "      <td>29</td>\n",
       "      <td>10</td>\n",
       "      <td>2014</td>\n",
       "    </tr>\n",
       "    <tr>\n",
       "      <th>4</th>\n",
       "      <td>4106421</td>\n",
       "      <td>24 Hour Walk Up Pass</td>\n",
       "      <td>124</td>\n",
       "      <td>classic</td>\n",
       "      <td>03/13/2015 04:20:15 PM</td>\n",
       "      <td>03/13/2015</td>\n",
       "      <td>16:20:15</td>\n",
       "      <td>2498.0</td>\n",
       "      <td>Dean Keeton/Speedway</td>\n",
       "      <td>2549</td>\n",
       "      <td>South 1st/Riverside @ Long Center</td>\n",
       "      <td>10</td>\n",
       "      <td>3</td>\n",
       "      <td>2015</td>\n",
       "    </tr>\n",
       "  </tbody>\n",
       "</table>\n",
       "</div>"
      ],
      "text/plain": [
       "    Trip ID       Membership Type Bicycle ID Bike Type  \\\n",
       "0  16459203              Local365         37   classic   \n",
       "1   4106422              Local365        971   classic   \n",
       "2   3454605              Local365         29   classic   \n",
       "3   3454592              Local365        646   classic   \n",
       "4   4106421  24 Hour Walk Up Pass        124   classic   \n",
       "\n",
       "        Checkout Datetime Checkout Date Checkout Time  Checkout Kiosk ID  \\\n",
       "0  12/01/2017 09:51:41 AM    12/01/2017       9:51:41             2496.0   \n",
       "1  03/13/2015 04:20:24 PM    03/13/2015      16:20:24             2495.0   \n",
       "2  10/14/2014 08:33:54 AM    10/14/2014       8:33:54             2712.0   \n",
       "3  10/14/2014 08:32:03 AM    10/14/2014       8:32:03             2552.0   \n",
       "4  03/13/2015 04:20:15 PM    03/13/2015      16:20:15             2498.0   \n",
       "\n",
       "            Checkout Kiosk Return Kiosk ID                       Return Kiosk  \\\n",
       "0           8th & Congress            2495                     4th & Congress   \n",
       "1             4th/Congress            2495                       4th/Congress   \n",
       "2  Toomey Rd @ South Lamar            2575              Riverside/South Lamar   \n",
       "3                 3rd/West            2496                       8th/Congress   \n",
       "4     Dean Keeton/Speedway            2549  South 1st/Riverside @ Long Center   \n",
       "\n",
       "   Trip Duration Minutes  Month  Year  \n",
       "0                      3     12  2017  \n",
       "1                     14      3  2015  \n",
       "2                     22     10  2014  \n",
       "3                     29     10  2014  \n",
       "4                     10      3  2015  "
      ]
     },
     "execution_count": 3,
     "metadata": {},
     "output_type": "execute_result"
    }
   ],
   "source": [
    "#import dataset and check import\n",
    "metrobikes = pd.read_csv(os.path.join(path, '02.Data', 'OriginalData', 'Austin_MetroBike_Trips.csv'), \n",
    "                        low_memory = False)\n",
    "metrobikes.head()"
   ]
  },
  {
   "cell_type": "code",
   "execution_count": 4,
   "id": "6db54f40",
   "metadata": {},
   "outputs": [
    {
     "data": {
      "text/plain": [
       "(1991726, 14)"
      ]
     },
     "execution_count": 4,
     "metadata": {},
     "output_type": "execute_result"
    }
   ],
   "source": [
    "#verify shape\n",
    "metrobikes.shape"
   ]
  },
  {
   "cell_type": "markdown",
   "id": "bc3e0f82",
   "metadata": {},
   "source": [
    "## 2. Update column names for clarity"
   ]
  },
  {
   "cell_type": "code",
   "execution_count": 5,
   "id": "5ff597de",
   "metadata": {},
   "outputs": [
    {
     "data": {
      "text/plain": [
       "Index(['Trip ID', 'Membership Type', 'Bicycle ID', 'Bike Type',\n",
       "       'Checkout Datetime', 'Checkout Date', 'Checkout Time',\n",
       "       'Checkout Kiosk ID', 'Checkout Kiosk Name', 'Return Kiosk ID',\n",
       "       'Return Kiosk', 'Trip Duration Minutes', 'Month', 'Year'],\n",
       "      dtype='object')"
      ]
     },
     "execution_count": 5,
     "metadata": {},
     "output_type": "execute_result"
    }
   ],
   "source": [
    "#change checkout kiosk column name\n",
    "metrobikes.rename(columns = {'Checkout Kiosk':'Checkout Kiosk Name'}, inplace = True)\n",
    "metrobikes.columns"
   ]
  },
  {
   "cell_type": "code",
   "execution_count": 6,
   "id": "05c33770",
   "metadata": {},
   "outputs": [
    {
     "data": {
      "text/plain": [
       "Index(['Trip ID', 'Membership Type', 'Bicycle ID', 'Bike Type',\n",
       "       'Checkout Datetime', 'Checkout Date', 'Checkout Time',\n",
       "       'Checkout Kiosk ID', 'Checkout Kiosk Name', 'Return Kiosk ID',\n",
       "       'Return Kiosk Name', 'Trip Duration Minutes', 'Month', 'Year'],\n",
       "      dtype='object')"
      ]
     },
     "execution_count": 6,
     "metadata": {},
     "output_type": "execute_result"
    }
   ],
   "source": [
    "#change return kiosk column name\n",
    "metrobikes.rename(columns = {'Return Kiosk':'Return Kiosk Name'}, inplace = True)\n",
    "metrobikes.columns"
   ]
  },
  {
   "cell_type": "code",
   "execution_count": 7,
   "id": "5cfd5b9b",
   "metadata": {},
   "outputs": [
    {
     "data": {
      "text/plain": [
       "Index(['Trip ID', 'Membership Type', 'Bicycle ID', 'Bike Type',\n",
       "       'Checkout Datetime', 'Checkout Date', 'Checkout Time',\n",
       "       'Checkout Kiosk ID', 'Checkout Kiosk Name', 'Return Kiosk ID',\n",
       "       'Return Kiosk Name', 'Trip Time mins', 'Month', 'Year'],\n",
       "      dtype='object')"
      ]
     },
     "execution_count": 7,
     "metadata": {},
     "output_type": "execute_result"
    }
   ],
   "source": [
    "#change trip duration minutes\n",
    "metrobikes.rename(columns = {'Trip Duration Minutes':'Trip Time mins'}, inplace = True)\n",
    "metrobikes.columns"
   ]
  },
  {
   "cell_type": "markdown",
   "id": "fdb01a3a",
   "metadata": {},
   "source": [
    "## 3. Modify datatypes "
   ]
  },
  {
   "cell_type": "code",
   "execution_count": 8,
   "id": "15b2c0e0",
   "metadata": {},
   "outputs": [
    {
     "data": {
      "text/plain": [
       "Trip ID                  int64\n",
       "Membership Type         object\n",
       "Bicycle ID              object\n",
       "Bike Type               object\n",
       "Checkout Datetime       object\n",
       "Checkout Date           object\n",
       "Checkout Time           object\n",
       "Checkout Kiosk ID      float64\n",
       "Checkout Kiosk Name     object\n",
       "Return Kiosk ID         object\n",
       "Return Kiosk Name       object\n",
       "Trip Time mins           int64\n",
       "Month                    int64\n",
       "Year                     int64\n",
       "dtype: object"
      ]
     },
     "execution_count": 8,
     "metadata": {},
     "output_type": "execute_result"
    }
   ],
   "source": [
    "#check current datatypes\n",
    "metrobikes.dtypes"
   ]
  },
  {
   "cell_type": "code",
   "execution_count": 9,
   "id": "7fdfd819",
   "metadata": {},
   "outputs": [
    {
     "data": {
      "text/plain": [
       "Trip ID                   int64\n",
       "Membership Type          object\n",
       "Bicycle ID               object\n",
       "Bike Type              category\n",
       "Checkout Datetime        object\n",
       "Checkout Date            object\n",
       "Checkout Time            object\n",
       "Checkout Kiosk ID       float64\n",
       "Checkout Kiosk Name      object\n",
       "Return Kiosk ID          object\n",
       "Return Kiosk Name        object\n",
       "Trip Time mins            int64\n",
       "Month                     int64\n",
       "Year                      int64\n",
       "dtype: object"
      ]
     },
     "execution_count": 9,
     "metadata": {},
     "output_type": "execute_result"
    }
   ],
   "source": [
    "#change bike type to category and check for completion\n",
    "metrobikes['Bike Type'] = metrobikes['Bike Type'].astype('category')\n",
    "metrobikes.dtypes"
   ]
  },
  {
   "cell_type": "code",
   "execution_count": 11,
   "id": "70daf251",
   "metadata": {},
   "outputs": [
    {
     "data": {
      "text/plain": [
       "Trip ID                         int64\n",
       "Membership Type                object\n",
       "Bicycle ID                     object\n",
       "Bike Type                    category\n",
       "Checkout Datetime      datetime64[ns]\n",
       "Checkout Date                  object\n",
       "Checkout Time                  object\n",
       "Checkout Kiosk ID             float64\n",
       "Checkout Kiosk Name            object\n",
       "Return Kiosk ID                object\n",
       "Return Kiosk Name              object\n",
       "Trip Time mins                  int64\n",
       "Month                           int64\n",
       "Year                            int64\n",
       "dtype: object"
      ]
     },
     "execution_count": 11,
     "metadata": {},
     "output_type": "execute_result"
    }
   ],
   "source": [
    "#change checkout datetime to datetime and check for completion\n",
    "metrobikes['Checkout Datetime'] = pd.to_datetime(metrobikes['Checkout Datetime'])\n",
    "metrobikes.dtypes"
   ]
  },
  {
   "cell_type": "code",
   "execution_count": 12,
   "id": "badadb44",
   "metadata": {},
   "outputs": [
    {
     "data": {
      "text/plain": [
       "0   2017-12-01 09:51:41\n",
       "1   2015-03-13 16:20:24\n",
       "2   2014-10-14 08:33:54\n",
       "3   2014-10-14 08:32:03\n",
       "4   2015-03-13 16:20:15\n",
       "5   2017-08-30 15:14:30\n",
       "6   2017-12-03 13:52:35\n",
       "7   2017-12-03 15:01:36\n",
       "8   2017-12-04 17:24:12\n",
       "9   2017-12-09 10:48:17\n",
       "Name: Checkout Datetime, dtype: datetime64[ns]"
      ]
     },
     "execution_count": 12,
     "metadata": {},
     "output_type": "execute_result"
    }
   ],
   "source": [
    "metrobikes['Checkout Datetime'].head(10)"
   ]
  },
  {
   "cell_type": "code",
   "execution_count": 14,
   "id": "d0d91e2e",
   "metadata": {},
   "outputs": [
    {
     "data": {
      "text/plain": [
       "0   2017-12-01\n",
       "1   2015-03-13\n",
       "2   2014-10-14\n",
       "3   2014-10-14\n",
       "4   2015-03-13\n",
       "5   2017-08-30\n",
       "6   2017-12-03\n",
       "7   2017-12-03\n",
       "8   2017-12-04\n",
       "9   2017-12-09\n",
       "Name: Checkout Date, dtype: datetime64[ns]"
      ]
     },
     "execution_count": 14,
     "metadata": {},
     "output_type": "execute_result"
    }
   ],
   "source": [
    "#change checkout date to datetime and check for completion\n",
    "metrobikes['Checkout Date'] = pd.to_datetime(metrobikes['Checkout Date'])\n",
    "metrobikes['Checkout Date'].head(10)"
   ]
  },
  {
   "cell_type": "code",
   "execution_count": 15,
   "id": "d8277381",
   "metadata": {},
   "outputs": [
    {
     "data": {
      "text/plain": [
       "0   2023-09-14 09:51:41\n",
       "1   2023-09-14 16:20:24\n",
       "2   2023-09-14 08:33:54\n",
       "3   2023-09-14 08:32:03\n",
       "4   2023-09-14 16:20:15\n",
       "5   2023-09-14 15:14:30\n",
       "6   2023-09-14 13:52:35\n",
       "7   2023-09-14 15:01:36\n",
       "8   2023-09-14 17:24:12\n",
       "9   2023-09-14 10:48:17\n",
       "Name: Checkout Time, dtype: datetime64[ns]"
      ]
     },
     "execution_count": 15,
     "metadata": {},
     "output_type": "execute_result"
    }
   ],
   "source": [
    "#change checkout time to datetime and check for completion\n",
    "metrobikes['Checkout Time'] = pd.to_datetime(metrobikes['Checkout Time'])\n",
    "metrobikes['Checkout Time'].head(10)"
   ]
  },
  {
   "cell_type": "code",
   "execution_count": 16,
   "id": "bf7d6709",
   "metadata": {},
   "outputs": [
    {
     "data": {
      "text/plain": [
       "Trip ID                         int64\n",
       "Membership Type                object\n",
       "Bicycle ID                     object\n",
       "Bike Type                    category\n",
       "Checkout Datetime      datetime64[ns]\n",
       "Checkout Date          datetime64[ns]\n",
       "Checkout Time          datetime64[ns]\n",
       "Checkout Kiosk ID             float64\n",
       "Checkout Kiosk Name            object\n",
       "Return Kiosk ID                object\n",
       "Return Kiosk Name              object\n",
       "Trip Time mins                  int64\n",
       "Month                           int64\n",
       "Year                            int64\n",
       "dtype: object"
      ]
     },
     "execution_count": 16,
     "metadata": {},
     "output_type": "execute_result"
    }
   ],
   "source": [
    "#check all dates and times are now datetime\n",
    "metrobikes.dtypes"
   ]
  },
  {
   "cell_type": "markdown",
   "id": "abe778f0",
   "metadata": {},
   "source": [
    "## 4. Remove outliers (trip time >411 minutes) from trip time"
   ]
  },
  {
   "cell_type": "code",
   "execution_count": 22,
   "id": "7a26f695",
   "metadata": {},
   "outputs": [],
   "source": [
    "#remove rows where trip time >411\n",
    "metrobikes_no_outlier = metrobikes.drop(metrobikes[metrobikes['Trip Time mins'] > 411].index)"
   ]
  },
  {
   "cell_type": "code",
   "execution_count": 23,
   "id": "1812a2ba",
   "metadata": {},
   "outputs": [
    {
     "data": {
      "text/plain": [
       "411"
      ]
     },
     "execution_count": 23,
     "metadata": {},
     "output_type": "execute_result"
    }
   ],
   "source": [
    "#check maximum of trip time\n",
    "metrobikes_no_outlier['Trip Time mins'].max()"
   ]
  },
  {
   "cell_type": "markdown",
   "id": "3e50ec6f",
   "metadata": {},
   "source": [
    "### removed 14,778 rows as outliers"
   ]
  },
  {
   "cell_type": "markdown",
   "id": "3cd08e93",
   "metadata": {},
   "source": [
    "## 5. Check new shape"
   ]
  },
  {
   "cell_type": "code",
   "execution_count": 25,
   "id": "b9687f9a",
   "metadata": {},
   "outputs": [
    {
     "data": {
      "text/plain": [
       "(1976948, 14)"
      ]
     },
     "execution_count": 25,
     "metadata": {},
     "output_type": "execute_result"
    }
   ],
   "source": [
    "metrobikes_no_outlier.shape"
   ]
  },
  {
   "cell_type": "markdown",
   "id": "b6c88893",
   "metadata": {},
   "source": [
    "## 6. Export file as checkpoint"
   ]
  },
  {
   "cell_type": "code",
   "execution_count": 26,
   "id": "8bce9466",
   "metadata": {},
   "outputs": [],
   "source": [
    "#export to pkl\n",
    "metrobikes_no_outlier.to_pickle(os.path.join(path, \n",
    "                                             '02.Data', \n",
    "                                             'PreparedData', \n",
    "                                             'metrobikes_dtypes_outlierremoval.pkl'))"
   ]
  }
 ],
 "metadata": {
  "kernelspec": {
   "display_name": "Python 3 (ipykernel)",
   "language": "python",
   "name": "python3"
  },
  "language_info": {
   "codemirror_mode": {
    "name": "ipython",
    "version": 3
   },
   "file_extension": ".py",
   "mimetype": "text/x-python",
   "name": "python",
   "nbconvert_exporter": "python",
   "pygments_lexer": "ipython3",
   "version": "3.11.3"
  }
 },
 "nbformat": 4,
 "nbformat_minor": 5
}
